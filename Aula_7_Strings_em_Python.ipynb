{
  "nbformat": 4,
  "nbformat_minor": 0,
  "metadata": {
    "colab": {
      "provenance": [],
      "collapsed_sections": [],
      "authorship_tag": "ABX9TyOrYzf83rVCN9F77/vcLCUI",
      "include_colab_link": true
    },
    "kernelspec": {
      "name": "python3",
      "display_name": "Python 3"
    },
    "language_info": {
      "name": "python"
    }
  },
  "cells": [
    {
      "cell_type": "markdown",
      "metadata": {
        "id": "view-in-github",
        "colab_type": "text"
      },
      "source": [
        "<a href=\"https://colab.research.google.com/github/ElizangelaStudent/L-GICA-DE-PROGRAMA-O-I-PY-/blob/main/Aula_7_Strings_em_Python.ipynb\" target=\"_parent\"><img src=\"https://colab.research.google.com/assets/colab-badge.svg\" alt=\"Open In Colab\"/></a>"
      ]
    },
    {
      "cell_type": "markdown",
      "source": [
        "##**String em Python**\n",
        "\n",
        "###Uma string é uma coleção de caracteres - como se fosse uma lista, mas aceitando apenas elementos textuais. \n",
        "\n",
        "###Mas antes de adentramos na string, vamos conhecer uma função importante para nosso aprendizado:"
      ],
      "metadata": {
        "id": "nZ7FBQqE7l6y"
      }
    },
    {
      "cell_type": "markdown",
      "source": [
        "##**Função Help**\n",
        "\n",
        "\n",
        ">>A função python help() invoca o sistema de ajuda integrado interativo. Se o argumento for uma sequência, a sequência será tratada como o nome de um módulo, função, classe, palavra-chave ou tópico de documentação, e uma página de ajuda é impressa no console. Se o argumento for qualquer outro tipo de objeto, uma página de ajuda no objeto será exibida.\n"
      ],
      "metadata": {
        "id": "TM7P38Lpg1VX"
      }
    },
    {
      "cell_type": "markdown",
      "source": [
        "###**Keywords**\n",
        "\n",
        ">**Keywords**: são palavras-chave especiais reservadas que têm significados e propósitos específicos e não podem ser usadas para nada além desses propósitos específicos. Essas palavras-chave estão sempre disponíveis — você nunca terá que importá-las em seu código."
      ],
      "metadata": {
        "id": "gtiZFPu3iOR2"
      }
    },
    {
      "cell_type": "markdown",
      "source": [
        ">>Um exemplo de algo que você não pode fazer com palavras-chave Python é atribuir algo a eles. Se você tentar, então você vai ter uma SintaxeError. Você não terá um SintaxeError se tentar atribuir algo a uma função ou tipo embutido, mas ainda não é uma boa ideia. Para obter uma explicação mais aprofundada de como as palavras-chave podem ser mal utilizadas, confira a Sintaxe Inválida em Python: Common Reasons for SyntaxError.\n",
        "\n"
      ],
      "metadata": {
        "id": "VzVWdLxpitkF"
      }
    },
    {
      "cell_type": "code",
      "source": [
        "help('keywords') "
      ],
      "metadata": {
        "colab": {
          "base_uri": "https://localhost:8080/"
        },
        "outputId": "869db53d-6507-4406-8926-5d4b9a714522",
        "id": "SXXmblUSJONL"
      },
      "execution_count": null,
      "outputs": [
        {
          "output_type": "stream",
          "name": "stdout",
          "text": [
            "\n",
            "Here is a list of the Python keywords.  Enter any keyword to get more help.\n",
            "\n",
            "False               class               from                or\n",
            "None                continue            global              pass\n",
            "True                def                 if                  raise\n",
            "and                 del                 import              return\n",
            "as                  elif                in                  try\n",
            "assert              else                is                  while\n",
            "async               except              lambda              with\n",
            "await               finally             nonlocal            yield\n",
            "break               for                 not                 \n",
            "\n"
          ]
        }
      ]
    },
    {
      "cell_type": "markdown",
      "source": [
        "#####Podemos realizar essa função com a palavra str, veja abaixo:"
      ],
      "metadata": {
        "id": "7FrWqXi_kWp0"
      }
    },
    {
      "cell_type": "code",
      "source": [
        "help('str')"
      ],
      "metadata": {
        "colab": {
          "base_uri": "https://localhost:8080/"
        },
        "id": "bnotLWTpJZBI",
        "outputId": "d878cf4f-8cd5-4169-fe0b-2061ea51808c"
      },
      "execution_count": null,
      "outputs": [
        {
          "output_type": "stream",
          "name": "stdout",
          "text": [
            "Help on class str in module builtins:\n",
            "\n",
            "class str(object)\n",
            " |  str(object='') -> str\n",
            " |  str(bytes_or_buffer[, encoding[, errors]]) -> str\n",
            " |  \n",
            " |  Create a new string object from the given object. If encoding or\n",
            " |  errors is specified, then the object must expose a data buffer\n",
            " |  that will be decoded using the given encoding and error handler.\n",
            " |  Otherwise, returns the result of object.__str__() (if defined)\n",
            " |  or repr(object).\n",
            " |  encoding defaults to sys.getdefaultencoding().\n",
            " |  errors defaults to 'strict'.\n",
            " |  \n",
            " |  Methods defined here:\n",
            " |  \n",
            " |  __add__(self, value, /)\n",
            " |      Return self+value.\n",
            " |  \n",
            " |  __contains__(self, key, /)\n",
            " |      Return key in self.\n",
            " |  \n",
            " |  __eq__(self, value, /)\n",
            " |      Return self==value.\n",
            " |  \n",
            " |  __format__(self, format_spec, /)\n",
            " |      Return a formatted version of the string as described by format_spec.\n",
            " |  \n",
            " |  __ge__(self, value, /)\n",
            " |      Return self>=value.\n",
            " |  \n",
            " |  __getattribute__(self, name, /)\n",
            " |      Return getattr(self, name).\n",
            " |  \n",
            " |  __getitem__(self, key, /)\n",
            " |      Return self[key].\n",
            " |  \n",
            " |  __getnewargs__(...)\n",
            " |  \n",
            " |  __gt__(self, value, /)\n",
            " |      Return self>value.\n",
            " |  \n",
            " |  __hash__(self, /)\n",
            " |      Return hash(self).\n",
            " |  \n",
            " |  __iter__(self, /)\n",
            " |      Implement iter(self).\n",
            " |  \n",
            " |  __le__(self, value, /)\n",
            " |      Return self<=value.\n",
            " |  \n",
            " |  __len__(self, /)\n",
            " |      Return len(self).\n",
            " |  \n",
            " |  __lt__(self, value, /)\n",
            " |      Return self<value.\n",
            " |  \n",
            " |  __mod__(self, value, /)\n",
            " |      Return self%value.\n",
            " |  \n",
            " |  __mul__(self, value, /)\n",
            " |      Return self*value.\n",
            " |  \n",
            " |  __ne__(self, value, /)\n",
            " |      Return self!=value.\n",
            " |  \n",
            " |  __repr__(self, /)\n",
            " |      Return repr(self).\n",
            " |  \n",
            " |  __rmod__(self, value, /)\n",
            " |      Return value%self.\n",
            " |  \n",
            " |  __rmul__(self, value, /)\n",
            " |      Return value*self.\n",
            " |  \n",
            " |  __sizeof__(self, /)\n",
            " |      Return the size of the string in memory, in bytes.\n",
            " |  \n",
            " |  __str__(self, /)\n",
            " |      Return str(self).\n",
            " |  \n",
            " |  capitalize(self, /)\n",
            " |      Return a capitalized version of the string.\n",
            " |      \n",
            " |      More specifically, make the first character have upper case and the rest lower\n",
            " |      case.\n",
            " |  \n",
            " |  casefold(self, /)\n",
            " |      Return a version of the string suitable for caseless comparisons.\n",
            " |  \n",
            " |  center(self, width, fillchar=' ', /)\n",
            " |      Return a centered string of length width.\n",
            " |      \n",
            " |      Padding is done using the specified fill character (default is a space).\n",
            " |  \n",
            " |  count(...)\n",
            " |      S.count(sub[, start[, end]]) -> int\n",
            " |      \n",
            " |      Return the number of non-overlapping occurrences of substring sub in\n",
            " |      string S[start:end].  Optional arguments start and end are\n",
            " |      interpreted as in slice notation.\n",
            " |  \n",
            " |  encode(self, /, encoding='utf-8', errors='strict')\n",
            " |      Encode the string using the codec registered for encoding.\n",
            " |      \n",
            " |      encoding\n",
            " |        The encoding in which to encode the string.\n",
            " |      errors\n",
            " |        The error handling scheme to use for encoding errors.\n",
            " |        The default is 'strict' meaning that encoding errors raise a\n",
            " |        UnicodeEncodeError.  Other possible values are 'ignore', 'replace' and\n",
            " |        'xmlcharrefreplace' as well as any other name registered with\n",
            " |        codecs.register_error that can handle UnicodeEncodeErrors.\n",
            " |  \n",
            " |  endswith(...)\n",
            " |      S.endswith(suffix[, start[, end]]) -> bool\n",
            " |      \n",
            " |      Return True if S ends with the specified suffix, False otherwise.\n",
            " |      With optional start, test S beginning at that position.\n",
            " |      With optional end, stop comparing S at that position.\n",
            " |      suffix can also be a tuple of strings to try.\n",
            " |  \n",
            " |  expandtabs(self, /, tabsize=8)\n",
            " |      Return a copy where all tab characters are expanded using spaces.\n",
            " |      \n",
            " |      If tabsize is not given, a tab size of 8 characters is assumed.\n",
            " |  \n",
            " |  find(...)\n",
            " |      S.find(sub[, start[, end]]) -> int\n",
            " |      \n",
            " |      Return the lowest index in S where substring sub is found,\n",
            " |      such that sub is contained within S[start:end].  Optional\n",
            " |      arguments start and end are interpreted as in slice notation.\n",
            " |      \n",
            " |      Return -1 on failure.\n",
            " |  \n",
            " |  format(...)\n",
            " |      S.format(*args, **kwargs) -> str\n",
            " |      \n",
            " |      Return a formatted version of S, using substitutions from args and kwargs.\n",
            " |      The substitutions are identified by braces ('{' and '}').\n",
            " |  \n",
            " |  format_map(...)\n",
            " |      S.format_map(mapping) -> str\n",
            " |      \n",
            " |      Return a formatted version of S, using substitutions from mapping.\n",
            " |      The substitutions are identified by braces ('{' and '}').\n",
            " |  \n",
            " |  index(...)\n",
            " |      S.index(sub[, start[, end]]) -> int\n",
            " |      \n",
            " |      Return the lowest index in S where substring sub is found, \n",
            " |      such that sub is contained within S[start:end].  Optional\n",
            " |      arguments start and end are interpreted as in slice notation.\n",
            " |      \n",
            " |      Raises ValueError when the substring is not found.\n",
            " |  \n",
            " |  isalnum(self, /)\n",
            " |      Return True if the string is an alpha-numeric string, False otherwise.\n",
            " |      \n",
            " |      A string is alpha-numeric if all characters in the string are alpha-numeric and\n",
            " |      there is at least one character in the string.\n",
            " |  \n",
            " |  isalpha(self, /)\n",
            " |      Return True if the string is an alphabetic string, False otherwise.\n",
            " |      \n",
            " |      A string is alphabetic if all characters in the string are alphabetic and there\n",
            " |      is at least one character in the string.\n",
            " |  \n",
            " |  isascii(self, /)\n",
            " |      Return True if all characters in the string are ASCII, False otherwise.\n",
            " |      \n",
            " |      ASCII characters have code points in the range U+0000-U+007F.\n",
            " |      Empty string is ASCII too.\n",
            " |  \n",
            " |  isdecimal(self, /)\n",
            " |      Return True if the string is a decimal string, False otherwise.\n",
            " |      \n",
            " |      A string is a decimal string if all characters in the string are decimal and\n",
            " |      there is at least one character in the string.\n",
            " |  \n",
            " |  isdigit(self, /)\n",
            " |      Return True if the string is a digit string, False otherwise.\n",
            " |      \n",
            " |      A string is a digit string if all characters in the string are digits and there\n",
            " |      is at least one character in the string.\n",
            " |  \n",
            " |  isidentifier(self, /)\n",
            " |      Return True if the string is a valid Python identifier, False otherwise.\n",
            " |      \n",
            " |      Use keyword.iskeyword() to test for reserved identifiers such as \"def\" and\n",
            " |      \"class\".\n",
            " |  \n",
            " |  islower(self, /)\n",
            " |      Return True if the string is a lowercase string, False otherwise.\n",
            " |      \n",
            " |      A string is lowercase if all cased characters in the string are lowercase and\n",
            " |      there is at least one cased character in the string.\n",
            " |  \n",
            " |  isnumeric(self, /)\n",
            " |      Return True if the string is a numeric string, False otherwise.\n",
            " |      \n",
            " |      A string is numeric if all characters in the string are numeric and there is at\n",
            " |      least one character in the string.\n",
            " |  \n",
            " |  isprintable(self, /)\n",
            " |      Return True if the string is printable, False otherwise.\n",
            " |      \n",
            " |      A string is printable if all of its characters are considered printable in\n",
            " |      repr() or if it is empty.\n",
            " |  \n",
            " |  isspace(self, /)\n",
            " |      Return True if the string is a whitespace string, False otherwise.\n",
            " |      \n",
            " |      A string is whitespace if all characters in the string are whitespace and there\n",
            " |      is at least one character in the string.\n",
            " |  \n",
            " |  istitle(self, /)\n",
            " |      Return True if the string is a title-cased string, False otherwise.\n",
            " |      \n",
            " |      In a title-cased string, upper- and title-case characters may only\n",
            " |      follow uncased characters and lowercase characters only cased ones.\n",
            " |  \n",
            " |  isupper(self, /)\n",
            " |      Return True if the string is an uppercase string, False otherwise.\n",
            " |      \n",
            " |      A string is uppercase if all cased characters in the string are uppercase and\n",
            " |      there is at least one cased character in the string.\n",
            " |  \n",
            " |  join(self, iterable, /)\n",
            " |      Concatenate any number of strings.\n",
            " |      \n",
            " |      The string whose method is called is inserted in between each given string.\n",
            " |      The result is returned as a new string.\n",
            " |      \n",
            " |      Example: '.'.join(['ab', 'pq', 'rs']) -> 'ab.pq.rs'\n",
            " |  \n",
            " |  ljust(self, width, fillchar=' ', /)\n",
            " |      Return a left-justified string of length width.\n",
            " |      \n",
            " |      Padding is done using the specified fill character (default is a space).\n",
            " |  \n",
            " |  lower(self, /)\n",
            " |      Return a copy of the string converted to lowercase.\n",
            " |  \n",
            " |  lstrip(self, chars=None, /)\n",
            " |      Return a copy of the string with leading whitespace removed.\n",
            " |      \n",
            " |      If chars is given and not None, remove characters in chars instead.\n",
            " |  \n",
            " |  partition(self, sep, /)\n",
            " |      Partition the string into three parts using the given separator.\n",
            " |      \n",
            " |      This will search for the separator in the string.  If the separator is found,\n",
            " |      returns a 3-tuple containing the part before the separator, the separator\n",
            " |      itself, and the part after it.\n",
            " |      \n",
            " |      If the separator is not found, returns a 3-tuple containing the original string\n",
            " |      and two empty strings.\n",
            " |  \n",
            " |  replace(self, old, new, count=-1, /)\n",
            " |      Return a copy with all occurrences of substring old replaced by new.\n",
            " |      \n",
            " |        count\n",
            " |          Maximum number of occurrences to replace.\n",
            " |          -1 (the default value) means replace all occurrences.\n",
            " |      \n",
            " |      If the optional argument count is given, only the first count occurrences are\n",
            " |      replaced.\n",
            " |  \n",
            " |  rfind(...)\n",
            " |      S.rfind(sub[, start[, end]]) -> int\n",
            " |      \n",
            " |      Return the highest index in S where substring sub is found,\n",
            " |      such that sub is contained within S[start:end].  Optional\n",
            " |      arguments start and end are interpreted as in slice notation.\n",
            " |      \n",
            " |      Return -1 on failure.\n",
            " |  \n",
            " |  rindex(...)\n",
            " |      S.rindex(sub[, start[, end]]) -> int\n",
            " |      \n",
            " |      Return the highest index in S where substring sub is found,\n",
            " |      such that sub is contained within S[start:end].  Optional\n",
            " |      arguments start and end are interpreted as in slice notation.\n",
            " |      \n",
            " |      Raises ValueError when the substring is not found.\n",
            " |  \n",
            " |  rjust(self, width, fillchar=' ', /)\n",
            " |      Return a right-justified string of length width.\n",
            " |      \n",
            " |      Padding is done using the specified fill character (default is a space).\n",
            " |  \n",
            " |  rpartition(self, sep, /)\n",
            " |      Partition the string into three parts using the given separator.\n",
            " |      \n",
            " |      This will search for the separator in the string, starting at the end. If\n",
            " |      the separator is found, returns a 3-tuple containing the part before the\n",
            " |      separator, the separator itself, and the part after it.\n",
            " |      \n",
            " |      If the separator is not found, returns a 3-tuple containing two empty strings\n",
            " |      and the original string.\n",
            " |  \n",
            " |  rsplit(self, /, sep=None, maxsplit=-1)\n",
            " |      Return a list of the words in the string, using sep as the delimiter string.\n",
            " |      \n",
            " |        sep\n",
            " |          The delimiter according which to split the string.\n",
            " |          None (the default value) means split according to any whitespace,\n",
            " |          and discard empty strings from the result.\n",
            " |        maxsplit\n",
            " |          Maximum number of splits to do.\n",
            " |          -1 (the default value) means no limit.\n",
            " |      \n",
            " |      Splits are done starting at the end of the string and working to the front.\n",
            " |  \n",
            " |  rstrip(self, chars=None, /)\n",
            " |      Return a copy of the string with trailing whitespace removed.\n",
            " |      \n",
            " |      If chars is given and not None, remove characters in chars instead.\n",
            " |  \n",
            " |  split(self, /, sep=None, maxsplit=-1)\n",
            " |      Return a list of the words in the string, using sep as the delimiter string.\n",
            " |      \n",
            " |      sep\n",
            " |        The delimiter according which to split the string.\n",
            " |        None (the default value) means split according to any whitespace,\n",
            " |        and discard empty strings from the result.\n",
            " |      maxsplit\n",
            " |        Maximum number of splits to do.\n",
            " |        -1 (the default value) means no limit.\n",
            " |  \n",
            " |  splitlines(self, /, keepends=False)\n",
            " |      Return a list of the lines in the string, breaking at line boundaries.\n",
            " |      \n",
            " |      Line breaks are not included in the resulting list unless keepends is given and\n",
            " |      true.\n",
            " |  \n",
            " |  startswith(...)\n",
            " |      S.startswith(prefix[, start[, end]]) -> bool\n",
            " |      \n",
            " |      Return True if S starts with the specified prefix, False otherwise.\n",
            " |      With optional start, test S beginning at that position.\n",
            " |      With optional end, stop comparing S at that position.\n",
            " |      prefix can also be a tuple of strings to try.\n",
            " |  \n",
            " |  strip(self, chars=None, /)\n",
            " |      Return a copy of the string with leading and trailing whitespace removed.\n",
            " |      \n",
            " |      If chars is given and not None, remove characters in chars instead.\n",
            " |  \n",
            " |  swapcase(self, /)\n",
            " |      Convert uppercase characters to lowercase and lowercase characters to uppercase.\n",
            " |  \n",
            " |  title(self, /)\n",
            " |      Return a version of the string where each word is titlecased.\n",
            " |      \n",
            " |      More specifically, words start with uppercased characters and all remaining\n",
            " |      cased characters have lower case.\n",
            " |  \n",
            " |  translate(self, table, /)\n",
            " |      Replace each character in the string using the given translation table.\n",
            " |      \n",
            " |        table\n",
            " |          Translation table, which must be a mapping of Unicode ordinals to\n",
            " |          Unicode ordinals, strings, or None.\n",
            " |      \n",
            " |      The table must implement lookup/indexing via __getitem__, for instance a\n",
            " |      dictionary or list.  If this operation raises LookupError, the character is\n",
            " |      left untouched.  Characters mapped to None are deleted.\n",
            " |  \n",
            " |  upper(self, /)\n",
            " |      Return a copy of the string converted to uppercase.\n",
            " |  \n",
            " |  zfill(self, width, /)\n",
            " |      Pad a numeric string with zeros on the left, to fill a field of the given width.\n",
            " |      \n",
            " |      The string is never truncated.\n",
            " |  \n",
            " |  ----------------------------------------------------------------------\n",
            " |  Static methods defined here:\n",
            " |  \n",
            " |  __new__(*args, **kwargs) from builtins.type\n",
            " |      Create and return a new object.  See help(type) for accurate signature.\n",
            " |  \n",
            " |  maketrans(x, y=None, z=None, /)\n",
            " |      Return a translation table usable for str.translate().\n",
            " |      \n",
            " |      If there is only one argument, it must be a dictionary mapping Unicode\n",
            " |      ordinals (integers) or characters to Unicode ordinals, strings or None.\n",
            " |      Character keys will be then converted to ordinals.\n",
            " |      If there are two arguments, they must be strings of equal length, and\n",
            " |      in the resulting dictionary, each character in x will be mapped to the\n",
            " |      character at the same position in y. If there is a third argument, it\n",
            " |      must be a string, whose characters will be mapped to None in the result.\n",
            "\n"
          ]
        }
      ]
    },
    {
      "cell_type": "markdown",
      "source": [
        "##**String em Python**\n",
        "\n",
        "###Um tipo de dados bastante usado no dia a dia são as strings, ou cadeias de caracteres (ou sequências de caracteres). O tipo de dados string, ou **str** como é chamado em Python, possui várias operações úteis associadas a ele. Essas operações tornam Python uma linguagem bastante propícia para manipulação de textos.\n",
        "\n",
        "###Os exemplos abaixo ilustram o tipo de dados string e as operações associadas a ele."
      ],
      "metadata": {
        "id": "fSbj_y0jlVJV"
      }
    },
    {
      "cell_type": "markdown",
      "source": [
        "##**Entrada e saida**\n",
        "\n",
        "- Entrada: input\n",
        "- Saida: print"
      ],
      "metadata": {
        "id": "8gkVRcohFl0x"
      }
    },
    {
      "cell_type": "code",
      "source": [
        "string  = input('Digite uma mensagem:')\n",
        "print(string)"
      ],
      "metadata": {
        "colab": {
          "base_uri": "https://localhost:8080/"
        },
        "id": "gqEOzP9DJln_",
        "outputId": "4e645ba0-c4b3-44f2-883e-349d16cc9caa"
      },
      "execution_count": null,
      "outputs": [
        {
          "output_type": "stream",
          "name": "stdout",
          "text": [
            "Digite uma mensagem:Boa noite!!\n",
            "Boa noite!!\n"
          ]
        }
      ]
    },
    {
      "cell_type": "markdown",
      "source": [
        "###**str.format()** é um dos métodos de formatação de string em Python3, que permite várias substituições e formatação de valor. Esse método nos permite concatenar elementos em uma string por meio da formatação posicional.\n",
        "\n",
        "###Usando um único formatador:\n",
        "###Os formatadores trabalham colocando um ou mais campos de substituição e espaços reservados definidos por um par de chaves {} em uma string e chamando str.format(). O valor que desejamos colocar nos espaços reservados e concatenar com a string passada como parâmetros para a função de formato.\n",
        "\n",
        "###Sintaxe: {} .format (valor)\n",
        "\n",
        "###Parâmetros:\n",
        "- (valor): Pode ser um número inteiro, constante numérica de ponto flutuante, string, caracteres ou mesmo variáveis.\n",
        "\n",
        "- Returntype: Retorna uma string formatada com o valor passado como parâmetro na posição do marcador."
      ],
      "metadata": {
        "id": "zOHy-zMnKWVX"
      }
    },
    {
      "cell_type": "code",
      "source": [
        "pi = 3.14\n",
        "print('O valor do pi é {}.'.format(pi))   #utilizando o format"
      ],
      "metadata": {
        "colab": {
          "base_uri": "https://localhost:8080/"
        },
        "id": "GW06w44EJuSw",
        "outputId": "8ea38ee0-26d4-40da-c8fe-d9fd8214f220"
      },
      "execution_count": null,
      "outputs": [
        {
          "output_type": "stream",
          "name": "stdout",
          "text": [
            "O valor do pi é 3.14.\n"
          ]
        }
      ]
    },
    {
      "cell_type": "code",
      "source": [
        "a = 10\n",
        "b = '20'\n",
        "c = 30.5\n",
        "\n",
        "print('valores %d %s %.2f' % (a, b, c))   # essa 2.f representa o numero float e a quantidade de casas que a pessoa deseja, nesse caso são duas."
      ],
      "metadata": {
        "colab": {
          "base_uri": "https://localhost:8080/"
        },
        "id": "Vl8etqX0J175",
        "outputId": "a610342c-bc20-4f5a-abdc-8aeb409b102b"
      },
      "execution_count": null,
      "outputs": [
        {
          "output_type": "stream",
          "name": "stdout",
          "text": [
            "valores 10 20 30.50\n"
          ]
        }
      ]
    },
    {
      "cell_type": "markdown",
      "source": [
        "##**Conversão de valores**\n",
        "\n",
        "###A conversão se dará por meio das operações aritmeticas vista nas aulas anteriores"
      ],
      "metadata": {
        "id": "dfqpxretLy8S"
      }
    },
    {
      "cell_type": "code",
      "source": [
        "30/10"
      ],
      "metadata": {
        "colab": {
          "base_uri": "https://localhost:8080/"
        },
        "id": "uJB9kCcjMLBH",
        "outputId": "84b5f33f-934f-4826-dcb1-153e3b4fa6e5"
      },
      "execution_count": null,
      "outputs": [
        {
          "output_type": "execute_result",
          "data": {
            "text/plain": [
              "3.0"
            ]
          },
          "metadata": {},
          "execution_count": 9
        }
      ]
    },
    {
      "cell_type": "markdown",
      "source": [
        "##**Tipo numérico para string**"
      ],
      "metadata": {
        "id": "MRHTISd5NIKr"
      }
    },
    {
      "cell_type": "markdown",
      "source": [
        "###**Tipo inteiro**"
      ],
      "metadata": {
        "id": "4-aAmDebNMpM"
      }
    },
    {
      "cell_type": "code",
      "source": [
        "pop_string = '200_000_000'    #utilizando a palavra int\n",
        "pop_inteiro = int(pop_string)\n",
        "\n",
        "print(f'A população brasileira é de ' + str(pop_inteiro) + ' pessoas.')\n",
        "type(pop_inteiro)"
      ],
      "metadata": {
        "id": "uIOpXv13NS-W"
      },
      "execution_count": null,
      "outputs": []
    },
    {
      "cell_type": "markdown",
      "source": [
        "###**Tipo real**"
      ],
      "metadata": {
        "id": "e_JK_tYDNbJG"
      }
    },
    {
      "cell_type": "code",
      "source": [
        "pi_float = 3.14             #utilizando a palavra float\n",
        "pi_string = str(pi_float)\n",
        "\n",
        "print(f'O tipo de pi_float é {type(pi_float)} e o tipo de pi_string é {type(pi_string)}' )"
      ],
      "metadata": {
        "colab": {
          "base_uri": "https://localhost:8080/"
        },
        "id": "MF8a0ThKNe8H",
        "outputId": "302c97b8-f681-4778-8e6d-910c6d4f7536"
      },
      "execution_count": null,
      "outputs": [
        {
          "output_type": "stream",
          "name": "stdout",
          "text": [
            "O tipo de pi_float é <class 'float'> e o tipo de pi_string é <class 'str'>\n"
          ]
        }
      ]
    },
    {
      "cell_type": "markdown",
      "source": [
        "##**Teste 1**"
      ],
      "metadata": {
        "id": "J3qXngkuNBej"
      }
    },
    {
      "cell_type": "markdown",
      "source": [
        "**Faça um programa que execute a lógica de login em um sistema. <br>\n",
        "O programa deve solicitar que o usuário digite um `nome de usuário` e `senha`.<br> \n",
        "O programa deve verificar se o `nome de usuário` é igual a \"admin\" e `senha` =  \"admin123\" . <br>**\n",
        "> Se os dados estiverem corretos, o programa deve exibir uma mensagem de boas-vindas.<br> Caso contrário, exibir uma mensagem de erro."
      ],
      "metadata": {
        "id": "5no-gYpbN4cT"
      }
    },
    {
      "cell_type": "code",
      "source": [
        "while True:\n",
        "    user = input('Digite o usuário: ')\n",
        "    senha = input('Digite a senha: ')\n",
        "\n",
        "    if (user != 'admin') or (senha != 'admin123'):\n",
        "        print(f'Seu {user} não foi encontrado.')\n",
        "    else:\n",
        "        print(f'Bem vindo {user}.')\n",
        "        break"
      ],
      "metadata": {
        "colab": {
          "base_uri": "https://localhost:8080/"
        },
        "id": "xj95Tj00OLQO",
        "outputId": "27b1f728-8294-4a4e-afe3-7fba126da356"
      },
      "execution_count": null,
      "outputs": [
        {
          "output_type": "stream",
          "name": "stdout",
          "text": [
            "Digite o usuário: ADMIN\n",
            "Digite a senha: ADMIN123\n",
            "Seu ADMIN não foi encontrado.\n",
            "Digite o usuário: admin\n",
            "Digite a senha: admin123\n",
            "Bem vindo admin.\n"
          ]
        }
      ]
    },
    {
      "cell_type": "markdown",
      "source": [
        "##**Criando strings**"
      ],
      "metadata": {
        "id": "PTRwKubYOY7X"
      }
    },
    {
      "cell_type": "code",
      "source": [
        "string1 = 'Vamo codar'\n",
        "string2 = \"Let's code\""
      ],
      "metadata": {
        "id": "-nowDpviOcrG"
      },
      "execution_count": null,
      "outputs": []
    },
    {
      "cell_type": "code",
      "source": [
        "string1 = 'Vamo codar'\n",
        "string2 = \"string 1 \\\n",
        "           string 2 \\\n",
        "           string 3\"\n",
        "string2"
      ],
      "metadata": {
        "colab": {
          "base_uri": "https://localhost:8080/",
          "height": 36
        },
        "id": "pbcKbCZ_Ofy_",
        "outputId": "293ea2ef-427e-4def-c5e3-67157b256748"
      },
      "execution_count": null,
      "outputs": [
        {
          "output_type": "execute_result",
          "data": {
            "text/plain": [
              "'string 1            string 2            string 3'"
            ],
            "application/vnd.google.colaboratory.intrinsic+json": {
              "type": "string"
            }
          },
          "metadata": {},
          "execution_count": 13
        }
      ]
    },
    {
      "cell_type": "code",
      "source": [
        "string1 = '''Vamo codar'''\n",
        "string2 = \"\"\"Let's Code\"\"\""
      ],
      "metadata": {
        "id": "IJfZaHvIOlma"
      },
      "execution_count": null,
      "outputs": []
    },
    {
      "cell_type": "markdown",
      "source": [
        "##**Acessando os elementos de uma string**\n",
        "\n",
        ">podemos acessar por meio dos indices, temos dois tipos:\n",
        " - **reverso**: negativo e decrescente\n",
        " - **progressivo**: positivo e crescente"
      ],
      "metadata": {
        "id": "KxXgnR6MOuG3"
      }
    },
    {
      "cell_type": "markdown",
      "source": [
        "![title](https://s3-sa-east-1.amazonaws.com/lcpi/37773811-c38d-496c-a810-c73fe072b684.png)"
      ],
      "metadata": {
        "id": "7i-oex8DO6J9"
      }
    },
    {
      "cell_type": "code",
      "source": [
        "l= [4,6,8,9]\n",
        "l[-2]\n"
      ],
      "metadata": {
        "colab": {
          "base_uri": "https://localhost:8080/"
        },
        "id": "WSSBSuOzPjTn",
        "outputId": "968a69ca-0a53-40ca-912c-a76a02c25088"
      },
      "execution_count": null,
      "outputs": [
        {
          "output_type": "execute_result",
          "data": {
            "text/plain": [
              "8"
            ]
          },
          "metadata": {},
          "execution_count": 18
        }
      ]
    },
    {
      "cell_type": "code",
      "source": [
        "l[2]"
      ],
      "metadata": {
        "colab": {
          "base_uri": "https://localhost:8080/"
        },
        "id": "OH_n7bS0P4Da",
        "outputId": "3980ce45-08ad-43b8-974f-57df8fa040b1"
      },
      "execution_count": null,
      "outputs": [
        {
          "output_type": "execute_result",
          "data": {
            "text/plain": [
              "8"
            ]
          },
          "metadata": {},
          "execution_count": 19
        }
      ]
    },
    {
      "cell_type": "markdown",
      "source": [
        "##**Acessando partes de uma string**"
      ],
      "metadata": {
        "id": "siwtdHhBP9v_"
      }
    },
    {
      "cell_type": "markdown",
      "source": [
        "> **string[ início : parada]** <br>\n",
        "    - início: incluído <br>\n",
        "    - parada: não incluído <br>"
      ],
      "metadata": {
        "id": "0n0nQhmkQHXW"
      }
    },
    {
      "cell_type": "markdown",
      "source": [
        "###**Teste 2**"
      ],
      "metadata": {
        "id": "XMYuEHFAQVqJ"
      }
    },
    {
      "cell_type": "markdown",
      "source": [
        "###Palíndromos são palavras que possuem a mesma sequencia de letras tanto da esquerda para a direita quanto da direita para a esquerda. Faça um programa que receba do usuário uma entrada qualquer e verifique se a entrada é um palíndromo."
      ],
      "metadata": {
        "id": "Zzy3cVaUQSHf"
      }
    },
    {
      "cell_type": "code",
      "source": [
        "palavra = input(\"Digite uma palavra: \")\n",
        "if str(palavra) == str(palavra)[::-1] :\n",
        "    print(\"Essa palavra é um Palindrome\")\n",
        "else:\n",
        "    print(\"Essa palavra não é Palindrome\")"
      ],
      "metadata": {
        "colab": {
          "base_uri": "https://localhost:8080/"
        },
        "id": "Vb4ZPxknVnIt",
        "outputId": "a708a33e-3e1c-44c0-ad55-2c3e87851aac"
      },
      "execution_count": null,
      "outputs": [
        {
          "output_type": "stream",
          "name": "stdout",
          "text": [
            "Digite uma palavra: ana\n",
            "Essa palavra é um Palindrome\n"
          ]
        }
      ]
    },
    {
      "cell_type": "markdown",
      "source": [
        "##**Strings vs Listas**"
      ],
      "metadata": {
        "id": "CibzPISGQiZw"
      }
    },
    {
      "cell_type": "markdown",
      "source": [
        "###Dizemos que uma string é imutável. Isso significa que não podemos alterar um elemento individual da string. O programa abaixo produz um erro:\n",
        "\n"
      ],
      "metadata": {
        "id": "Cpa2QGLEQlpu"
      }
    },
    {
      "cell_type": "code",
      "source": [
        "frase = \"let's code\"\n",
        "frase[0] \n"
      ],
      "metadata": {
        "colab": {
          "base_uri": "https://localhost:8080/",
          "height": 36
        },
        "id": "Ahq0ABUlQzuW",
        "outputId": "3a905854-dd83-4742-dfca-e0879ac20049"
      },
      "execution_count": null,
      "outputs": [
        {
          "output_type": "execute_result",
          "data": {
            "text/plain": [
              "'l'"
            ],
            "application/vnd.google.colaboratory.intrinsic+json": {
              "type": "string"
            }
          },
          "metadata": {},
          "execution_count": 21
        }
      ]
    },
    {
      "cell_type": "markdown",
      "source": [
        ">Para alterar uma string, é necessário redefini-la, de modo que a string original será descartada e a nova (alterada) será escrita por cima da original. Ou, alternativamente, podemos gerar uma cópia da string com alterações. Veremos mais detalhes adiante."
      ],
      "metadata": {
        "id": "OVZ2HnwBQ84n"
      }
    },
    {
      "cell_type": "markdown",
      "source": [
        "###As Strings como ditas anteriores, elas são imutáveis, e isso pode nos dar um pouco de trabalho quando queremos fazer pequenas alterações, como forçar um caractere a ser maiúsculo ou acrescentar um caractere à string. Uma das formas de fazer envolve a \"soma cumulativa\" apresentada acima. Outra forma envolve **transformar a nossa string em lista**, que é uma estrutura mutável. Execute o programa abaixo:"
      ],
      "metadata": {
        "id": "zWjAsYpSW59Z"
      }
    },
    {
      "cell_type": "code",
      "source": [
        "string = \"let's Code\"\n",
        "lista = list(string)\n",
        "lista[0] = 'L'\n",
        "lista.append('!')\n",
        "print(lista)\n",
        "# resultado:\n",
        "# ['L', 'e', 't', \"'\", 's', ' ', 'C', 'o', 'd', 'e', '!']"
      ],
      "metadata": {
        "colab": {
          "base_uri": "https://localhost:8080/"
        },
        "id": "wDHsfSdJXGT2",
        "outputId": "4c397c69-9e3a-437e-e52f-1b0b12f9a065"
      },
      "execution_count": null,
      "outputs": [
        {
          "output_type": "stream",
          "name": "stdout",
          "text": [
            "['L', 'e', 't', \"'\", 's', ' ', 'C', 'o', 'd', 'e', '!']\n"
          ]
        }
      ]
    },
    {
      "cell_type": "markdown",
      "source": [
        "###Como a lista é mutável, nela conseguimos alterar uma letra e adicionar um símbolo ao final sem dificuldades! Porém, infelizmente nosso resultado é uma lista, o que não ficou muito legível para o usuário. Podemos resolver isso utilizando a função join. Veremos em breve como ele realmente funciona, mas por hora podemos utilizá-lo da seguinte maneira para transformar lista em string:"
      ],
      "metadata": {
        "id": "ruKcaFg3XLlH"
      }
    },
    {
      "cell_type": "code",
      "source": [
        "string_original = \"let's Code\"\n",
        "lista = list(string_original)\n",
        "lista[0] = 'L'\n",
        "lista.append('!')\n",
        "string_final = ''.join(lista) # antes do . temos uma string vazia\n",
        "print(string_final)\n",
        "# resultado: \"Let's Code!\"\n",
        "##Para as modificações mais comuns, temos algumas funções prontas que poderão ser bastante úteis!"
      ],
      "metadata": {
        "colab": {
          "base_uri": "https://localhost:8080/"
        },
        "id": "EjZ_7oGVXP-G",
        "outputId": "264e230c-8279-4354-cb2f-196498c1228a"
      },
      "execution_count": null,
      "outputs": [
        {
          "output_type": "stream",
          "name": "stdout",
          "text": [
            "Let's Code!\n"
          ]
        }
      ]
    },
    {
      "cell_type": "markdown",
      "source": [
        "##**Operações com strings**"
      ],
      "metadata": {
        "id": "TcZ_S0SrRD6Q"
      }
    },
    {
      "cell_type": "markdown",
      "source": [
        "###Alguns operadores aritméticos funcionam com strings também. Naturalmente, eles não servem para fazer contas, mas nos permitem fazer de forma intuitiva algumas operações bastante úteis.\n",
        "\n",
        "###O operador + serve como um operador de concatenação de strings: unir duas strings. Observe o exemplo abaixo:\n",
        "\n"
      ],
      "metadata": {
        "id": "mYcIdn7rRYs_"
      }
    },
    {
      "cell_type": "code",
      "source": [
        "string1 = 'Olá'\n",
        "string2 = 'Mundo'\n",
        "resultado = string1 + string2  \n",
        "print(resultado) # Na tela: 'OláMundo'\n"
      ],
      "metadata": {
        "colab": {
          "base_uri": "https://localhost:8080/"
        },
        "id": "Xm1CDEuzReCV",
        "outputId": "780745f7-afe3-43de-aac1-98c040cc9299"
      },
      "execution_count": null,
      "outputs": [
        {
          "output_type": "stream",
          "name": "stdout",
          "text": [
            "OláMundo\n"
          ]
        }
      ]
    },
    {
      "cell_type": "markdown",
      "source": [
        "**para colocar as palavras separadas podemos acrescentar o operador aritmetico mais e aspas vazias(+\" \"), veja abaixo:** "
      ],
      "metadata": {
        "id": "OMjI1vfaRvDW"
      }
    },
    {
      "cell_type": "code",
      "source": [
        "string1 = 'Olá'\n",
        "string2 = 'Mundo'\n",
        "resultado = string1 + \" \"+ string2  \n",
        "print(resultado) # Na tela: 'Olá Mundo'"
      ],
      "metadata": {
        "colab": {
          "base_uri": "https://localhost:8080/"
        },
        "id": "xG30SlkyR9-O",
        "outputId": "8ec4184f-e952-4e6a-b75a-19bac98b9272"
      },
      "execution_count": null,
      "outputs": [
        {
          "output_type": "stream",
          "name": "stdout",
          "text": [
            "Olá Mundo\n"
          ]
        }
      ]
    },
    {
      "cell_type": "markdown",
      "source": [
        "###Outro operador que funciona é o operador *. Este operador não é usado entre duas strings, mas entre uma string e um int. Ele repetirá a string o número de vezes dado pelo int."
      ],
      "metadata": {
        "id": "Q31eZF-fSbs3"
      }
    },
    {
      "cell_type": "code",
      "source": [
        "string = 'Olá mundo ! '\n",
        "multi = string * 3\n",
        "print(multi) # Na tela: 'Olá mundo ! Olá mundo ! Olá mundo !'"
      ],
      "metadata": {
        "colab": {
          "base_uri": "https://localhost:8080/"
        },
        "id": "EX-du4h2SpTn",
        "outputId": "681caa1a-dc14-4c10-a8ed-abf123192aa0"
      },
      "execution_count": null,
      "outputs": [
        {
          "output_type": "stream",
          "name": "stdout",
          "text": [
            "Olá mundo ! Olá mundo ! Olá mundo ! \n"
          ]
        }
      ]
    },
    {
      "cell_type": "markdown",
      "source": [
        "##**Operações lógicas**"
      ],
      "metadata": {
        "id": "i340HCAlTEWk"
      }
    },
    {
      "cell_type": "markdown",
      "source": [
        "###Os operadores lógicos (<, >, <=, =>, != e ==) também funcionam com strings. Esses operadores são case sensitive, ou seja, diferenciam maiúsculas de minúsculas.\n",
        "\n",
        "###De maneira muito simplificada e desconsiderando diferenças entre maiúsculas e minúsculas, podemos dizer que eles consideram ordem alfabética: 'banana' é maior do que 'abacaxi'.\n",
        "\n",
        "###A explicação mais completa é a seguinte: internamente, cada caractere é armazenado como um número. Quando utilizamos qualquer tipo de aplicação que irá exibir um texto (um editor de textos, navegador de internet, ou mesmo os nossos programinhas em Python rodando no terminal), a aplicação usa esses números como índices em uma tabela de codificação de caracteres."
      ],
      "metadata": {
        "id": "t9ZGR5VCTYXV"
      }
    },
    {
      "cell_type": "markdown",
      "source": [
        "##**Tabela ASCII e outras representações**"
      ],
      "metadata": {
        "id": "sLu2aURATvHm"
      }
    },
    {
      "cell_type": "markdown",
      "source": [
        "![title](https://s3-sa-east-1.amazonaws.com/lcpi/f2abe68f-4eb7-4774-9438-d622328ea125.gif)"
      ],
      "metadata": {
        "id": "bbSr3fskT1To"
      }
    },
    {
      "cell_type": "markdown",
      "source": [
        "###A explicação mais completa é a seguinte: internamente, cada caractere é armazenado como um número. Quando utilizamos qualquer tipo de aplicação que irá exibir um texto (um editor de textos, navegador de internet, ou mesmo os nossos programinhas em Python rodando no terminal), a aplicação usa esses números como índices em uma tabela de codificação de caracteres.\n",
        "\n",
        "###Temos diversos esquemas diferentes de codificação de caracteres em uso pelo mundo, e quando você está usando um programa ou navegando por um site e você nota símbolos estranhos no texto (frequentemente onde teríamos caracteres especiais, como letras com acento), é provável que o autor do texto tenha utilizado uma tabela e o seu computador esteja usando outra.\n",
        "\n",
        "###Vários programas permitem a conversão entre essas tabelas, e você já deve ter visto essa \"sopa de letrinhas\" em alguma aba ou janela de configuração em algum editor de textos: utf-8, utf-16, windows-1252 (ou cp-2152), e até mesmo alguns padrões ISO.\n",
        "\n",
        "###Para ilustrar a ideia, vamos colocar aqui uma das tabelas mais simples e abaixo dele tem o codigo que mostra cada item da tabela ASCII:"
      ],
      "metadata": {
        "id": "3dUITKMiUdjH"
      }
    },
    {
      "cell_type": "markdown",
      "source": [
        "![title2](https://upload.wikimedia.org/wikipedia/commons/thumb/1/1b/ASCII-Table-wide.svg/1200px-ASCII-Table-wide.svg.png)"
      ],
      "metadata": {
        "id": "Uh6CNCm3T6T5"
      }
    },
    {
      "cell_type": "markdown",
      "source": [
        "###Note que o caractere 'A' está no índice 65, o 'B' está no índice 66, e assim sucessivamente. Por isso, 'Abacate' < 'Banana' é verdadeiro: a primeira string começa com uma letra no índice 65 da tabela, a segunda com uma letra no índice 66.\n",
        "\n",
        ">No caso de 'Abacate' e 'Abacaxi', temos um \"empate\" das 5 primeiras letras. Então é a sexta letra que vai mandar: 'x' é maior do que 't', por estar em uma posição superior na tabela.\n",
        "\n",
        "###Note que a ordem não é exatamente alfabética: entre os caracteres maiúsculos, seguimos ordem alfabética. Entre os minúsculos, idem. E entre os dígitos numéricos, também temos ordem crescente correspondente aos valores. Mas todos os minúsculos são \"maiores\" do que qualquer maiúsculo, que por sua vez são \"maiores\" do que qualquer dígito numérico. Símbolos, operadores e sinais de pontuação estão em posições diversas."
      ],
      "metadata": {
        "id": "CvA9SKirU8Qm"
      }
    },
    {
      "cell_type": "code",
      "source": [
        "for letra in range(255):\n",
        "    print(\"%d = %c\" %(letra, chr(letra)))"
      ],
      "metadata": {
        "colab": {
          "base_uri": "https://localhost:8080/"
        },
        "id": "FowWZNKxT2wW",
        "outputId": "19309286-1b54-4a55-e956-9e6aba08bf42"
      },
      "execution_count": null,
      "outputs": [
        {
          "output_type": "stream",
          "name": "stdout",
          "text": [
            "0 = \u0000\n",
            "1 = \u0001\n",
            "2 = \u0002\n",
            "3 = \u0003\n",
            "4 = \u0004\n",
            "5 = \u0005\n",
            "6 = \u0006\n",
            "7 = \u0007\n",
            "8 = \b\n",
            "9 = \t\n",
            "10 = \n",
            "\n",
            "11 = \u000b\n",
            "12 = \f\n",
            "13 = \r\n",
            "14 = \u000e\n",
            "15 = \u000f\n",
            "16 = \u0010\n",
            "17 = \u0011\n",
            "18 = \u0012\n",
            "19 = \u0013\n",
            "20 = \u0014\n",
            "21 = \u0015\n",
            "22 = \u0016\n",
            "23 = \u0017\n",
            "24 = \u0018\n",
            "25 = \u0019\n",
            "26 = \u001a\n",
            "27 = \u001b\n",
            "28 = \u001c\n",
            "29 = \u001d\n",
            "30 = \u001e\n",
            "31 = \u001f\n",
            "32 =  \n",
            "33 = !\n",
            "34 = \"\n",
            "35 = #\n",
            "36 = $\n",
            "37 = %\n",
            "38 = &\n",
            "39 = '\n",
            "40 = (\n",
            "41 = )\n",
            "42 = *\n",
            "43 = +\n",
            "44 = ,\n",
            "45 = -\n",
            "46 = .\n",
            "47 = /\n",
            "48 = 0\n",
            "49 = 1\n",
            "50 = 2\n",
            "51 = 3\n",
            "52 = 4\n",
            "53 = 5\n",
            "54 = 6\n",
            "55 = 7\n",
            "56 = 8\n",
            "57 = 9\n",
            "58 = :\n",
            "59 = ;\n",
            "60 = <\n",
            "61 = =\n",
            "62 = >\n",
            "63 = ?\n",
            "64 = @\n",
            "65 = A\n",
            "66 = B\n",
            "67 = C\n",
            "68 = D\n",
            "69 = E\n",
            "70 = F\n",
            "71 = G\n",
            "72 = H\n",
            "73 = I\n",
            "74 = J\n",
            "75 = K\n",
            "76 = L\n",
            "77 = M\n",
            "78 = N\n",
            "79 = O\n",
            "80 = P\n",
            "81 = Q\n",
            "82 = R\n",
            "83 = S\n",
            "84 = T\n",
            "85 = U\n",
            "86 = V\n",
            "87 = W\n",
            "88 = X\n",
            "89 = Y\n",
            "90 = Z\n",
            "91 = [\n",
            "92 = \\\n",
            "93 = ]\n",
            "94 = ^\n",
            "95 = _\n",
            "96 = `\n",
            "97 = a\n",
            "98 = b\n",
            "99 = c\n",
            "100 = d\n",
            "101 = e\n",
            "102 = f\n",
            "103 = g\n",
            "104 = h\n",
            "105 = i\n",
            "106 = j\n",
            "107 = k\n",
            "108 = l\n",
            "109 = m\n",
            "110 = n\n",
            "111 = o\n",
            "112 = p\n",
            "113 = q\n",
            "114 = r\n",
            "115 = s\n",
            "116 = t\n",
            "117 = u\n",
            "118 = v\n",
            "119 = w\n",
            "120 = x\n",
            "121 = y\n",
            "122 = z\n",
            "123 = {\n",
            "124 = |\n",
            "125 = }\n",
            "126 = ~\n",
            "127 = \n",
            "128 = \n",
            "129 = \n",
            "130 = \n",
            "131 = \n",
            "132 = \n",
            "133 = \n",
            "134 = \n",
            "135 = \n",
            "136 = \n",
            "137 = \n",
            "138 = \n",
            "139 = \n",
            "140 = \n",
            "141 = \n",
            "142 = \n",
            "143 = \n",
            "144 = \n",
            "145 = \n",
            "146 = \n",
            "147 = \n",
            "148 = \n",
            "149 = \n",
            "150 = \n",
            "151 = \n",
            "152 = \n",
            "153 = \n",
            "154 = \n",
            "155 = \n",
            "156 = \n",
            "157 = \n",
            "158 = \n",
            "159 = \n",
            "160 =  \n",
            "161 = ¡\n",
            "162 = ¢\n",
            "163 = £\n",
            "164 = ¤\n",
            "165 = ¥\n",
            "166 = ¦\n",
            "167 = §\n",
            "168 = ¨\n",
            "169 = ©\n",
            "170 = ª\n",
            "171 = «\n",
            "172 = ¬\n",
            "173 = ­\n",
            "174 = ®\n",
            "175 = ¯\n",
            "176 = °\n",
            "177 = ±\n",
            "178 = ²\n",
            "179 = ³\n",
            "180 = ´\n",
            "181 = µ\n",
            "182 = ¶\n",
            "183 = ·\n",
            "184 = ¸\n",
            "185 = ¹\n",
            "186 = º\n",
            "187 = »\n",
            "188 = ¼\n",
            "189 = ½\n",
            "190 = ¾\n",
            "191 = ¿\n",
            "192 = À\n",
            "193 = Á\n",
            "194 = Â\n",
            "195 = Ã\n",
            "196 = Ä\n",
            "197 = Å\n",
            "198 = Æ\n",
            "199 = Ç\n",
            "200 = È\n",
            "201 = É\n",
            "202 = Ê\n",
            "203 = Ë\n",
            "204 = Ì\n",
            "205 = Í\n",
            "206 = Î\n",
            "207 = Ï\n",
            "208 = Ð\n",
            "209 = Ñ\n",
            "210 = Ò\n",
            "211 = Ó\n",
            "212 = Ô\n",
            "213 = Õ\n",
            "214 = Ö\n",
            "215 = ×\n",
            "216 = Ø\n",
            "217 = Ù\n",
            "218 = Ú\n",
            "219 = Û\n",
            "220 = Ü\n",
            "221 = Ý\n",
            "222 = Þ\n",
            "223 = ß\n",
            "224 = à\n",
            "225 = á\n",
            "226 = â\n",
            "227 = ã\n",
            "228 = ä\n",
            "229 = å\n",
            "230 = æ\n",
            "231 = ç\n",
            "232 = è\n",
            "233 = é\n",
            "234 = ê\n",
            "235 = ë\n",
            "236 = ì\n",
            "237 = í\n",
            "238 = î\n",
            "239 = ï\n",
            "240 = ð\n",
            "241 = ñ\n",
            "242 = ò\n",
            "243 = ó\n",
            "244 = ô\n",
            "245 = õ\n",
            "246 = ö\n",
            "247 = ÷\n",
            "248 = ø\n",
            "249 = ù\n",
            "250 = ú\n",
            "251 = û\n",
            "252 = ü\n",
            "253 = ý\n",
            "254 = þ\n"
          ]
        }
      ]
    },
    {
      "cell_type": "markdown",
      "source": [
        "**Códigos de controle**\n",
        "\n",
        ">0 - 31\n"
      ],
      "metadata": {
        "id": "XgcoyrBsVQkl"
      }
    },
    {
      "cell_type": "markdown",
      "source": [
        "**Caracteres imprimíveis**\n",
        "\n",
        "> 32 - 127"
      ],
      "metadata": {
        "id": "FHa9egFNVYXu"
      }
    },
    {
      "cell_type": "markdown",
      "source": [
        "**Códigos de controle**\n",
        "\n",
        ">128 - 255"
      ],
      "metadata": {
        "id": "nlksDDVOVgQW"
      }
    },
    {
      "cell_type": "markdown",
      "source": [
        "**Outras codificações:**\n",
        "- EBCDIC, UTF-8, UTF-16, ISO,"
      ],
      "metadata": {
        "id": "oHuTZiLZVqpJ"
      }
    },
    {
      "cell_type": "markdown",
      "source": [
        "##**Conversão de código**"
      ],
      "metadata": {
        "id": "KVqn-pUBVxee"
      }
    },
    {
      "cell_type": "code",
      "source": [
        "a = 'x'\n",
        "b = ord(a)\n",
        "print(f'O código para {a} é {b}')\n",
        "c = chr(b)\n",
        "print(f'A letra para {b} é {c}')"
      ],
      "metadata": {
        "colab": {
          "base_uri": "https://localhost:8080/"
        },
        "id": "jgjyO4H3V3Cu",
        "outputId": "9c94ea6b-8a12-4026-f45c-f08eedad50d2"
      },
      "execution_count": null,
      "outputs": [
        {
          "output_type": "stream",
          "name": "stdout",
          "text": [
            "O código para x é 120\n",
            "A letra para 120 é x\n"
          ]
        }
      ]
    }
  ]
}