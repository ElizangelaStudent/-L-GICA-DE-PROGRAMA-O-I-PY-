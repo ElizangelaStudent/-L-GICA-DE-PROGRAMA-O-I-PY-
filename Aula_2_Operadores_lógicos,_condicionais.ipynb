{
  "nbformat": 4,
  "nbformat_minor": 0,
  "metadata": {
    "colab": {
      "provenance": [],
      "collapsed_sections": [],
      "authorship_tag": "ABX9TyP1svIEn83Jug50lzqg9KgL",
      "include_colab_link": true
    },
    "kernelspec": {
      "name": "python3",
      "display_name": "Python 3"
    },
    "language_info": {
      "name": "python"
    }
  },
  "cells": [
    {
      "cell_type": "markdown",
      "metadata": {
        "id": "view-in-github",
        "colab_type": "text"
      },
      "source": [
        "<a href=\"https://colab.research.google.com/github/ElizangelaStudent/L-GICA-DE-PROGRAMA-O-I-PY-/blob/main/Aula_2_Operadores_l%C3%B3gicos%2C_condicionais.ipynb\" target=\"_parent\"><img src=\"https://colab.research.google.com/assets/colab-badge.svg\" alt=\"Open In Colab\"/></a>"
      ]
    },
    {
      "cell_type": "markdown",
      "source": [
        "##**Operadores lógicos e condicionais**\n",
        "\n",
        "###Quando estudamos variáveis, vimos que existem alguns tipos primitivos: str (texto), int (número inteiro), float (número real) e bool (lógico). Vimos diversas operações aritméticas também, como a soma, a divisão ou a potência, cujos resultados são int ou float. Porém, podemos ter também operações cujo resultado é bool: são operações lógicas.\n",
        "\n",
        "\n",
        "\n"
      ],
      "metadata": {
        "id": "5HcTuCWNMwDo"
      }
    },
    {
      "cell_type": "markdown",
      "source": [
        "###**Operadores lógicos de comparação**"
      ],
      "metadata": {
        "id": "pMB6LoZIM6FU"
      }
    },
    {
      "cell_type": "markdown",
      "source": [
        "####Algumas das operações lógicas mais conhecidas são as comparações:"
      ],
      "metadata": {
        "id": "eZMavSH5FDY1"
      }
    },
    {
      "cell_type": "code",
      "source": [
        "comparacao1 = 5 > 3\n",
        "print(comparacao1)\n",
        "comparacao2 = 5 < 3\n",
        "print(comparacao2)\n",
        "\n",
        "#Se executarmos o código acima, a saída que teremos na tela será:True False False"
      ],
      "metadata": {
        "colab": {
          "base_uri": "https://localhost:8080/"
        },
        "id": "MH19wdKbFHLH",
        "outputId": "f4daa931-d76e-405d-d272-675fe44cd080"
      },
      "execution_count": 1,
      "outputs": [
        {
          "output_type": "stream",
          "name": "stdout",
          "text": [
            "True\n",
            "False\n"
          ]
        }
      ]
    },
    {
      "cell_type": "markdown",
      "source": [
        ">Isso ocorre porque 5 é maior que 3. Portanto, comparacao1 recebeu uma expressão cujo valor lógico é verdadeiro, portanto seu resultado foi True, e o oposto ocorreu para comparacao2. O Python possui 6 operadores de comparação:\n",
        "\n",
        "- Maior que: >\n",
        "- Maior ou igual: >=\n",
        "- Menor que: <\n",
        "- Menor ou igual: <=\n",
        "- Igual: ==\n",
        "- Diferente: !=\n"
      ],
      "metadata": {
        "id": "-4k9xZsJFVC7"
      }
    },
    {
      "cell_type": "markdown",
      "source": [
        "####Note que o operador para comparar se 2 valores são iguais é ==, e não =. Isso ocorre porque o operador = é o nosso operador de atribuição: ele diz que a variável à sua esquerda deve receber o valor da expressão à direita. O operador de == irá testar se o valor à sua esquerda é igual ao valor à sua direita e irá responder True ou False, como todos os outros operadores de comparação.\n",
        "\n",
        "####Veja outros exemplos abaixo:"
      ],
      "metadata": {
        "id": "pv6tUDmtFjzz"
      }
    },
    {
      "cell_type": "code",
      "source": [
        "a = 2\n",
        "b = 4\n",
        "\n",
        "b > a # maior que\n",
        "b < a # menor que\n",
        "b == a # igual a\n",
        "b != a # diferente de"
      ],
      "metadata": {
        "id": "w8n9dJbmNBVm"
      },
      "execution_count": null,
      "outputs": []
    },
    {
      "cell_type": "code",
      "source": [
        "c = 2\n",
        "d = 2.6\n",
        "\n",
        "c >= d # maior ou igual\n",
        "c <= d # menor ou igual"
      ],
      "metadata": {
        "colab": {
          "base_uri": "https://localhost:8080/"
        },
        "id": "bPhucjUvNO0J",
        "outputId": "cdb5e750-76f1-4359-9545-85005cc14b66"
      },
      "execution_count": null,
      "outputs": [
        {
          "output_type": "execute_result",
          "data": {
            "text/plain": [
              "True"
            ]
          },
          "metadata": {},
          "execution_count": 3
        }
      ]
    },
    {
      "cell_type": "markdown",
      "source": [
        "###**Operadores lógicos AND/OR/NOT/IN**"
      ],
      "metadata": {
        "id": "_2mz72XYNjHO"
      }
    },
    {
      "cell_type": "code",
      "source": [
        "a = 2     # and - quando as duas devem ser verdadeiras\n",
        "b = 3\n",
        "c = 5\n",
        "\n",
        "a<b and c<a\n"
      ],
      "metadata": {
        "colab": {
          "base_uri": "https://localhost:8080/"
        },
        "id": "FA8St0GcNpC3",
        "outputId": "ba287b93-76d0-4962-c39a-f7e6dd4e07d5"
      },
      "execution_count": null,
      "outputs": [
        {
          "output_type": "execute_result",
          "data": {
            "text/plain": [
              "False"
            ]
          },
          "metadata": {},
          "execution_count": 4
        }
      ]
    },
    {
      "cell_type": "code",
      "source": [
        "a>b or c<a # or- quando apenas uma deve ser verdadeira"
      ],
      "metadata": {
        "colab": {
          "base_uri": "https://localhost:8080/"
        },
        "id": "CFEfvOEiNrpW",
        "outputId": "f882b173-0b0a-4281-fa00-8fcb6ed1fc18"
      },
      "execution_count": null,
      "outputs": [
        {
          "output_type": "execute_result",
          "data": {
            "text/plain": [
              "False"
            ]
          },
          "metadata": {},
          "execution_count": 5
        }
      ]
    },
    {
      "cell_type": "code",
      "source": [
        "type(a) is not float # not - negação"
      ],
      "metadata": {
        "colab": {
          "base_uri": "https://localhost:8080/"
        },
        "id": "XnygCcrlNxI_",
        "outputId": "c7af995e-49dc-4fb5-8930-96ef1cee10da"
      },
      "execution_count": null,
      "outputs": [
        {
          "output_type": "execute_result",
          "data": {
            "text/plain": [
              "True"
            ]
          },
          "metadata": {},
          "execution_count": 6
        }
      ]
    },
    {
      "cell_type": "code",
      "source": [
        "not(type(a) is float)"
      ],
      "metadata": {
        "colab": {
          "base_uri": "https://localhost:8080/"
        },
        "id": "sCEgkw-qN0NZ",
        "outputId": "6a99e0a8-bd5e-4fb8-a8db-bc61ecaf7fa8"
      },
      "execution_count": null,
      "outputs": [
        {
          "output_type": "execute_result",
          "data": {
            "text/plain": [
              "True"
            ]
          },
          "metadata": {},
          "execution_count": 7
        }
      ]
    },
    {
      "cell_type": "code",
      "source": [
        "'a'  in 'Elizangela' # in- quando o \"a\" está contido dentro do nome elizangela"
      ],
      "metadata": {
        "colab": {
          "base_uri": "https://localhost:8080/"
        },
        "id": "9vcEfG2RN0_e",
        "outputId": "4b015ed9-29b0-43f6-bb5b-e3bcf9c5eece"
      },
      "execution_count": null,
      "outputs": [
        {
          "output_type": "execute_result",
          "data": {
            "text/plain": [
              "True"
            ]
          },
          "metadata": {},
          "execution_count": 9
        }
      ]
    },
    {
      "cell_type": "markdown",
      "source": [
        "###**Condicionais**"
      ],
      "metadata": {
        "id": "GZp-sLYdOsof"
      }
    },
    {
      "cell_type": "markdown",
      "source": [
        ">Uma condicional é uma instrução em Python que decide se outras linhas serão ou não executadas dependendo do resultado de uma condição. A condição nada mais é do que uma expressão lógica. Se a condição for verdadeira, as linhas são executadas. Senão, são ignoradas.\n",
        "\n",
        ">A condicional mais básica em Python é o if (se):"
      ],
      "metadata": {
        "id": "PpDkFkddGHOV"
      }
    },
    {
      "cell_type": "code",
      "source": [
        "nota1 =float(input('Digite a nota1: '))\n",
        "nota2 =float(input('Digite a nota2: '))\n",
        "\n",
        "media = (nota1\n",
        "+ nota2)/2\n",
        "\n",
        "if media >=6.0:\n",
        "  print('Aprovado')\n",
        "  print('Média: ', media)"
      ],
      "metadata": {
        "colab": {
          "base_uri": "https://localhost:8080/"
        },
        "id": "44dwB0JvGRA0",
        "outputId": "eec46819-c415-4950-a9dc-1fd4343eebc2"
      },
      "execution_count": 4,
      "outputs": [
        {
          "output_type": "stream",
          "name": "stdout",
          "text": [
            "Digite a nota1: 10\n",
            "Digite a nota2: 10\n",
            "Aprovado\n",
            "Média:  10.0\n"
          ]
        }
      ]
    },
    {
      "cell_type": "markdown",
      "source": [
        "####Execute o programa acima. Note que se (if) a média é maior ou igual a 6.0, ele exibe a mensagem \"Aprovado\" e depois a média. Caso contrário, ele apenas exibe a média.\n",
        "\n"
      ],
      "metadata": {
        "id": "3LVR7KRSGeT0"
      }
    },
    {
      "cell_type": "markdown",
      "source": [
        ">Para dizermos que uma ou mais linhas \"pertencem\" ao nosso if, usamos um símbolo de parágrafo (tecla \"Tab\" no teclado). O programa sabe que o if \"acabou\" quando as linhas param de ter \"tabs\". Esses tabs são chamados de indentação. Tanto no if quanto no restante das estruturas de controle que estudaremos é obrigatório ter pelo menos 1 linha indentada abaixo da linha de controle."
      ],
      "metadata": {
        "id": "zv7FGI2ZGh5j"
      }
    },
    {
      "cell_type": "markdown",
      "source": [
        "####Nos casos em que temos condições mutuamente exclusivas, podemos utilizar um par if/else (se/senão). Se a condição for verdadeira, faça tal coisa. Senão, faça outra coisa.\n",
        "\n"
      ],
      "metadata": {
        "id": "1Ky0y4sFHAf0"
      }
    },
    {
      "cell_type": "code",
      "source": [
        "nota1 =float(input('Digite a nota1: '))\n",
        "nota2 =float(input('Digite a nota2: '))\n",
        "\n",
        "media = (nota1+ nota2)/2\n",
        "\n",
        "if media >=6.0:\n",
        "    print('Aprovado')\n",
        "else:\n",
        "    print('Reprovado')\n",
        "\n",
        "print('Média: ', media)\n"
      ],
      "metadata": {
        "colab": {
          "base_uri": "https://localhost:8080/"
        },
        "id": "KLtIZ4x9HFZE",
        "outputId": "3d130d15-8989-49a2-e11d-6bfa36006ea8"
      },
      "execution_count": 5,
      "outputs": [
        {
          "output_type": "stream",
          "name": "stdout",
          "text": [
            "Digite a nota1: 4\n",
            "Digite a nota2: 5\n",
            "Reprovado\n",
            "Média:  4.5\n"
          ]
        }
      ]
    },
    {
      "cell_type": "markdown",
      "source": [
        ">Note que o else não possui condição. A condição dele é implícita: é a negação da condição do if. Se o if executar, o else não executa e vice-versa. Consequentemente, o else não pode existir sem um if."
      ],
      "metadata": {
        "id": "zxrL42u5HO0F"
      }
    },
    {
      "cell_type": "markdown",
      "source": [
        "#### E por fim, tem o **elif**, O elif só é executado se um if der errado (ou seja, ele é um else), mas ele também tem uma condição que deve ser respeitada (ou seja, ele também é um if). Podemos reescrever nosso código anterior utilizando um elif:"
      ],
      "metadata": {
        "id": "artq-l2WHwoj"
      }
    },
    {
      "cell_type": "code",
      "source": [
        "nota1 = float(input('Digite a nota 1: '))\n",
        "nota2 =float(input('Digite a nota2: '))\n",
        "\n",
        "media = (nota1+ nota2)/2\n",
        "\n",
        "if media >=6.0:\n",
        "    print('Aprovado')\n",
        "elif media>= 3.0:\n",
        "    print('Recuperação')\n",
        "else:\n",
        "    print('Reprovado')\n",
        "\n",
        "print('Média: ', media)"
      ],
      "metadata": {
        "colab": {
          "base_uri": "https://localhost:8080/"
        },
        "id": "bJDWE5doH6Iv",
        "outputId": "5c3b0365-328a-4fa2-9a65-6cfb2442fdc4"
      },
      "execution_count": 6,
      "outputs": [
        {
          "output_type": "stream",
          "name": "stdout",
          "text": [
            "Digite a nota 1: 4\n",
            "Digite a nota2: 5\n",
            "Recuperação\n",
            "Média:  4.5\n"
          ]
        }
      ]
    },
    {
      "cell_type": "markdown",
      "source": [
        "\n",
        "####Podemos usar quantos elif nós quisermos. Sempre que um deles der errado, o próximo será testado. Quando algum deles der certo, todo o restante será ignorado.\n",
        "\n",
        "####Opcionalmente, podemos ter um else ao final do bloco, que só será executado se o if e todos os elif derem errado.\n",
        "\n",
        "####O bloco, obrigatoriamente, deve ser iniciado com um if.\n",
        "\n",
        ">Atenção\n",
        ">Você lembra dos valores truthy e falsy? Nós conversamos sobre eles no capítulo Operações Lógicas. Uma variável, qualquer que seja seu tipo, pode ser interpretada pelo if como se fosse uma expressão lógica.\n",
        "\n",
        ">Se x for um inteiro, o bloco if x: será executado caso x seja diferente de zero, por exemplo.\n",
        "\n",
        ">Uma fonte comum de erros em iniciantes envolve o uso de and ou or em condicionais e a forma como Python lida com valores truthy e falsy. Execute o trecho de código abaixo:\n"
      ],
      "metadata": {
        "id": "fVDURzzpIM-7"
      }
    },
    {
      "cell_type": "code",
      "source": [
        "seguro = input('Deseja adquirir um seguro opcional (sim/não): ')\n",
        "\n",
        "if seguro != 'sim' and 'não':\n",
        "    print('Você não digitou uma opção válida')"
      ],
      "metadata": {
        "colab": {
          "base_uri": "https://localhost:8080/"
        },
        "id": "s3Ez8M4VIXp9",
        "outputId": "5697e9f2-5e17-4c42-e192-9c1728c055e7"
      },
      "execution_count": 8,
      "outputs": [
        {
          "name": "stdout",
          "output_type": "stream",
          "text": [
            "Deseja adquirir um seguro opcional (sim/não): sim\n"
          ]
        }
      ]
    },
    {
      "cell_type": "markdown",
      "source": [
        ">Você verá que ele nem sempre se comporta como você imaginaria. O Python não irá interpretar a condição do if como \"seguro diferente de 'sim' e seguro diferente de 'não'\", e sim como \"(seguro diferente de 'sim') e ('não').\n",
        "\n",
        ">Isso ocorre porque no if temos uma expressão lógica do tipo:"
      ],
      "metadata": {
        "id": "gci6Sbo7I-_T"
      }
    },
    {
      "cell_type": "markdown",
      "source": [
        "and expressão2```. Nossa expressão1 é ```seguro !=\n",
        "'sim'```, e nossa expressão2 é apenas a string ```'não'```. \n",
        "> \n",
        "> A expressão2 é, portanto, uma string não-vazia, portanto ela é *truthy*. O Python irá implicitamente convertê-la para o valor lógico **True**.\n",
        "Portanto, temos a expressão ```(seguro !='sim') and (True)```. Logo, a condição será verdadeira se ```seguro !='sim'``` e falsa caso contrário. Logo, se você digitar \"não\", a expressão é falsa e o programa dirá que você digitou algo inválido. \n",
        "> \n",
        "> Para evitar esse problema, você precisa ser explícito em suas condições:\n",
        "```python\n",
        "seguro = input('Deseja adquirir um seguro opcional (sim/não): ')\n",
        "\n",
        "if seguro != 'sim' and seguro !=\n",
        "'não':\n",
        "    print('Você não digitou uma opção válida').\n",
        "\n",
        "####Veja outros exemplos abaixo:"
      ],
      "metadata": {
        "id": "bUwqt6fVJFPz"
      }
    },
    {
      "cell_type": "code",
      "source": [
        "a = 'alex'\n",
        "b = 'lisio'\n",
        "\n",
        "if (a!=b):              # IF- testa uma condição, se ela for verdadeira seu conteudo sera executado, caso contrario, será ignorado.\n",
        "    if 'a' in a:\n",
        "        print(a)\n",
        "    else:               # else- sempre vem imediatamente apos um if e é executado quando o if for ignorado.\n",
        "        print(b)\n",
        "else:\n",
        "    print('não foi')   # elif- intermediario entre if e else\n"
      ],
      "metadata": {
        "colab": {
          "base_uri": "https://localhost:8080/"
        },
        "id": "WnskiHTwOwKk",
        "outputId": "d4c67936-c62f-49ef-b30e-395244d1596f"
      },
      "execution_count": null,
      "outputs": [
        {
          "output_type": "stream",
          "name": "stdout",
          "text": [
            "alex\n"
          ]
        }
      ]
    },
    {
      "cell_type": "code",
      "source": [
        "nome1 = 'vivo'\n",
        "nome2 = 'claro'\n",
        "\n",
        "if (nome1>=nome2):\n",
        "  if 'a' in nome1:\n",
        "      print(nome1)\n",
        "  else:\n",
        "      print(nome2)\n",
        "else:\n",
        "  print('não foi')"
      ],
      "metadata": {
        "colab": {
          "base_uri": "https://localhost:8080/"
        },
        "id": "L1V6fvoxO1lv",
        "outputId": "e71da5c4-a991-496d-efab-87224f2bce9a"
      },
      "execution_count": null,
      "outputs": [
        {
          "output_type": "stream",
          "name": "stdout",
          "text": [
            "claro\n"
          ]
        }
      ]
    },
    {
      "cell_type": "markdown",
      "source": [
        "##**Exercicios**"
      ],
      "metadata": {
        "id": "hAWaqKw9QHx5"
      }
    },
    {
      "cell_type": "markdown",
      "source": [
        "###**Faça um Programa que verifique se uma letra digitada é vogal ou consoante.**\n"
      ],
      "metadata": {
        "id": "WKqtEFsHQNRf"
      }
    },
    {
      "cell_type": "code",
      "source": [
        "letra = input('Digite uma letra: ')\n",
        "\n",
        "if letra in 'aeiouAEIOU':\n",
        "  print('É uma vogal.')\n",
        "else:\n",
        "  print('É uma consoante.')"
      ],
      "metadata": {
        "colab": {
          "base_uri": "https://localhost:8080/"
        },
        "id": "XMavwkvxQv26",
        "outputId": "df31421e-ad9f-4cf1-eda4-7a9cf12140ea"
      },
      "execution_count": null,
      "outputs": [
        {
          "output_type": "stream",
          "name": "stdout",
          "text": [
            "Digite uma letra: A\n",
            "É uma vogal.\n"
          ]
        }
      ]
    },
    {
      "cell_type": "markdown",
      "source": [
        "###**Faça um programa para a leitura de duas notas parciais de um aluno. O programa deve calcular a média alcançada por aluno e apresentar:**\n",
        "\n",
        "- A mensagem \"Aprovado\", se a média alcançada for maior ou igual a sete;\n",
        "- A mensagem \"Reprovado\", se a média for menor do que sete;\n",
        "- A mensagem \"Aprovado com Distinção\", se a média for igual a dez."
      ],
      "metadata": {
        "id": "ZzLtAjFaQXdv"
      }
    },
    {
      "cell_type": "code",
      "source": [
        "nota_01=float(input(\"Digite a nota do PRIMEIRO bimestre: \"))\n",
        "nota_02=float(input(\"Digite a nota do SEGUNDO bimestre: \"))\n",
        "\n",
        "print(\"--------------------------------------------------------\")\n",
        "media = (nota_01 + nota_02)/2\n",
        "print(\"A nota do 1º Bimestre é: \",nota_01)\n",
        "print(\"A nota do 2º Bimestre é: \",nota_02)\n",
        "print(\"--------------------------------------------------------\")\n",
        "print(f\"A média final é :{media} \")\n",
        "\n",
        "if(media == 7):\n",
        "  print(\"Aprovado\")\n",
        "elif(media == 10):\n",
        "  print(\"Aprovado com Distinção\")\n",
        "else:\n",
        "  print(\"Reprovado\")"
      ],
      "metadata": {
        "colab": {
          "base_uri": "https://localhost:8080/"
        },
        "id": "XYi-y4FrQw1F",
        "outputId": "b914b46a-d08c-4b5b-9d9d-c47d28f53d82"
      },
      "execution_count": null,
      "outputs": [
        {
          "output_type": "stream",
          "name": "stdout",
          "text": [
            "Digite a nota do PRIMEIRO bimestre: 10\n",
            "Digite a nota do SEGUNDO bimestre: 10\n",
            "--------------------------------------------------------\n",
            "A nota do 1º Bimestre é:  10.0\n",
            "A nota do 2º Bimestre é:  10.0\n",
            "--------------------------------------------------------\n",
            "A média final é :10.0 \n",
            "Aprovado com Distinção\n"
          ]
        }
      ]
    },
    {
      "cell_type": "markdown",
      "source": [
        "###**Faça um programa que mostre ao usuario um menu com 4 opcôes de operacões matemáticas (as básicas, por exemplo). O usuário escolhe uma das opcões e o seu programa entao pede dois valores numéricos e realiza a operacão, mostrando o resultado e saindo.**"
      ],
      "metadata": {
        "id": "_XhXqciYQh4g"
      }
    },
    {
      "cell_type": "code",
      "source": [
        "a = float(input(\"Digite a operação matematica desejada:\\n1 (Somar) \\n2 (Subtrair)\\n3 (Dividir)\\n4 (Multiplicar)\\n\\n \"))\n",
        "\n",
        "b = float(input(\"Digite o primeiro valor: \"))\n",
        "\n",
        "c = float(input(\"Digite o segundo valor:  \")\n",
        "\n",
        "\n",
        "if(a == 1):\n",
        "  print(\"O valor  é:\",b + c)\n",
        "\n",
        "elif(a == 2):\n",
        "  print(\"O valor é: \",b - c)\n",
        "elif(a == 3):\n",
        "  print(\"O valor é: \",b / c)\n",
        "elif(a == 4):\n",
        "  print(\"O valor é: \",b * c)\n",
        "\n",
        "else :\n",
        "  print(\"Valor não reconhecido, tente novamente!!\")\n",
        "\n"
      ],
      "metadata": {
        "colab": {
          "base_uri": "https://localhost:8080/"
        },
        "id": "jmK_XSI4QxoV",
        "outputId": "56fdb56a-f7d6-4711-d8c5-f1c100da97cb"
      },
      "execution_count": null,
      "outputs": [
        {
          "output_type": "stream",
          "name": "stdout",
          "text": [
            "Digite a operação matematica desejada:\n",
            "1 (Somar) \n",
            "2 (Subtrair)\n",
            "3 (Dividir)\n",
            "4 (Multiplicar)\n",
            "\n",
            " 2\n",
            "Digite o primeiro valor: 4\n",
            "Digite o segundo valor:  4\n",
            "O valor é:  0.0\n"
          ]
        }
      ]
    }
  ]
}