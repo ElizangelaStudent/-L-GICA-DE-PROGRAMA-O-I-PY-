{
  "nbformat": 4,
  "nbformat_minor": 0,
  "metadata": {
    "colab": {
      "provenance": [],
      "collapsed_sections": [],
      "authorship_tag": "ABX9TyPF0mU2J+LN78Q0Z2yUlBoR",
      "include_colab_link": true
    },
    "kernelspec": {
      "name": "python3",
      "display_name": "Python 3"
    },
    "language_info": {
      "name": "python"
    }
  },
  "cells": [
    {
      "cell_type": "markdown",
      "metadata": {
        "id": "view-in-github",
        "colab_type": "text"
      },
      "source": [
        "<a href=\"https://colab.research.google.com/github/ElizangelaStudent/L-GICA-DE-PROGRAMA-O-I-PY-/blob/main/Aula_8_S%C3%ADmbolos_especiais_e_Fun%C3%A7%C3%B5es_da_Strings_Python.ipynb\" target=\"_parent\"><img src=\"https://colab.research.google.com/assets/colab-badge.svg\" alt=\"Open In Colab\"/></a>"
      ]
    },
    {
      "cell_type": "markdown",
      "source": [
        "##**Símbolos especiais**\n",
        "\n",
        "###Além de letras, números, sinais de pontuação, símbolos matemáticos etc., uma string pode conter alguns operadores especiais de controle. Esses operadores podem indicar, por exemplo, uma quebra de linha ou uma tabulação. Vejamos os mais comuns:"
      ],
      "metadata": {
        "id": "i0TwrDW-V2LB"
      }
    },
    {
      "cell_type": "markdown",
      "source": [
        "##**Quebra de linha**"
      ],
      "metadata": {
        "id": "bHPcpAgOV8Fh"
      }
    },
    {
      "cell_type": "markdown",
      "source": [
        ">Uma quebra de linha indica que o programa exibindo a string deverá quebrar a linha atual e exibir o restante da string na linha seguinte, e é representada na maioria dos sistemas e na web pelo símbolo \\n. Execute o programa abaixo e veja o resultado na tela:"
      ],
      "metadata": {
        "id": "-CbA7WRjWARg"
      }
    },
    {
      "cell_type": "code",
      "source": [
        "print('Olá\\nMundo')"
      ],
      "metadata": {
        "colab": {
          "base_uri": "https://localhost:8080/"
        },
        "id": "Mb35ZL9UWBSQ",
        "outputId": "15515123-00e6-4231-c069-fdfb0d902b40"
      },
      "execution_count": null,
      "outputs": [
        {
          "output_type": "stream",
          "name": "stdout",
          "text": [
            "Olá\n",
            "Mundo\n"
          ]
        }
      ]
    },
    {
      "cell_type": "markdown",
      "source": [
        "##**Tabulação**"
      ],
      "metadata": {
        "id": "VL8t1LXMWHYl"
      }
    },
    {
      "cell_type": "markdown",
      "source": [
        ">A tabulação indica um recuo equivalente ao da tecla Tab - um recuo de início de parágrafo, ou o recuo que usamos para aninhar linhas de código em Python. Ela é representada pelo símbolo \\t. Verifique o resultado do exemplo abaixo:"
      ],
      "metadata": {
        "id": "BI2VyrrWWK9A"
      }
    },
    {
      "cell_type": "code",
      "source": [
        "print(\"\\tElizangela\\tSoares\\tda\\tCosta\")"
      ],
      "metadata": {
        "colab": {
          "base_uri": "https://localhost:8080/"
        },
        "id": "4DLY18hRW73w",
        "outputId": "2fe2dc3c-eb7b-429c-8fb6-c4c24acb2fb2"
      },
      "execution_count": null,
      "outputs": [
        {
          "output_type": "stream",
          "name": "stdout",
          "text": [
            "\tElizangela\tSoares\tda\tCosta\n"
          ]
        }
      ]
    },
    {
      "cell_type": "code",
      "source": [
        "aprovados = ['Mario', 'Peach', 'Luigi']\n",
        "reprovados = ['Wario', 'Bowser']\n",
        "\n",
        "print('Candidatos aprovados:')\n",
        "for nome in aprovados:\n",
        "    print('\\t', nome)\n",
        "\n",
        "print('Candidatos reprovados:')\n",
        "for nome in reprovados:\n",
        "    print('\\t', nome)"
      ],
      "metadata": {
        "colab": {
          "base_uri": "https://localhost:8080/"
        },
        "id": "oAus8x-0WOJR",
        "outputId": "dc95fbb9-a33b-4589-911e-9346e7377772"
      },
      "execution_count": null,
      "outputs": [
        {
          "output_type": "stream",
          "name": "stdout",
          "text": [
            "Candidatos aprovados:\n",
            "\t Mario\n",
            "\t Peach\n",
            "\t Luigi\n",
            "Candidatos reprovados:\n",
            "\t Wario\n",
            "\t Bowser\n"
          ]
        }
      ]
    },
    {
      "cell_type": "markdown",
      "source": [
        "##**Aspas**\n",
        "\n",
        ">Um problema que você deve ter se deparado é que parece impossível representar o símbolo ' em uma string que foi aberta por esse símbolo, já que a segunda ocorrência dele fechará a string. Idem para o símbolo \". Podemos resolver isso da mesma forma que fizemos com a barra:\\' irá sempre representar o símbolo ' e \\\" irá sempre representar o símbolo \" ao invés de fechar uma string.\n"
      ],
      "metadata": {
        "id": "_3o32itiX3dI"
      }
    },
    {
      "cell_type": "code",
      "source": [],
      "metadata": {
        "id": "AVtwawX0odk3"
      },
      "execution_count": null,
      "outputs": []
    },
    {
      "cell_type": "markdown",
      "source": [
        "######Podemos usar aspas simples '' ou aspas duplas \"\" para definir uma string. As duas formas de aspas são válidas e equivalentes, mas você deve escolher uma delas e usá-la consistentemente em seu programa.\n",
        "\n",
        "**💡 Dica**: sim! Você usou uma string quando escreveu o programa \"Hello World!\". Sempre que você enxergar um valor cercado por aspas simples ou duplas em Python, estamos falando de uma string."
      ],
      "metadata": {
        "id": "js6r92-OX6pI"
      }
    },
    {
      "cell_type": "code",
      "source": [
        "print('Imprimindo uma aspa simples(\\') dentro de uma string sem problemas')\n",
        "print(\"Imprimindo aspas duplas(\\\") dentro de uma string sem problemas\")"
      ],
      "metadata": {
        "colab": {
          "base_uri": "https://localhost:8080/"
        },
        "id": "a-j4hVr5X78i",
        "outputId": "facf275d-87c5-461b-eab5-6cc9408780e8"
      },
      "execution_count": null,
      "outputs": [
        {
          "output_type": "stream",
          "name": "stdout",
          "text": [
            "Imprimindo uma aspa simples(') dentro de uma string sem problemas\n",
            "Imprimindo aspas duplas(\") dentro de uma string sem problemas\n"
          ]
        }
      ]
    },
    {
      "cell_type": "markdown",
      "source": [
        "###**Praticando**"
      ],
      "metadata": {
        "id": "LHM6ECM9fVOI"
      }
    },
    {
      "cell_type": "markdown",
      "source": [
        "###Faça um programa, que imprima essa tabela abaixo:\n",
        "\n"
      ],
      "metadata": {
        "id": "d_D5ECh9f342"
      }
    },
    {
      "cell_type": "code",
      "source": [
        "____________________________________________________\n",
        "Turma:895 \t      Projeto: Suzano   ###<DIV>ersidade Tech\n",
        "\n",
        "id\tNome\tNota 1\tNota 2\tNota 3\tMédia\n",
        "---\t----\t------\t------\t------\t------\n",
        "1\tdavi\t7\t7\t7\t7\n",
        "2\tleo\t5\t5\t5\t7\n",
        "3\tpaulo\t10\t5\t5\t7\n",
        "\n",
        "Resultados:\n",
        "Reprovados: 2 \t\t Aprovados: 1\n",
        "____________________________________________________"
      ],
      "metadata": {
        "id": "8_064h7WgKk2"
      },
      "execution_count": null,
      "outputs": []
    },
    {
      "cell_type": "code",
      "source": [
        "#resposta\n",
        "\n",
        "'''python'''\n",
        "id = [1,2,3]\n",
        "nome = ['davi','leo','paulo']\n",
        "n1 = [7,5,10]\n",
        "n2 = [7, 5, 5]\n",
        "n3 = [7, 5, 5]\n",
        "\n",
        "\n",
        "print('____________________________________________________')\n",
        "print('Turma:895 \\t Projeto: Suzano <DIV>ersidade Tech\\n')\n",
        "\n",
        "print('id\\tNome\\tNota 1\\tNota 2\\tNota 3\\tMédia')\n",
        "print('---\\t----\\t------\\t------\\t------\\t------')\n",
        "\n",
        "for i in range(len(id)):\n",
        "    print(f'{id[i]}\\t{nome[i]}\\t{n1[i]}\\t{n2[i]}\\t{n2[i]}\\t{7}')\n",
        "\n",
        "print('\\nResultados:')\n",
        "print('Reprovados: 2 \\t\\t Aprovados: 1')\n",
        "print('____________________________________________________')\n"
      ],
      "metadata": {
        "colab": {
          "base_uri": "https://localhost:8080/"
        },
        "id": "keyEbKOufbwm",
        "outputId": "4a8f31b6-eda5-47ef-905b-82629e343a8a"
      },
      "execution_count": null,
      "outputs": [
        {
          "output_type": "stream",
          "name": "stdout",
          "text": [
            "____________________________________________________\n",
            "Turma:895 \t Projeto: Suzano <DIV>ersidade Tech\n",
            "\n",
            "id\tNome\tNota 1\tNota 2\tNota 3\tMédia\n",
            "---\t----\t------\t------\t------\t------\n",
            "1\tdavi\t7\t7\t7\t7\n",
            "2\tleo\t5\t5\t5\t7\n",
            "3\tpaulo\t10\t5\t5\t7\n",
            "\n",
            "Resultados:\n",
            "Reprovados: 2 \t\t Aprovados: 1\n",
            "____________________________________________________\n"
          ]
        }
      ]
    },
    {
      "cell_type": "code",
      "source": [
        "#O exemplo abaixo, mostra outra forma de  como poderia construir a tabela.\n",
        "\n",
        "print(\"_\"*50)\n",
        "print(\"Turma:895 \\t Projeto: Suzano <DIV>esidade Tech \\n \\n\")\n",
        "print('id\\tNome\\tNota 1\\tNota 2\\tNota3\\tMédia')\n",
        "print(\"-------\\t-------\\t-------\\t-------\\t-------\\t-------\")\n",
        "print('Resultados:\\nReprovados: 2\\t Aprovados: 1')\n",
        "print(\"_\"*50)"
      ],
      "metadata": {
        "colab": {
          "base_uri": "https://localhost:8080/"
        },
        "id": "zyl48s_cidIW",
        "outputId": "169e6856-699e-4e64-d674-dfe92063cdf6"
      },
      "execution_count": null,
      "outputs": [
        {
          "output_type": "stream",
          "name": "stdout",
          "text": [
            "__________________________________________________\n",
            "Turma:895 \t Projeto: Suzano <DIV>esidade Tech \n",
            " \n",
            "\n",
            "id\tNome\tNota 1\tNota 2\tNota3\tMédia\n",
            "-------\t-------\t-------\t-------\t-------\t-------\n",
            "Resultados:\n",
            "Reprovados: 2\t Aprovados: 1\n",
            "__________________________________________________\n"
          ]
        }
      ]
    },
    {
      "cell_type": "markdown",
      "source": [
        "##**Funções de strings**\n",
        "\n",
        "###É possível fazer várias operações com strings utilizando técnicas como concatenação ou converter em listas. Porém, certas operações são muito comuns e podem ser muito trabalhosas de fazer na mão. Por isso, temos diversas funções prontas para nos ajudar.\n",
        "\n",
        "###Note que como strings são imutáveis, nenhuma dessas funções irá alterar a string original. Elas sempre retornarão uma string nova com as modificações desejadas.\n",
        "\n",
        "###Vejamos algumas das mais usadas."
      ],
      "metadata": {
        "id": "zKDIFq_ZePj4"
      }
    },
    {
      "cell_type": "markdown",
      "source": [
        "###**Maiúsculas e minúsculas**\n",
        "\n",
        "###Temos algumas funções prontas para alterar a capitalização das letras. Uma delas é a **função upper**, que transforma todas as letras da string original em maiúsculas:\n",
        "\n"
      ],
      "metadata": {
        "id": "pldVKdhneeeB"
      }
    },
    {
      "cell_type": "code",
      "source": [
        "#Exemplo 1\n",
        "frase = 'vAmOs PrOgRaMaR'\n",
        "maiuscula = frase.upper()\n",
        "print(maiuscula) # resultado: 'VAMOS PROGRAMAR'\n"
      ],
      "metadata": {
        "colab": {
          "base_uri": "https://localhost:8080/"
        },
        "id": "2ND1hLHcemLP",
        "outputId": "f24821a4-148c-4bc3-d637-75b486bf4de7"
      },
      "execution_count": null,
      "outputs": [
        {
          "output_type": "stream",
          "name": "stdout",
          "text": [
            "VAMOS PROGRAMAR\n"
          ]
        }
      ]
    },
    {
      "cell_type": "code",
      "source": [
        "#Exemplo 2\n",
        "s=\"Elizangela\"\n",
        "maiscula= s.upper()\n",
        "print(maiscula) # resultado: 'ELIZANGELA'"
      ],
      "metadata": {
        "colab": {
          "base_uri": "https://localhost:8080/"
        },
        "id": "5uPAXf7Cotxz",
        "outputId": "e83c6497-0be6-4abc-9340-de5f86ebe569"
      },
      "execution_count": 1,
      "outputs": [
        {
          "output_type": "stream",
          "name": "stdout",
          "text": [
            "ELIZANGELA\n"
          ]
        }
      ]
    },
    {
      "cell_type": "markdown",
      "source": [
        ">Analogamente, temos a **função lower** para transformar todas as letras em minúsculas:\n",
        "\n"
      ],
      "metadata": {
        "id": "0ZkbocSTeryf"
      }
    },
    {
      "cell_type": "code",
      "source": [
        "#Exemplo 1\n",
        "frase = 'vAmOs PrOgRaMaR'\n",
        "minuscula = frase.lower()\n",
        "print(minuscula) # resultado: 'vamos programar'\n"
      ],
      "metadata": {
        "colab": {
          "base_uri": "https://localhost:8080/"
        },
        "id": "OK54ZkjQewcZ",
        "outputId": "c3f34081-c347-493f-816f-43ca7692d9a8"
      },
      "execution_count": null,
      "outputs": [
        {
          "output_type": "stream",
          "name": "stdout",
          "text": [
            "vamos programar\n"
          ]
        }
      ]
    },
    {
      "cell_type": "code",
      "source": [
        "#Exemplo 2\n",
        "s=\"ELIZANGELA\"\n",
        "maiscula= s.lower()\n",
        "print(maiscula) # resultado: 'elizangela'"
      ],
      "metadata": {
        "colab": {
          "base_uri": "https://localhost:8080/"
        },
        "id": "rrdame4UpLb5",
        "outputId": "e62c5659-1ff6-4c57-a12f-f974db7d8433"
      },
      "execution_count": 2,
      "outputs": [
        {
          "output_type": "stream",
          "name": "stdout",
          "text": [
            "elizangela\n"
          ]
        }
      ]
    },
    {
      "cell_type": "markdown",
      "source": [
        ">Também é possível formatar a string inteira como um nome próprio: primeira letra de cada palavra maiúscula, todo o restante em minúscula. Para isso temos a **função title**:\n",
        "\n"
      ],
      "metadata": {
        "id": "hjphK5ybezKB"
      }
    },
    {
      "cell_type": "code",
      "source": [
        "#Exemplo 1\n",
        "frase = 'vAmOs PrOgRaMaR'\n",
        "titulo = frase.title()\n",
        "print(titulo) # resultado: 'Vamos Programar'\n"
      ],
      "metadata": {
        "colab": {
          "base_uri": "https://localhost:8080/"
        },
        "id": "keXiVR_Ye3wx",
        "outputId": "13b8014a-5a3b-47e3-b7b2-c3604609d61b"
      },
      "execution_count": null,
      "outputs": [
        {
          "output_type": "stream",
          "name": "stdout",
          "text": [
            "Vamos Programar\n"
          ]
        }
      ]
    },
    {
      "cell_type": "code",
      "source": [
        "#Exemplo 2\n",
        "s=\"eliZangeLa\"\n",
        "maiscula= s.title()\n",
        "print(maiscula) # resultado: 'Elizangela'"
      ],
      "metadata": {
        "colab": {
          "base_uri": "https://localhost:8080/"
        },
        "id": "HgLbubyvpYVv",
        "outputId": "9d6874aa-12fa-4286-f8ae-1f9f18f94369"
      },
      "execution_count": 4,
      "outputs": [
        {
          "output_type": "stream",
          "name": "stdout",
          "text": [
            "Elizangela\n"
          ]
        }
      ]
    },
    {
      "cell_type": "markdown",
      "source": [
        ">E, por fim, é possível tratar nossa string como uma frase gramaticalmente correta: primeira letra maiúscula, todo o resto minúsculo. Essa função é a capitalize:\n",
        "\n"
      ],
      "metadata": {
        "id": "FV3clP3ue6EY"
      }
    },
    {
      "cell_type": "code",
      "source": [
        "#Exemplo 1\n",
        "frase = 'vAmOs PrOgRaMaR'\n",
        "correta = frase.capitalize()\n",
        "print(correta) # resultado: 'Vamos programar'\n"
      ],
      "metadata": {
        "colab": {
          "base_uri": "https://localhost:8080/"
        },
        "id": "t7R3nweJe9-_",
        "outputId": "c98f8feb-28ce-47ba-addc-d6d4f56d6a11"
      },
      "execution_count": null,
      "outputs": [
        {
          "output_type": "stream",
          "name": "stdout",
          "text": [
            "Vamos programar\n"
          ]
        }
      ]
    },
    {
      "cell_type": "code",
      "source": [
        "#Exemplo 2\n",
        "s=\"eliZangeLa SOARES DA cOSTA\"\n",
        "maiscula= s.capitalize()\n",
        "print(maiscula) # resultado: 'Elizangela soares da costa'"
      ],
      "metadata": {
        "colab": {
          "base_uri": "https://localhost:8080/"
        },
        "id": "z5N4icSlptO_",
        "outputId": "572c4e8a-8dc8-464b-bf13-bff8e98bf321"
      },
      "execution_count": 6,
      "outputs": [
        {
          "output_type": "stream",
          "name": "stdout",
          "text": [
            "Elizangela soares da costa\n"
          ]
        }
      ]
    },
    {
      "cell_type": "markdown",
      "source": [
        ">Uma utilidade para essas funções é padronizar entrada de usuário. Quando pedimos para o usuário digitar 'sim' caso ele deseje fazer algo, ele pode digitar 'SIM', 'sim', 'Sim', 'sIm', 'siM', 'SIm', 'sIM' ou 'SiM'. Prever todas essas condições em uma condicional pode ser bastante trabalhoso, ou mesmo impossível. Imagine se fosse uma string de várias letras... Porém, podemos forçar um padrão para a entrada do usuário e comparar com esse padrão:\n",
        "\n"
      ],
      "metadata": {
        "id": "FOsrMnd7fAIw"
      }
    },
    {
      "cell_type": "code",
      "source": [
        "usuario = input('Digite \"sim\" se aceita os termos de uso: ')\n",
        "if usuario.upper() == 'SIM':\n",
        "  print('Seja bem-vindo!')\n",
        "else:\n",
        "  print('Que pena.')\n",
        "\n",
        "#Qualquer forma que o usuário digite a palavra 'sim' será aceita."
      ],
      "metadata": {
        "colab": {
          "base_uri": "https://localhost:8080/"
        },
        "id": "NVg8FeoIfEXW",
        "outputId": "c96a91df-b2ee-4191-922e-4fad2bba4488"
      },
      "execution_count": null,
      "outputs": [
        {
          "output_type": "stream",
          "name": "stdout",
          "text": [
            "Digite \"sim\" se aceita os termos de uso: sim\n",
            "Seja bem-vindo!\n"
          ]
        }
      ]
    },
    {
      "cell_type": "markdown",
      "source": [
        "###**Dividindo uma string em Substrings**\n",
        "\n",
        "###É possível separar uma string em uma lista de substrings. Isso pode ser particularmente útil quando precisamos separar um texto em palavras individuais. A função que realiza essa quebra é o **split**:"
      ],
      "metadata": {
        "id": "SkaomIqsgvWQ"
      }
    },
    {
      "cell_type": "code",
      "source": [
        "texto = 'uma frase qualquer'\n",
        "palavras = texto.split()\n",
        "print(palavras) # resultado: ['uma', 'frase', 'qualquer']"
      ],
      "metadata": {
        "colab": {
          "base_uri": "https://localhost:8080/"
        },
        "id": "EyVchvHSg2rG",
        "outputId": "82646482-16b7-41bd-f76f-348195dd0485"
      },
      "execution_count": null,
      "outputs": [
        {
          "output_type": "stream",
          "name": "stdout",
          "text": [
            "['uma', 'frase', 'qualquer']\n"
          ]
        }
      ]
    },
    {
      "cell_type": "code",
      "source": [
        "'banana'.split('a')"
      ],
      "metadata": {
        "colab": {
          "base_uri": "https://localhost:8080/"
        },
        "id": "nQvNhLS2kXBI",
        "outputId": "772a9640-cefd-4c7d-d1bc-c2684c32e11b"
      },
      "execution_count": null,
      "outputs": [
        {
          "output_type": "execute_result",
          "data": {
            "text/plain": [
              "['b', 'n', 'n', '']"
            ]
          },
          "metadata": {},
          "execution_count": 36
        }
      ]
    },
    {
      "cell_type": "markdown",
      "source": [
        ">>O split é mais do que apenas uma função para separar palavras. Podemos opcionalmente passar como parâmetro uma string para ser usada como critério de separação: ao invés de quebrar no espaço em branco, a string principal será quebrada nos pontos onde o parâmetro aparece (e ele será apagado do resultado).\n",
        "\n"
      ],
      "metadata": {
        "id": "A1GDqLKZg6o-"
      }
    },
    {
      "cell_type": "markdown",
      "source": [
        "###**Substituindo elementos na string**"
      ],
      "metadata": {
        "id": "6dlLSy_xhPDu"
      }
    },
    {
      "cell_type": "markdown",
      "source": [
        "###Uma das ferramentas mais úteis em qualquer editor de texto é o localizar e substituir, onde podemos buscar por todas as ocorrências de uma expressão no texto e trocar por outra expressão. Em Python temos uma função análoga, o **replace**. Ele recebe 2 parâmetros: a expressão a ser substituída e a expressão que a substituirá. Veja o exemplo:\n",
        "\n"
      ],
      "metadata": {
        "id": "fca734nQhW7m"
      }
    },
    {
      "cell_type": "code",
      "source": [
        "frase = 'Python é difícil. Por ser difícil, devemos estudar.'\n",
        "corrigida = frase.replace('difícil', 'fácil')\n",
        "print(corrigida)\n",
        "# resultado: 'Python é fácil. Por ser fácil, devemos estudar.'"
      ],
      "metadata": {
        "colab": {
          "base_uri": "https://localhost:8080/"
        },
        "id": "HDn6qgVahaSz",
        "outputId": "b671255e-f27c-4f97-c3d0-6c912e858a53"
      },
      "execution_count": null,
      "outputs": [
        {
          "output_type": "stream",
          "name": "stdout",
          "text": [
            "Python é fácil. Por ser fácil, devemos estudar.\n"
          ]
        }
      ]
    },
    {
      "cell_type": "markdown",
      "source": [
        ">Em Python não existe uma função para deletar um pedaço de uma string. Porém, podemos usar o replace para substituir uma expressão por uma string vazia, o que tem o mesmo resultado:\n",
        "\n"
      ],
      "metadata": {
        "id": "98BFgU9rhfMg"
      }
    },
    {
      "cell_type": "code",
      "source": [
        "palavra = 'batata'\n",
        "consoantes = palavra.replace('a', '')\n",
        "print(consoantes)\n",
        "# resultado: 'btt'"
      ],
      "metadata": {
        "colab": {
          "base_uri": "https://localhost:8080/"
        },
        "id": "qnwd5qmRhiwP",
        "outputId": "bec78c68-617e-4471-f1ab-c99bd5349d47"
      },
      "execution_count": null,
      "outputs": [
        {
          "output_type": "stream",
          "name": "stdout",
          "text": [
            "btt\n"
          ]
        }
      ]
    },
    {
      "cell_type": "markdown",
      "source": [
        "###**Concatenando strings em uma coleção**\n",
        "\n",
        "###Imagine que você tem uma coleção (por exemplo, uma lista) de strings e precisa unir todas elas utilizando algum símbolo padrão como separador entre elas. Para isso temos o join. Ele soa pouco intuitivo no começo, então convém executar o exemplo e observar com atenção seu resultado:"
      ],
      "metadata": {
        "id": "NlvwTlzyhk5P"
      }
    },
    {
      "cell_type": "code",
      "source": [
        "lista = ['a', 'b', 'c']\n",
        "separador = '123'\n",
        "resultado = separador.join(lista)\n",
        "print(resultado) # resultado: 'a123b123c'\n"
      ],
      "metadata": {
        "colab": {
          "base_uri": "https://localhost:8080/"
        },
        "id": "DVv6EBS5mGHF",
        "outputId": "21a194fb-5789-4322-ba7e-c77c52d7f7ea"
      },
      "execution_count": null,
      "outputs": [
        {
          "output_type": "stream",
          "name": "stdout",
          "text": [
            "a123b123c\n"
          ]
        }
      ]
    },
    {
      "cell_type": "markdown",
      "source": [
        ">Já vimos o join antes sendo usado para converter uma lista de volta em string. Para isso, utilizávamos uma string vazia como separador. Assim, os elementos da lista eram concatenados sem separador.\n",
        "\n",
        ">>**Dica 💡**: um jeito de memorizar facilmente como o join funciona é pensar que o separador entrará no lugar das vírgulas na visualização da lista."
      ],
      "metadata": {
        "id": "Keu6lRwJmIO_"
      }
    },
    {
      "cell_type": "markdown",
      "source": [
        "###**Formatando strings**"
      ],
      "metadata": {
        "id": "5nqTNlrnmVAu"
      }
    },
    {
      "cell_type": "markdown",
      "source": [
        "##**Praticando**\n",
        "\n",
        "### **Faça um programa que solicite a data de nascimento (dd/mm/aaaa) do usuário e imprima a data com o nome do mês por extenso.**\n",
        "```\n",
        "Data de Nascimento: 29/10/1973\n",
        "Você nasceu em  29 de Outubro de 1973.\n",
        "```"
      ],
      "metadata": {
        "id": "_ed2Xie9qkUG"
      }
    },
    {
      "cell_type": "code",
      "source": [
        "#Exemplo 1\n",
        "\n",
        "data = input('Digite a data de nascimento no padrão dd/mm/aaaa: ')\n",
        "d = data.split('/')\n",
        "\n",
        "if d[1] == '01':\n",
        "    d[1] = 'Janeiro'\n",
        "\n",
        "elif d[1] == '02':\n",
        "    d[1] = 'Fevereiro'\n",
        "\n",
        "if d[1] == '03':\n",
        "    d[1] = 'Março'\n",
        "\n",
        "\n",
        "', '.join(d)"
      ],
      "metadata": {
        "colab": {
          "base_uri": "https://localhost:8080/",
          "height": 53
        },
        "id": "aWTP_U2Sq0DP",
        "outputId": "d723920d-d307-4aeb-f32e-a42732b9d5b4"
      },
      "execution_count": 7,
      "outputs": [
        {
          "name": "stdout",
          "output_type": "stream",
          "text": [
            "Digite a data de nascimento no padrão dd/mm/aaaa: 02/03/1991\n"
          ]
        },
        {
          "output_type": "execute_result",
          "data": {
            "text/plain": [
              "'02, Março, 1991'"
            ],
            "application/vnd.google.colaboratory.intrinsic+json": {
              "type": "string"
            }
          },
          "metadata": {},
          "execution_count": 7
        }
      ]
    },
    {
      "cell_type": "code",
      "source": [
        "#Exemplo 2\n",
        "\n",
        "data = input(\"Digite sua data de nascimento: \")\n",
        "lista_data = data.split('/')\n",
        "meses = ['janeiro','fevereiro','março','abril',\n",
        "         'maio','junho','julho','agosto','setembro',\n",
        "         'outubro','novembro','dezembro']\n",
        "mes = int(lista_data[1])\n",
        "\n",
        "print(f'Você nasceu em {lista_data[0]} de {meses[mes-1]} de {lista_data[-1]}')\n"
      ],
      "metadata": {
        "colab": {
          "base_uri": "https://localhost:8080/"
        },
        "id": "z3js_fiGmyIe",
        "outputId": "a1da6ce6-f613-400e-a12a-0de2130bca78"
      },
      "execution_count": null,
      "outputs": [
        {
          "output_type": "stream",
          "name": "stdout",
          "text": [
            "Digite sua data de nascimento: 02/03/1991\n",
            "Você nasceu em 02 de março de 1991\n"
          ]
        }
      ]
    },
    {
      "cell_type": "markdown",
      "source": [
        "##**Número por extenso. Escreva um programa que solicite ao usuário a digitação de um número até 99 e imprima-o na tela por extenso.**"
      ],
      "metadata": {
        "id": "qPgwLVAauznj"
      }
    },
    {
      "cell_type": "code",
      "source": [
        "n = '10'\n",
        "\n",
        "n1 = ['zero','um','dois','três','quatro','cinco','seis','sete','oito','nove']\n",
        "\n",
        "dez = ['dez','onze', 'doze', 'treze', 'quatorze', 'quinze', 'dezesseis', 'dezessete', 'dezoito', 'dezenove']\n",
        "\n",
        "if len(n)==1:\n",
        "    print(n1[int(n)])\n",
        "\n",
        "elif len(n)==2 and n[0]=='1':\n",
        "    print(dez[int(n[1])])"
      ],
      "metadata": {
        "id": "P9sjMdWmthgu"
      },
      "execution_count": null,
      "outputs": []
    }
  ]
}