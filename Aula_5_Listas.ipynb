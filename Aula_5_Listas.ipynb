{
  "nbformat": 4,
  "nbformat_minor": 0,
  "metadata": {
    "colab": {
      "provenance": [],
      "collapsed_sections": [],
      "authorship_tag": "ABX9TyMufUnq4ytlzN2im/imsnd1",
      "include_colab_link": true
    },
    "kernelspec": {
      "name": "python3",
      "display_name": "Python 3"
    },
    "language_info": {
      "name": "python"
    }
  },
  "cells": [
    {
      "cell_type": "markdown",
      "metadata": {
        "id": "view-in-github",
        "colab_type": "text"
      },
      "source": [
        "<a href=\"https://colab.research.google.com/github/ElizangelaStudent/L-GICA-DE-PROGRAMA-O-I-PY-/blob/main/Aula_5_Listas.ipynb\" target=\"_parent\"><img src=\"https://colab.research.google.com/assets/colab-badge.svg\" alt=\"Open In Colab\"/></a>"
      ]
    },
    {
      "cell_type": "markdown",
      "source": [
        "#**Listas**\n",
        "\n",
        "###No Python, uma lista é uma sequência de elementos(Variaveis), que podem ou não ser do mesmo tipo, são separados por vírgula e  ficam dentro de colchetes [ ]. Além disso, são representadas pelo tipo **list**."
      ],
      "metadata": {
        "id": "nKXaR-x8fvHL"
      }
    },
    {
      "cell_type": "markdown",
      "source": [
        "l=[1,2,3,4] \n",
        "l \n",
        "   "
      ],
      "metadata": {
        "id": "WpReDjWhQimT"
      }
    },
    {
      "cell_type": "code",
      "source": [
        "list=[1,2,3,4]\n",
        "list"
      ],
      "metadata": {
        "colab": {
          "base_uri": "https://localhost:8080/"
        },
        "id": "LIenf4wbQ8FK",
        "outputId": "eda43742-5608-46da-ac69-892f376e111d"
      },
      "execution_count": null,
      "outputs": [
        {
          "output_type": "execute_result",
          "data": {
            "text/plain": [
              "[1, 2, 3, 4]"
            ]
          },
          "metadata": {},
          "execution_count": 35
        }
      ]
    },
    {
      "cell_type": "code",
      "source": [
        "#acessando lista para dentro da lista,coloca a lista(que se encontra dentro da outra lista, que será representado pelo [-1] e a posição do numero, exemplo se for o  4, sera[0].\n",
        "#Lembrando que a posição começa do 0. \n",
        "\n",
        "l=[1,2,3,[4,5,7]]\n",
        "l[-1][2]"
      ],
      "metadata": {
        "colab": {
          "base_uri": "https://localhost:8080/"
        },
        "id": "WUurBSWyVE9b",
        "outputId": "d23c9fa4-cd60-4e5d-8fac-a4a385eae2ad"
      },
      "execution_count": null,
      "outputs": [
        {
          "output_type": "execute_result",
          "data": {
            "text/plain": [
              "7"
            ]
          },
          "metadata": {},
          "execution_count": 42
        }
      ]
    },
    {
      "cell_type": "markdown",
      "source": [
        "##**Mais sobre as listas**\n",
        "\n",
        "###É aí que entram as listas. Listas são coleções de objetos em Python. Falando de maneira simplificada, são variáveis que comportam diversos valores ao mesmo tempo. Vejamos alguns jeitos de criar listas em Python:\n"
      ],
      "metadata": {
        "id": "FwwUzDxvkNRq"
      }
    },
    {
      "cell_type": "code",
      "source": [
        "primeira_lista = [] # cria uma lista vazia\n",
        "segunda_lista = list() # cria uma lista vazia\n",
        "terceira_lista = [1, 3.14, 5, 7, 9, 'onze'] # lista com valores\n",
        "\n",
        "#Note que podemos misturar tipos de dados. A terceira_lista possui 4 int, um float e uma str."
      ],
      "metadata": {
        "id": "4lrXdF3EkYNU"
      },
      "execution_count": null,
      "outputs": []
    },
    {
      "cell_type": "markdown",
      "source": [
        "###Bom, e agora, como fazemos para acessar cada valor? Podemos imaginar a lista da seguinte maneira: imagine que ao invés de ter uma caixa para guardar cada item, temos uma cômoda com várias gavetas. Cada item está em uma gaveta. Não estamos acostumados a dizer que algo está na terceira gaveta do armário? A ideia é a mesma: a lista é uma coleção indexada, ou seja, podemos acessar cada elemento através de índices, que são números indicando a posição. A indexação é automática e começa a partir do zero:\n",
        "\n",
        "- elemento\t1\t3.14\t5\t7\t9\t11\n",
        "- índice\t0\t1\t2\t3\t4\t5\n",
        "\n",
        "###Portanto, para acessar o elemento \"7\" da nossa lista, utilizaríamos o índice 3. Informamos o índice entre colchetes:"
      ],
      "metadata": {
        "id": "UcXRZBOtkiHl"
      }
    },
    {
      "cell_type": "code",
      "source": [
        "terceira_lista = [1, 3.14, 5, 7, 9, 'onze'] # lista com valores\n",
        "print(terceira_lista[3])"
      ],
      "metadata": {
        "colab": {
          "base_uri": "https://localhost:8080/"
        },
        "id": "Rh9yH7kqkx3k",
        "outputId": "74b47f4b-e6d3-4402-af70-86be87da962d"
      },
      "execution_count": null,
      "outputs": [
        {
          "output_type": "stream",
          "name": "stdout",
          "text": [
            "7\n"
          ]
        }
      ]
    },
    {
      "cell_type": "markdown",
      "source": [
        "###A **lista é mutável**. Isso significa que podemos modificar os valores já existentes:\n"
      ],
      "metadata": {
        "id": "EjVQ3D8ok1hy"
      }
    },
    {
      "cell_type": "code",
      "source": [
        "terceira_lista = [1, 3.14, 5, 7, 9, 'onze'] # lista com valores\n",
        "terceira_lista[3] = 'sete' # troca 7 por 'sete' na lista\n",
        "print(terceira_lista)\n",
        "\n",
        "#É possível utilizar índices negativos. lista[-1] pega o último elemento, lista[-2] o penúltimo, e assim sucessivamente. \n",
        "##Mas não é possível acessar índices iguais ou superiores ao tamanho da lista. A tentativa de acessar um índice inexistente resultará em erro.\n"
      ],
      "metadata": {
        "colab": {
          "base_uri": "https://localhost:8080/"
        },
        "id": "m-fd4JeYk9V5",
        "outputId": "02eb42f8-7a30-4a04-ee4d-5fd0a57a50d4"
      },
      "execution_count": null,
      "outputs": [
        {
          "output_type": "stream",
          "name": "stdout",
          "text": [
            "[1, 3.14, 5, 'sete', 9, 'onze']\n"
          ]
        }
      ]
    },
    {
      "cell_type": "markdown",
      "source": [
        "##**Quebrando listas ou Fatiamento em listas**\n",
        "\n",
        "###É possível pegar subconjuntos de nossas listas utilizando o conceito de slices. Ao invés de passar apenas 1 valor entre colchetes (o índice desejado), podemos passar faixas de valores. Veja o exemplo abaixo:\n",
        "\n",
        "\n"
      ],
      "metadata": {
        "id": "48NlZAzwlP33"
      }
    },
    {
      "cell_type": "code",
      "source": [
        "impares = [1, 3, 5, 7, 9, 11, 13, 15, 17]\n",
        "meio = impares[3:6]\n",
        "print(meio) # resultado na tela: [7, 9, 11]"
      ],
      "metadata": {
        "colab": {
          "base_uri": "https://localhost:8080/"
        },
        "id": "Z3JxosO2lXr6",
        "outputId": "01de3266-f2ce-4254-ecf1-4c06637d5290"
      },
      "execution_count": null,
      "outputs": [
        {
          "output_type": "stream",
          "name": "stdout",
          "text": [
            "[7, 9, 11]\n"
          ]
        }
      ]
    },
    {
      "cell_type": "code",
      "source": [
        "t=[1,2,3,4,5,6,7,8,9]\n",
        "t[2:5]"
      ],
      "metadata": {
        "colab": {
          "base_uri": "https://localhost:8080/"
        },
        "id": "EvlJdfgVh3V0",
        "outputId": "82386a67-3bd0-4671-c78e-d064003311ee"
      },
      "execution_count": null,
      "outputs": [
        {
          "output_type": "execute_result",
          "data": {
            "text/plain": [
              "[3, 4, 5]"
            ]
          },
          "metadata": {},
          "execution_count": 73
        }
      ]
    },
    {
      "cell_type": "markdown",
      "source": [
        "###O primeiro valor é o índice inicial da sublista a ser gerada, e o segundo é o índice final (exclusivo). Podemos omitir um desses valores para indicar que será desde o início ou até o final:\n",
        "\n",
        "\n",
        "\n",
        "\n"
      ],
      "metadata": {
        "id": "dTlPKIFQlfDP"
      }
    },
    {
      "cell_type": "code",
      "source": [
        "impares = [1, 3, 5, 7, 9, 11, 13, 15, 17, 19]\n",
        "primeira_metade = impares[:5]\n",
        "segunda_metade = impares[5:]\n",
        "print(primeira_metade) # resultado: [1, 3, 5, 7, 9]\n",
        "print(segunda_metade) # resultado: [11, 13, 15, 17, 19]"
      ],
      "metadata": {
        "colab": {
          "base_uri": "https://localhost:8080/"
        },
        "id": "SLgu0WLIlk0X",
        "outputId": "80062012-223a-4764-e22d-316fcf1b180b"
      },
      "execution_count": null,
      "outputs": [
        {
          "output_type": "stream",
          "name": "stdout",
          "text": [
            "[1, 3, 5, 7, 9]\n",
            "[11, 13, 15, 17, 19]\n"
          ]
        }
      ]
    },
    {
      "cell_type": "markdown",
      "source": [
        "###Além de índices inicial e final, podemos também passar um passo para os índices. Veja o exemplo abaixo:"
      ],
      "metadata": {
        "id": "nylWSNKplqB_"
      }
    },
    {
      "cell_type": "code",
      "source": [
        "numeros = [0, 1, 2, 3, 4, 5, 6, 7, 8, 9, 10, 11, 12, 13, 14, 15]\n",
        "# múltiplos de 3 abaixo de 10:\n",
        "mult3_sub10 = numeros[3:10:3]\n",
        "print(mult3_sub10) # resultado: [3, 6, 9]\n"
      ],
      "metadata": {
        "colab": {
          "base_uri": "https://localhost:8080/"
        },
        "id": "WoxQYSBhlsJp",
        "outputId": "cf232a52-18e9-48d9-fc56-4b851642013e"
      },
      "execution_count": null,
      "outputs": [
        {
          "output_type": "stream",
          "name": "stdout",
          "text": [
            "[3, 6, 9]\n"
          ]
        }
      ]
    },
    {
      "cell_type": "markdown",
      "source": [
        "###Atenção: quando nós atribuímos uma lista a outra variável, a lista não é copiada. Observe o exemplo abaixo:\n",
        "\n",
        "\n",
        "\n"
      ],
      "metadata": {
        "id": "vssflEKtl1Ha"
      }
    },
    {
      "cell_type": "code",
      "source": [
        "lista1 = [1, 3, 5]\n",
        "lista2 = lista1\n",
        "lista2.append(7)\n",
        "print(lista1) # resultado: [1, 3, 5, 7]"
      ],
      "metadata": {
        "colab": {
          "base_uri": "https://localhost:8080/"
        },
        "id": "0OGR2x4jl4cH",
        "outputId": "62c0d7c3-a01d-4290-c55b-aa76afdf3928"
      },
      "execution_count": null,
      "outputs": [
        {
          "output_type": "stream",
          "name": "stdout",
          "text": [
            "[1, 3, 5, 7]\n"
          ]
        }
      ]
    },
    {
      "cell_type": "markdown",
      "source": [
        "###Modificações aplicadas em lista2 também afetarão a lista1. Isso ocorre porque não foi criada uma lista. O Python apenas fez com que ambas as variáveis (lista1 e lista2) referenciassem a mesma estrutura na memória. Quando utilizamos slices, isso não ocorre. O Python cria uma lista contendo os valores restritos pelos índices. Sendo assim, uma estratégia fácil para copiar uma lista para outra é utilizar um slice indo da primeira à última posição:"
      ],
      "metadata": {
        "id": "KOM_1bAql86V"
      }
    },
    {
      "cell_type": "code",
      "source": [
        "\n",
        "lista1 = [1, 3, 5]\n",
        "lista2 = lista1[:]\n",
        "lista2.append(7)\n",
        "print(lista1) # resultado: [1, 3, 5]\n",
        "print(lista2) # resultado: [1, 3, 5, 7]"
      ],
      "metadata": {
        "colab": {
          "base_uri": "https://localhost:8080/"
        },
        "id": "QJUw0FkAl-ub",
        "outputId": "3afd0816-05cc-4701-9386-549443e1f5f8"
      },
      "execution_count": null,
      "outputs": [
        {
          "output_type": "stream",
          "name": "stdout",
          "text": [
            "[1, 3, 5]\n",
            "[1, 3, 5, 7]\n"
          ]
        }
      ]
    },
    {
      "cell_type": "markdown",
      "source": [
        "##**Percorrendo listas**\n",
        "Suponha que você queira acessar cada elemento de sua lista individualmente. Digitar todos os índices manualmente cancelaria a escalabilidade do programa, certo? Portanto, podemos usar um loop para gerar os índices:\n",
        "\n",
        "\n"
      ],
      "metadata": {
        "id": "CeGEEdqrmfAr"
      }
    },
    {
      "cell_type": "code",
      "source": [
        "pares = [0, 2, 4, 6, 8]\n",
        "tamanho = len(pares) # calcula o tamanho da lista\n",
        "\n",
        "# tamanho vale 5, logo índice recebe os valores 0, 1, 2, 3 e 4\n",
        "for indice in range(tamanho):\n",
        "  print(pares[indice])"
      ],
      "metadata": {
        "colab": {
          "base_uri": "https://localhost:8080/"
        },
        "id": "5jOk6aJJmwMs",
        "outputId": "cc351341-e01d-4d3a-834d-d82151c5341f"
      },
      "execution_count": null,
      "outputs": [
        {
          "output_type": "stream",
          "name": "stdout",
          "text": [
            "0\n",
            "2\n",
            "4\n",
            "6\n",
            "8\n"
          ]
        }
      ]
    },
    {
      "cell_type": "markdown",
      "source": [
        "###podemos percorrer a lista de tras para frente\n"
      ],
      "metadata": {
        "id": "RbZSBJEnUJlt"
      }
    },
    {
      "cell_type": "code",
      "source": [
        "pares=[-2]"
      ],
      "metadata": {
        "id": "PyXg6SvGUPy8"
      },
      "execution_count": null,
      "outputs": []
    },
    {
      "cell_type": "markdown",
      "source": [
        "###Porém, tem um jeito ainda mais fácil de percorrer a lista. O for não serve apenas para gerar sequências numéricas junto do range: ele serve para percorrer coleções. Portanto, podemos trocar o range pela própria lista:\n",
        "\n",
        "\n"
      ],
      "metadata": {
        "id": "uPWzbMEnm5ZL"
      }
    },
    {
      "cell_type": "code",
      "source": [
        "pares = [0, 2, 4, 6, 8]\n",
        "\n",
        "for elemento in pares:\n",
        "  print(elemento)"
      ],
      "metadata": {
        "colab": {
          "base_uri": "https://localhost:8080/"
        },
        "id": "EIOHESxRm8cr",
        "outputId": "2e95e9fc-4b21-4d35-cdd1-a254e6df357d"
      },
      "execution_count": null,
      "outputs": [
        {
          "output_type": "stream",
          "name": "stdout",
          "text": [
            "0\n",
            "2\n",
            "4\n",
            "6\n",
            "8\n"
          ]
        }
      ]
    },
    {
      "cell_type": "markdown",
      "source": [
        "###Assim como no caso das contagens, \"elemento\" é apenas uma variável que será criada de forma automática e poderia ter qualquer nome. Em cada repetição do loop, um valor diferente da lista será copiado para elemento.\n",
        "\n",
        "######Importante: Como os elementos são copiados, caso você modifique o valor de elemento você não irá modificar o valor na lista, e sim uma cópia dele. Além disso, como este loop serve especificamente para percorrer listas, se dentro dele você fizer operações que alterem o tamanho da lista (append ou remove, por exemplo), o loop poderá executar incorretamente, pulando ou repetindo elementos.\n",
        "\n",
        "###O for serve, primariamente, para percorrer coleções. Ou seja, para iterar coleções. O range age, na prática, como se fosse uma lista contendo os valores determinados por seu parâmetro. Dizemos que a função range gera um iterável, ou seja, um tipo especial de dado que pode ser percorrido através de um loop.**"
      ],
      "metadata": {
        "id": "s13AhY8_m_zS"
      }
    },
    {
      "cell_type": "markdown",
      "source": [
        "##**Testando a existência de valores**\n",
        "\n",
        "###Existe um comando que temos visto bastante recentemente: o in. Ele costuma aparecer no for para indicar a lista ou a sequência a ser percorrida. Mas ele também possui outra utilidade.\n",
        "\n",
        "###O in pode ser utilizado para informar se um elemento está presente em uma lista ou não. Observe a saída do código abaixo.\n",
        "\n",
        "\n",
        "\n",
        "\n"
      ],
      "metadata": {
        "id": "lE8TABI2nSO0"
      }
    },
    {
      "cell_type": "code",
      "source": [
        "linguagens = ['Python', 'JavaScript', 'C#', 'Java']\n",
        "\n",
        "existe_html = 'HTML' in linguagens\n",
        "existe_java = 'Java' in linguagens\n",
        "\n",
        "print('HTML:', existe_html) # HTML: False\n",
        "print('Java:', existe_java) # Java: True"
      ],
      "metadata": {
        "colab": {
          "base_uri": "https://localhost:8080/"
        },
        "id": "slkL5Q4fndld",
        "outputId": "ed72aa0e-78d0-4f5e-af7c-e5e8e831db3a"
      },
      "execution_count": null,
      "outputs": [
        {
          "output_type": "stream",
          "name": "stdout",
          "text": [
            "HTML: False\n",
            "Java: True\n"
          ]
        }
      ]
    },
    {
      "cell_type": "markdown",
      "source": [
        "###Normalmente utilizamos esse comando junto de um if quando precisamos checar se um elemento existe:"
      ],
      "metadata": {
        "id": "trKmCa86nhjg"
      }
    },
    {
      "cell_type": "code",
      "source": [
        "linguagem_desejada = input('Digite a linguagem que você gostaria de aprender: ')\n",
        "\n",
        "linguagens = ['Python', 'JavaScript', 'C#', 'Java']\n",
        "\n",
        "if linguagem_desejada in linguagens:\n",
        "  print('Faça o curso conosco! :)')\n",
        "else:\n",
        "  print('Não temos esse curso disponível no momento :(')"
      ],
      "metadata": {
        "colab": {
          "base_uri": "https://localhost:8080/"
        },
        "id": "MogqWM_0nkNl",
        "outputId": "ab0a161a-4395-4e20-aef4-ba6901fdbe7e"
      },
      "execution_count": null,
      "outputs": [
        {
          "output_type": "stream",
          "name": "stdout",
          "text": [
            "Digite a linguagem que você gostaria de aprender: Python\n",
            "Faça o curso conosco! :)\n"
          ]
        }
      ]
    },
    {
      "cell_type": "code",
      "source": [
        "# para saber a quantidade de listas que contem no item abaixo:\n",
        "\n",
        "#resposta\n",
        "list=[1, 2, 4.5555555, 'davi', [False, True], [1, 2, [4, 5, 6, 7], 4]]\n",
        "cont=0\n",
        "\n",
        "for i in l:\n",
        "  if type(i) == list:\n",
        "    cont+=1\n",
        "    for ii in i:\n",
        "      if type(ii) == list:\n",
        "        cont+=1\n",
        "print(cont)"
      ],
      "metadata": {
        "colab": {
          "base_uri": "https://localhost:8080/"
        },
        "id": "A82C7Es9ZXxP",
        "outputId": "522cae2f-e244-49f2-d041-032ea24e8993"
      },
      "execution_count": null,
      "outputs": [
        {
          "output_type": "stream",
          "name": "stdout",
          "text": [
            "0\n"
          ]
        }
      ]
    },
    {
      "cell_type": "markdown",
      "source": [
        "### Crie um programa, utilizando listas que peça ao usuário nome, idade, altura, peso, estado civil (casado/solteiro), e imprima semelhante a:\n",
        "\n",
        "```\n",
        "nome: davi\n",
        "idade: 30\n",
        "altura: 1.65\n",
        "peso: 80\n",
        "Estado civil:\n",
        "1. Solteiro\n",
        "2. Casado\n",
        "\n",
        "\n",
        "nome: davi\n",
        "idade: 30\n",
        "altura: 1.65\n",
        "peso: 80\n",
        "Estado civil: Solteiro\n",
        "```"
      ],
      "metadata": {
        "id": "jhFqVqZSlAvz"
      }
    },
    {
      "cell_type": "code",
      "source": [
        "informacoes =[]\n",
        "\n",
        "nome = input(\"Nome: \")\n",
        "informacoes.append(nome)\n",
        "idade = input(\"Idade: \")\n",
        "informacoes.append(idade)\n",
        "altura = input(\"Altura: \")\n",
        "informacoes.append(altura)\n",
        "peso = input(\"Peso: \")\n",
        "informacoes.append(peso)\n",
        "estado_civil= int(input(\"Estado civil:\\n 1. Solteiro \\n 2. Casado\"))\n",
        "\n",
        "if estado_civil == 1:\n",
        "  estado_civil = 'Solteiro'\n",
        "elif estado_civil == 2:\n",
        "  estado_civil = 'Casado'\n",
        "\n",
        "informacoes.append(estado_civil)\n",
        "\n",
        "print (\"Nome: \", informacoes[0])\n",
        "print (\"Idade: \", informacoes[1])\n",
        "print (\"altura: \", informacoes[2])\n",
        "print (\"peso: \", informacoes[3])\n",
        "print (\"estado civil: \", informacoes[4])\n"
      ],
      "metadata": {
        "colab": {
          "base_uri": "https://localhost:8080/"
        },
        "id": "0hdJZWsFnrcg",
        "outputId": "1c528d10-4242-4840-ed78-101b3bc68db3"
      },
      "execution_count": null,
      "outputs": [
        {
          "output_type": "stream",
          "name": "stdout",
          "text": [
            "Nome: davi\n",
            "Idade: 30\n",
            "Altura: 1.65\n",
            "Peso: 80\n",
            "Estado civil:\n",
            " 1. Solteiro \n",
            " 2. Casado1\n",
            "Nome:  davi\n",
            "Idade:  30\n",
            "altura:  1.65\n",
            "peso:  80\n",
            "estado_civil:  Solteiro\n"
          ]
        }
      ]
    },
    {
      "cell_type": "code",
      "source": [
        "idadeAlunos = [12,13,13,15,16]\n",
        "alturaAlunos = [1.70,2.0,1.40,1.55,1.70]\n",
        "x = 0\n",
        "\n",
        "for i in range(len(alturaAlunos)):\n",
        "    x += alturaAlunos[i]\n",
        "x = x/len(alturaAlunos)\n",
        "\n",
        "contador = 0\n",
        "\n",
        "for j in range(len(idadeAlunos)):\n",
        "    if idadeAlunos[j] >= 13 and alturaAlunos[j] < x:\n",
        "        contador += 1\n",
        "print(\"A quantidade de alunos é: \",contador)\n",
        "print(\"A média da altura: \", x)"
      ],
      "metadata": {
        "colab": {
          "base_uri": "https://localhost:8080/"
        },
        "id": "reRjs3Q4rPRw",
        "outputId": "ac04d747-c608-4999-8c1e-b2ef09af3582"
      },
      "execution_count": null,
      "outputs": [
        {
          "output_type": "stream",
          "name": "stdout",
          "text": [
            "A quantidade de alunos é:  2\n",
            "A média da altura:  1.67\n"
          ]
        }
      ]
    },
    {
      "cell_type": "markdown",
      "source": [
        "##**Exercícios**"
      ],
      "metadata": {
        "id": "h-nFjJH2oTuF"
      }
    },
    {
      "cell_type": "markdown",
      "source": [
        "**1 - Criei um programa que incialmente receba do usuário um número inteiro. Esse número corresponderá ao número de linhas de uma matriz. Ou seja, se o usuário inserir 3 será criada uma matriz de 3 linhas e 3 colunas.**\n",
        "\n",
        "Exemplo: \n",
        "\n",
        "![](data:image/png;base64,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)\n",
        "\n",
        "\n",
        "Em seguida peça que o usuário insira cada item da matriz.\n",
        "\n",
        "Por último, imprima a matriz criada semelhante a:\n",
        "\n",
        "\n",
        "```\n",
        "2 5 6\n",
        "6 7 8\n",
        "9 0 3\n",
        "```\n",
        "\n"
      ],
      "metadata": {
        "id": "_sphCl1koYtQ"
      }
    },
    {
      "cell_type": "code",
      "source": [
        "#Exemplo 1\n",
        "\n",
        "matriz=[\n",
        "    [0,0,0],\n",
        "    [0,0,0],\n",
        "    [0,0,0]]   # declarando a  estrutura da matriz(para 3 linhas, terá 3 colunas) e colocando zero  dentro da cada lista, com intuito de ficar vazia.\n",
        "\n",
        "for l in range(0,3):   #l = linha, lembrando  que o sistema ignora o ultimo numero(3)\n",
        "    for c in range(0,3):   #c = colunas\n",
        "           matriz[l][c]= int(input(f\"Digite um valor para[{l}, {c}]: \"))\n",
        "print('------------------------------') # enfeite- barra que se encontra apos a solicitação do valor\n",
        "\n",
        "for l in range(0,3):   #l = linha\n",
        "        for c in range(0,3):   #c = colunas\n",
        "                 print(f'[{matriz[l][c]:^5}]', end='') #end = para colocar o valor lado a  lado\n",
        "        print() # print para fazer a quebra a linha, toda vez que ele terminar as colunas, ele quebra para formar a linha\n",
        "\n",
        "\n"
      ],
      "metadata": {
        "colab": {
          "base_uri": "https://localhost:8080/"
        },
        "id": "PpM3-9_oqZFY",
        "outputId": "dbb98609-9a5d-4323-d273-f3bc77e46e9c"
      },
      "execution_count": null,
      "outputs": [
        {
          "output_type": "stream",
          "name": "stdout",
          "text": [
            "Digite um valor para[0, 0]: 2\n",
            "Digite um valor para[0, 1]: 5\n",
            "Digite um valor para[0, 2]: 6\n",
            "Digite um valor para[1, 0]: 6\n",
            "Digite um valor para[1, 1]: 7\n",
            "Digite um valor para[1, 2]: 8\n",
            "Digite um valor para[2, 0]: 9\n",
            "Digite um valor para[2, 1]: 0\n",
            "Digite um valor para[2, 2]: 3\n",
            "------------------------------\n",
            "[  2  ][  5  ][  6  ]\n",
            "[  6  ][  7  ][  8  ]\n",
            "[  9  ][  0  ][  3  ]\n"
          ]
        }
      ]
    },
    {
      "cell_type": "code",
      "source": [
        "#Exemplo 2- utilizando o append\n",
        "\n",
        "matriz = [[],[],[]] # declarando a  estrutura da matriz-3 listas(para 3 linhas, terá 3 colunas).\n",
        "\n",
        "for l in range(0,3):    #l = linha, lembrando  que o sistema ignora o ultimo numero(3)\n",
        "        for c in range(0,3): #c = colunas\n",
        "                matriz[l].append(int(input(f\"Digite um valor para [{l},{c}]: \"))) # append refere-se a inserir o numero \n",
        "print('-='*30) # enfeite- barra que se encontra apos a solicitação do valor\n",
        "for l in range(0,3): #l = linha\n",
        "        for c in range(0,3):#c = colunas\n",
        "                print(f'[{matriz[l][c]:^5}]', end='')  #end= para colocar o valor lado a  lado\n",
        "        print() # print para fazer a quebra a linha, toda vez que ele terminar as colunas, ele quebra para formar a linha"
      ],
      "metadata": {
        "colab": {
          "base_uri": "https://localhost:8080/"
        },
        "id": "S15Q1R4kDrHT",
        "outputId": "eafec800-7548-41f4-dabd-94b1f64e55f3"
      },
      "execution_count": null,
      "outputs": [
        {
          "output_type": "stream",
          "name": "stdout",
          "text": [
            "Digite um valor para [0,0]: 1\n",
            "Digite um valor para [0,1]: 2\n",
            "Digite um valor para [0,2]: 3\n",
            "Digite um valor para [1,0]: 4\n",
            "Digite um valor para [1,1]: 5\n",
            "Digite um valor para [1,2]: 6\n",
            "Digite um valor para [2,0]: 7\n",
            "Digite um valor para [2,1]: 8\n",
            "Digite um valor para [2,2]: 9\n",
            "-=-=-=-=-=-=-=-=-=-=-=-=-=-=-=-=-=-=-=-=-=-=-=-=-=-=-=-=-=-=\n",
            "[  1  ][  2  ][  3  ]\n",
            "[  4  ][  5  ][  6  ]\n",
            "[  7  ][  8  ][  9  ]\n"
          ]
        }
      ]
    },
    {
      "cell_type": "code",
      "source": [
        "9#Exemplo 3\n",
        "\n",
        "num = int(input(\"Digite um número: \"))\n",
        "matriz = [[] for c in range(0, num)]\n",
        "\n",
        "for i in range(0, num):\n",
        "    for j in range(0, num):\n",
        "        matriz[i].append(int(input(f\"Digite um número para [{i},{j}]: \")))\n",
        "for i in range(0, num):\n",
        "    for j in range(0,num):\n",
        "        print(f\"{matriz[i][j]} \", end='')\n",
        "    print()"
      ],
      "metadata": {
        "colab": {
          "base_uri": "https://localhost:8080/"
        },
        "id": "g_5iLZOqixKo",
        "outputId": "376786f7-6263-40ce-823b-44c6fdf5da75"
      },
      "execution_count": null,
      "outputs": [
        {
          "output_type": "stream",
          "name": "stdout",
          "text": [
            "Digite um número: 3\n",
            "Digite um número para [0,0]: 3\n",
            "Digite um número para [0,1]: 1\n",
            "Digite um número para [0,2]: 2\n",
            "Digite um número para [1,0]: 3\n",
            "Digite um número para [1,1]: 4\n",
            "Digite um número para [1,2]: 5\n",
            "Digite um número para [2,0]: 6\n",
            "Digite um número para [2,1]: 7\n",
            "Digite um número para [2,2]: 8\n",
            "3 1 2 \n",
            "3 4 5 \n",
            "6 7 8 \n"
          ]
        }
      ]
    },
    {
      "cell_type": "markdown",
      "source": [
        "**2 - A _diagonal principal_ de uma matriz corresponde a todos os itens presentes diagonalmente na mesma. E a _diagonal secuntária_ são os itens dispostos de forma semelhante a citada, mas de maneira inversa. Tal como:**\n",
        "\n",
        "![](https://www.infoenem.com.br/wp-content/uploads/2016/03/matrizes.png)\n",
        "\n",
        "\n",
        "Crie um programa que imprima a diagonal princial e diagonal secundária da matriz xriado no exercício anterior."
      ],
      "metadata": {
        "id": "ExdnHCfHoxF8"
      }
    },
    {
      "cell_type": "code",
      "source": [
        "print()   # o valor da matriz -está sendo pego da primeiro exercicio, exemplo 2.\n",
        "print(\"*\"*20)\n",
        "print(\"A diagonal principal é: \")\n",
        "cont = 0\n",
        "while True:\n",
        "    print(f\"{matriz[cont][cont]} \", end='')  #0-0 0-0 //\n",
        "    cont+=1\n",
        "    if cont == num:\n",
        "        break\n",
        "print()\n",
        "print(\"*\"*20)"
      ],
      "metadata": {
        "colab": {
          "base_uri": "https://localhost:8080/"
        },
        "id": "doatfUm1lZeA",
        "outputId": "7ac1a8fe-c9d8-4cb4-8148-57f5ddac0c51"
      },
      "execution_count": null,
      "outputs": [
        {
          "output_type": "stream",
          "name": "stdout",
          "text": [
            "\n",
            "********************\n",
            "A diagonal principal é: \n",
            "1 5 9 \n",
            "********************\n"
          ]
        }
      ]
    },
    {
      "cell_type": "markdown",
      "source": [
        "3 - Tendo uma matriz **A** e uma matriz **B** a soma entre ambas será uma matriz **C** de mesma ordem (mesmo número de linhas e colunas), e com itens conforme a soma dos itens em suas posições. Tal como:\n",
        "\n",
        "![](data:image/png;base64,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)\n",
        "\n",
        "\n",
        "Crie um programa que receba 2 matriz de mesma ordem e imprima a soma entre as mesmas"
      ],
      "metadata": {
        "id": "fSJt6SOio18c"
      }
    },
    {
      "cell_type": "code",
      "source": [
        "#Exemplo 1\n",
        "ordem = int(input('Digite a ordem das matrizes: '))\n",
        "A = []\n",
        "\n",
        "for row in range(0,ordem):\n",
        "  A.append([])\n",
        "  for col in range(0,ordem):\n",
        "    i = (int(input(f\"Digite um número para compor a matriz 'A' {row+1},{col+1}: \")))\n",
        "    A[row].append(i)\n",
        "\n",
        "print(\"Matriz A: \")\n",
        "print(A)\n",
        "\n",
        "\n",
        "B = []\n",
        "\n",
        "for row in range(0,ordem):\n",
        "  B.append([])\n",
        "  for col in range(0,ordem):\n",
        "    j = (int(input(f\"Digite um número para para compor a matriz 'B' {row+1},{col+1}: \")))\n",
        "    B[row].append(j)\n",
        "\n",
        "print(\"Matriz B: \")\n",
        "print(B)\n",
        "C = []\n",
        "\n",
        "for i in range(len(A)):\n",
        "  C.append([])\n",
        "  for j in range(len(A[0])): \n",
        "    soma = A[i][j] + B[i][j]\n",
        "    C[i].append(soma)\n",
        "\n",
        "print(\"A soma entre as matrizes A e B é: \")\n",
        "print(C)"
      ],
      "metadata": {
        "colab": {
          "base_uri": "https://localhost:8080/"
        },
        "id": "rylbQtoj9eRy",
        "outputId": "0f7ebb8a-a3fa-4d4e-b54a-80197e85b5ca"
      },
      "execution_count": null,
      "outputs": [
        {
          "output_type": "stream",
          "name": "stdout",
          "text": [
            "Digite a ordem das matrizes: 2\n",
            "Digite um número para compor a matriz 'A' 1,1: 2\n",
            "Digite um número para compor a matriz 'A' 1,2: 4\n",
            "Digite um número para compor a matriz 'A' 2,1: 5\n",
            "Digite um número para compor a matriz 'A' 2,2: 6\n",
            "Matriz A: \n",
            "[[2, 4], [5, 6]]\n",
            "Digite um número para para compor a matriz 'B' 1,1: 4\n",
            "Digite um número para para compor a matriz 'B' 1,2: 5\n",
            "Digite um número para para compor a matriz 'B' 2,1: 6\n",
            "Digite um número para para compor a matriz 'B' 2,2: 6\n",
            "Matriz B: \n",
            "[[4, 5], [6, 6]]\n",
            "A soma entre as matrizes A e B é: \n",
            "[[6, 9], [11, 12]]\n"
          ]
        }
      ]
    },
    {
      "cell_type": "code",
      "source": [
        "#Exemplo 2\n",
        "\n",
        "ordem = int(input(\"Digite a ordem das matrizes: \"))\n",
        "matriz_1 = []\n",
        "matriz_2 = []\n",
        "matriz_3 = []\n",
        "\n",
        "for i in range(ordem):\n",
        "  matriz_1.append([])\n",
        "  matriz_2.append([])\n",
        "  matriz_3.append([])\n",
        "  for j in range(ordem): \n",
        "    matriz_1[i].append(int(input(f\"Digite posição {[i]},{[j]} da Matriz 1: \"))) #Itera no FOR i e FOR j, altera o valor contido nas chaves e adiciona à lista.\n",
        "    matriz_2[i].append(int(input(f\"Digite a posição {[i]},{[j]} da Matriz 2: \"))) \n",
        "    matriz_3[i].append(matriz_1[i][j] + matriz_2[i][j])\n",
        "\n",
        "print()\n",
        "print(\"\"*10,\"Matriz A\",\"\"*10)\n",
        "\n",
        "for i in range(ordem):\n",
        "  for j in range(ordem):\n",
        "    print(f\"{matriz_1[i][j]} \", end = \"\")\n",
        "  print()\n",
        "\n",
        "print()\n",
        "print(\"\"*10,\"Matriz B\",\"\"*10)\n",
        "for i in range(ordem):\n",
        "  for j in range(ordem):\n",
        "    print(f\"{matriz_2[i][j]} \", end = \"\")\n",
        "  print()\n",
        "\n",
        "print()\n",
        "print(\"\"*10,\"Matriz A + B = C\",\"\"*10)\n",
        "for i in range(ordem):\n",
        "  for j in range(ordem):\n",
        "    print(f\"{matriz_3[i][j]} \", end = \"\")\n",
        "  print()\n",
        "\n",
        "print(\"*\"*10)\n",
        "\n",
        "print(matriz_1)\n",
        "\n",
        "print(matriz_2)\n",
        "\n",
        "print(matriz_3)"
      ],
      "metadata": {
        "colab": {
          "base_uri": "https://localhost:8080/"
        },
        "id": "QLn4xAaZ_Jvf",
        "outputId": "61656ac9-6c50-479e-cedd-c05248823ae5"
      },
      "execution_count": null,
      "outputs": [
        {
          "output_type": "stream",
          "name": "stdout",
          "text": [
            "Digite a ordem das matrizes: 2\n",
            "Digite posição [0],[0] da Matriz 1: 2\n",
            "Digite a posição [0],[0] da Matriz 2: 5\n",
            "Digite posição [0],[1] da Matriz 1: 6\n",
            "Digite a posição [0],[1] da Matriz 2: 5\n",
            "Digite posição [1],[0] da Matriz 1: 3\n",
            "Digite a posição [1],[0] da Matriz 2: 3\n",
            "Digite posição [1],[1] da Matriz 1: 3\n",
            "Digite a posição [1],[1] da Matriz 2: 3\n",
            "\n",
            " Matriz A \n",
            "2 6 \n",
            "3 3 \n",
            "\n",
            " Matriz B \n",
            "5 5 \n",
            "3 3 \n",
            "\n",
            " Matriz A + B = C \n",
            "7 11 \n",
            "6 6 \n",
            "**********\n",
            "[[2, 6], [3, 3]]\n",
            "[[5, 5], [3, 3]]\n",
            "[[7, 11], [6, 6]]\n"
          ]
        }
      ]
    },
    {
      "cell_type": "code",
      "source": [
        "#Exemplo 3\n",
        "num = int(input(\"Digite o número de linhas da matriz: \"))\n",
        "\n",
        "\n",
        "matriz_A = [[] for c in range(num)] #for list comprehensions7\n",
        "matriz_B = [[] for c in range(num)] #for list comprehensions7\n",
        "\n",
        "for i in range(num):\n",
        "    for j in range(num):\n",
        "        matriz_A[i].append(int(input(f\"Digite um número para formar matriz A= [{i},{j}]: \")))\n",
        "print()\n",
        "for i in range(num):\n",
        "    for j in range(num):\n",
        "        matriz_B[i].append(int(input(f\"Digite um número para formar matriza B= [{i},{j}]: \")))\n",
        "print()\n",
        "print(\"A matriz A: \")\n",
        "\n",
        "for i in range(num):\n",
        "    for j in range(num):\n",
        "        print(f\"[{matriz_A[i][j]}] \", end='')\n",
        "    print()\n",
        "\n",
        "print()\n",
        "print(\"A matriz B: \")\n",
        "\n",
        "for i in range(num):\n",
        "    for j in range(num):\n",
        "      print(f\"[{matriz_B[i][j]}] \", end='')\n",
        "    print()\n",
        "\n",
        "print()\n",
        "print(\"A soma da matriz A + matriz B -> \")\n",
        "\n",
        "\n",
        "matriz_C = []  \n",
        "for i in range(len(matriz_A)):\n",
        "  for j in range(len(matriz_A)):\n",
        "    matriz_C.append(matriz_A[i][j] + matriz_B[i][j])\n",
        "    \n",
        "print(f\"[{matriz_C} \")\n"
      ],
      "metadata": {
        "colab": {
          "base_uri": "https://localhost:8080/"
        },
        "id": "lG6neQLnAW7x",
        "outputId": "beec1a5b-c62a-45c2-96f5-5cb8d05a64db"
      },
      "execution_count": null,
      "outputs": [
        {
          "output_type": "stream",
          "name": "stdout",
          "text": [
            "Digite o número de linhas da matriz: 2\n",
            "Digite um número para formar matriz A= [0,0]: 2\n",
            "Digite um número para formar matriz A= [0,1]: 1\n",
            "Digite um número para formar matriz A= [1,0]: 3\n",
            "Digite um número para formar matriz A= [1,1]: 5\n",
            "\n",
            "Digite um número para formar matriza B= [0,0]: 3\n",
            "Digite um número para formar matriza B= [0,1]: 4\n",
            "Digite um número para formar matriza B= [1,0]: 6\n",
            "Digite um número para formar matriza B= [1,1]: 6\n",
            "\n",
            "A matriz A: \n",
            "[2] [1] \n",
            "[3] [5] \n",
            "\n",
            "A matriz B: \n",
            "[3] [4] \n",
            "[6] [6] \n",
            "\n",
            "A soma da matriz A + matriz B -> \n",
            "[[5, 5, 9, 11] \n"
          ]
        }
      ]
    },
    {
      "cell_type": "markdown",
      "source": [
        "4 - Uma **matriz transposta** é surge quando temos uma matriz predefina e trocas sua ordem, ou seja, itens que compõem uma linha passam a ser uma coluna. Tal como:\n",
        "\n",
        "![](https://static.todamateria.com.br/upload/ma/tr/matriztransposta7.jpg?auto_optimize=low)\n",
        "\n",
        "Crie uma programa que receba o número linhas, o número de colunas, peça para o usuário inserir cada item e por fim imprima a matriz transposta."
      ],
      "metadata": {
        "id": "tH30y1Pgo9M5"
      }
    },
    {
      "cell_type": "code",
      "source": [
        "#Exemplo 1\n",
        "\n",
        "linhas = int(input(\"Digite a quantidade de linhas: \"))\n",
        "colunas = int(input(\"Digite a quantidade de colunas: \"))\n",
        "matriz = []\n",
        "\n",
        "\n",
        "for i in range(linhas):\n",
        "  matriz.append([])\n",
        "  for j in range(colunas):\n",
        "    matriz[i].append(int(input(\"Digite: \")))\n",
        "\n",
        "print()\n",
        "print(\"\"*10,\"Matriz original\",\"\"*10)\n",
        "for i in range(linhas):\n",
        "  for j in range(colunas):\n",
        "    print(f\"{matriz[i][j]} \", end = \"\")\n",
        "  print()\n",
        "\n",
        "print(\"\"*10,\"Matriz transposta\",\"\"*10)\n",
        "\n",
        "for i in range(colunas):\n",
        "  for j in range(linhas):\n",
        "    print(f\"{matriz[j][i]} \", end = \"\")\n",
        "  print()\n",
        "\n",
        "print(matriz)"
      ],
      "metadata": {
        "colab": {
          "base_uri": "https://localhost:8080/"
        },
        "id": "Z2HegTekD5dg",
        "outputId": "d3b9446a-7619-4d82-e1ee-2b2032a10822"
      },
      "execution_count": null,
      "outputs": [
        {
          "output_type": "stream",
          "name": "stdout",
          "text": [
            "Digite a quantidade de linhas: 3\n",
            "Digite a quantidade de colunas: 3\n",
            "Digite: 1\n",
            "Digite: 2\n",
            "Digite: 3\n",
            "Digite: 1\n",
            "Digite: 2\n",
            "Digite: 3\n",
            "Digite: 5\n",
            "Digite: 3\n",
            "Digite: 6\n",
            "\n",
            " Matriz original \n",
            "1 2 3 \n",
            "1 2 3 \n",
            "5 3 6 \n",
            " Matriz transposta \n",
            "1 1 5 \n",
            "2 2 3 \n",
            "3 3 6 \n",
            "[[1, 2, 3], [1, 2, 3], [5, 3, 6]]\n"
          ]
        }
      ]
    }
  ]
}