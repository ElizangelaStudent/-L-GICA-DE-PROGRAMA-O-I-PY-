{
  "nbformat": 4,
  "nbformat_minor": 0,
  "metadata": {
    "colab": {
      "provenance": [],
      "collapsed_sections": [
        "ug5WkP8sH5D5",
        "zUjm5xQfITEe",
        "Iz9RND8XJRwI"
      ],
      "authorship_tag": "ABX9TyNJlE8objtdhM0Y5Nf0/RkY",
      "include_colab_link": true
    },
    "kernelspec": {
      "name": "python3",
      "display_name": "Python 3"
    },
    "language_info": {
      "name": "python"
    }
  },
  "cells": [
    {
      "cell_type": "markdown",
      "metadata": {
        "id": "view-in-github",
        "colab_type": "text"
      },
      "source": [
        "<a href=\"https://colab.research.google.com/github/ElizangelaStudent/L-GICA-DE-PROGRAMA-O-I-PY-/blob/main/Aula_1_tipos%2C_variaveis%2C_leitura_de_dados%2C_palavras_reservadas%2C_mudan%C3%A7as_de_tipos_e_opera%C3%A7%C3%B5es_aritmeticas.ipynb\" target=\"_parent\"><img src=\"https://colab.research.google.com/assets/colab-badge.svg\" alt=\"Open In Colab\"/></a>"
      ]
    },
    {
      "cell_type": "markdown",
      "source": [
        "#**Tipos, variaveis, leitura de dados, palavras reservadas, mudanças de tipos e operações aritmeticas**"
      ],
      "metadata": {
        "id": "tt5r-b3jBbCN"
      }
    },
    {
      "cell_type": "markdown",
      "source": [
        "##**Variáveis**\n",
        "\n",
        "###Em nossos programas, frequentemente precisaremos armazenar dados temporariamente. Esses dados podem ser adquiridos de alguma maneira (digitados pelo teclado, lidos de um arquivo etc.) ou calculados pelo nosso programa com base em outros dados. Imagine, por exemplo, que você gostaria de calcular a média de um aluno a partir de suas notas. Precisaremos que o aluno digite suas notas, e o programa irá calcular um novo valor, a média. Armazenaremos nossos dados temporariamente em variáveis.\n",
        "\n",
        "###Variáveis são \"pedacinhos de memória\" onde guardamos dados. Sempre que referenciamos o nome, o pedacinho de memória é acessado e seu dado é recuperado.\n",
        "\n",
        "###Criamos variáveis dando um nome a elas e usando o operador de atribuição (o sinal de igualdade: =) para atribuir um valor inicial.\n",
        "\n"
      ],
      "metadata": {
        "id": "LsYmg-1ZMoFl"
      }
    },
    {
      "cell_type": "markdown",
      "source": [
        "###No exemplo acima, foi criada uma variável chamada x que guarda o valor 10. Ou seja, reservamos um pedacinho de memória e guardamos o número 10 lá.\n",
        "\n",
        "###Tente sempre utilizar nomes intuitivos para suas variáveis. O nome deveria ser uma boa descrição do dado que a variável guarda. Nomes como 'x', 'y', 'z', 'a', 'b', 'c', 'a1', 'a2', 'a3' etc. podem se tornar bastante confusos quando nossos códigos são muito grandes. Quanto mais descritivos os nomes forem, melhor.\n",
        "\n",
        "###Os nomes de variáveis podem conter letras, números e o símbolo _, mas eles não podem começar com número.\n",
        "\n",
        "###Dica: existe uma grande variedade de padrões diferentes que podemos adotar para nomear nossas variáveis. Em Python é recomendável utilizar o padrão conhecido como snake case, em que nomes de variáveis com múltiplas palavras adotam o símbolo _ para separar as palavras. Exemplos: nome_completo, nota_da_prova etc."
      ],
      "metadata": {
        "id": "edudtJonNQkT"
      }
    },
    {
      "cell_type": "code",
      "source": [
        "x = 10\n",
        "\n",
        "x"
      ],
      "metadata": {
        "colab": {
          "base_uri": "https://localhost:8080/"
        },
        "id": "6hJuOKroNDl9",
        "outputId": "e5d242af-9f87-4f9d-8b87-c34d0f7e79d6"
      },
      "execution_count": null,
      "outputs": [
        {
          "output_type": "execute_result",
          "data": {
            "text/plain": [
              "10"
            ]
          },
          "metadata": {},
          "execution_count": 1
        }
      ]
    },
    {
      "cell_type": "markdown",
      "source": [
        "###**Tipos Primitivos**\n"
      ],
      "metadata": {
        "id": "5dqn7G94-NoT"
      }
    },
    {
      "cell_type": "markdown",
      "source": [
        "###Variáveis podem ter diferentes tipos. Alguns tipos são considerados tipos primitivos, ou seja, eles são tipos de dados mais básicos que podem ser utilizados para compor outros tipos mais complexos. Em Python esses tipos levam os seguintes nomes:\n",
        "\n",
        "- **int:** números inteiros, ou seja, números sem parte decimal: 0, 5, -1, 1000\n",
        "- **float**: números reais, ou seja, números com parte decimal: 1.0, -2.7, 3.14\n",
        "-**str**: cadeias de caracteres (strings), ou seja, dados textuais: 'Olá Mundo!', \"eu tenho 18 anos\"\n",
        "- **bool:** valores lógicos (booleanos), ou seja, apenas um entre dois valores possíveis: True ou False\n"
      ],
      "metadata": {
        "id": "rgib5TbuNdCC"
      }
    },
    {
      "cell_type": "code",
      "source": [
        "nome = 'Zé' # uma variável do tipo string - note as aspas\n",
        "email = \"ze@letscode.com.br\" # outra string\n",
        "idade = 22 # uma variável inteira\n",
        "salario = 5999.85 # uma variável float - usamos ponto, não vírgula\n",
        "receber_newsletter = True # uma variável bool\n"
      ],
      "metadata": {
        "id": "wVbsc4goNrgR"
      },
      "execution_count": null,
      "outputs": []
    },
    {
      "cell_type": "markdown",
      "source": [
        "###O Python é uma linguagem dinamicamente tipada. Isso significa que não precisamos especificar o tipo de uma variável: a própria linguagem tenta determinar o tipo de acordo com o dado atribuído à variável.\n",
        "\n",
        "####**Veja outros exemplos abaixo:**"
      ],
      "metadata": {
        "id": "nVdkAZQ0N2Mi"
      }
    },
    {
      "cell_type": "code",
      "source": [
        "#tipos inteiros (int)\n",
        "\n",
        "x= 10\n",
        "type(x)"
      ],
      "metadata": {
        "colab": {
          "base_uri": "https://localhost:8080/"
        },
        "id": "nWOCxG4g-Zlf",
        "outputId": "a00839cc-4bbc-452b-8c9b-033dd585bad8"
      },
      "execution_count": null,
      "outputs": [
        {
          "output_type": "execute_result",
          "data": {
            "text/plain": [
              "int"
            ]
          },
          "metadata": {},
          "execution_count": 1
        }
      ]
    },
    {
      "cell_type": "code",
      "source": [
        "#tipos real(float)\n",
        "\n",
        "x = 10.5\n",
        "type(x)"
      ],
      "metadata": {
        "colab": {
          "base_uri": "https://localhost:8080/"
        },
        "id": "jtVq0y_X-m50",
        "outputId": "56578fa3-d54c-46dd-8fff-ee3243a62c95"
      },
      "execution_count": null,
      "outputs": [
        {
          "output_type": "execute_result",
          "data": {
            "text/plain": [
              "float"
            ]
          },
          "metadata": {},
          "execution_count": 2
        }
      ]
    },
    {
      "cell_type": "code",
      "source": [
        "#tipo literal(str)\n",
        "\n",
        "x = \"Elizangela\"\n",
        "type(x)"
      ],
      "metadata": {
        "colab": {
          "base_uri": "https://localhost:8080/"
        },
        "id": "Q021b9Xt-zwT",
        "outputId": "76274502-0d9a-425a-ce3f-cddb78dc56bd"
      },
      "execution_count": null,
      "outputs": [
        {
          "output_type": "execute_result",
          "data": {
            "text/plain": [
              "str"
            ]
          },
          "metadata": {},
          "execution_count": 3
        }
      ]
    },
    {
      "cell_type": "code",
      "source": [
        "# tipo booleano(false ou true)\n",
        "a = 2\n",
        "b = 5 \n",
        "type(a>b)"
      ],
      "metadata": {
        "colab": {
          "base_uri": "https://localhost:8080/"
        },
        "id": "GMIXoP2F_Ejd",
        "outputId": "9c80bbda-3c72-4264-9b69-9b6b962f428e"
      },
      "execution_count": null,
      "outputs": [
        {
          "output_type": "execute_result",
          "data": {
            "text/plain": [
              "bool"
            ]
          },
          "metadata": {},
          "execution_count": 5
        }
      ]
    },
    {
      "cell_type": "markdown",
      "source": [
        "# **Variaveis**\n",
        "\n",
        " - Camel Case( utilizado para Classes e módulos)\n",
        "pegarValorUltimoDiaMes = 30\n",
        "\n",
        " - Snake case( utilizado para Variáveis, Funções)\n",
        "pegar_valor_ultimo_dia_mes = 31\n",
        "\n",
        "\n",
        "\n",
        "\n",
        "**Recomendações nomes de variáveis**\n",
        "- Variáveis com nomes descritivos\n",
        "- Não usar palavras reservadas\n",
        "- Não usar espaços, vírgula entre nomes compostos de variáveis\n",
        "- Não iniciar nomes de variáveis com números\n",
        "- Não iniciar nomes de variáveis com operadores\n",
        "\n",
        "\n",
        "# **palavras reservadas**\n",
        "help('keywords'): São palavras pre definidas. "
      ],
      "metadata": {
        "id": "F3CnaWSdAHko"
      }
    },
    {
      "cell_type": "markdown",
      "source": [
        "##**Leitura de dados**\n",
        "\n",
        "###A leitura de dados é nada mais que as **Entradas**.Assim como temos dados de saída - dados gerados pelo código e fornecidos para o usuário - também temos dados de entrada: informações que o usuário possui e deve fornecer ao código. Para receber entradas pelo teclado, utilizaremos a função input. Devemos levar uma variável a receber o valor capturado pelo input.\n",
        "\n"
      ],
      "metadata": {
        "id": "2bHd_mzYBXnu"
      }
    },
    {
      "cell_type": "code",
      "source": [
        "nome = input()\n",
        "print('Olá', nome)\n"
      ],
      "metadata": {
        "colab": {
          "base_uri": "https://localhost:8080/"
        },
        "id": "gGEJmqk_Ojf2",
        "outputId": "32af7bc4-e8b6-492d-a5ec-72f68b15b7df"
      },
      "execution_count": null,
      "outputs": [
        {
          "output_type": "stream",
          "name": "stdout",
          "text": [
            "elizangela\n",
            "Olá elizangela\n"
          ]
        }
      ]
    },
    {
      "cell_type": "markdown",
      "source": [
        "###O programa acima captura o nome do usuário e em seguida mostra a mensagem **\"olá\"** seguida do nome do usuário. Note que o programa fica parado em uma tela em branco com um cursor piscando aguardando a digitação pelo usuário. Isso pode ser confuso para o usuário, que não sabe o que o programa está esperando. Por isso, dentro dos parênteses do input podemos colocar uma mensagem simples informando o que o programa gostaria que ele fizesse:\n",
        "\n"
      ],
      "metadata": {
        "id": "JKwpyZpBOvZp"
      }
    },
    {
      "cell_type": "code",
      "source": [
        "nome = input('Qual é o seu nome?')\n",
        "print('Olá', nome)\n",
        "\n",
        "# A leitura é feita atraves da palavras \"input\" e Por padrão o input recebe str"
      ],
      "metadata": {
        "colab": {
          "base_uri": "https://localhost:8080/"
        },
        "id": "iG3tgGA1O65e",
        "outputId": "04589140-b1ba-4409-c53a-2de982f4b863"
      },
      "execution_count": null,
      "outputs": [
        {
          "output_type": "stream",
          "name": "stdout",
          "text": [
            "Qual é o seu nome?Elizangela\n",
            "Olá Elizangela\n"
          ]
        }
      ]
    },
    {
      "cell_type": "markdown",
      "source": [
        "#**Escrita de dados**"
      ],
      "metadata": {
        "id": "UCalnlDpCOWv"
      }
    },
    {
      "cell_type": "markdown",
      "source": [
        "### A escrita de dados não é nada mais que as **Saídas**. Chamamos de saídas do nosso programa todos os dados que são gerados pelo programa e serão fornecidos para o usuário. A função de saída em tela no Python é o print. Colocamos entre parênteses o dado que queremos que apareça.\n",
        "\n",
        "###**print('olá mundo!')**, exibe a frase 'olá mundo' na telaOs dados a serem exibidos não precisam ser valores constantes, como a frase fixa acima. Eles podem ser variáveis:\n",
        "\n"
      ],
      "metadata": {
        "id": "iWDFAXqFPTUD"
      }
    },
    {
      "cell_type": "code",
      "source": [
        "idade = 20\n",
        "print(idade)\n"
      ],
      "metadata": {
        "colab": {
          "base_uri": "https://localhost:8080/"
        },
        "id": "wvt46YArP0Hq",
        "outputId": "617af922-a512-47ce-c731-b02ce101500d"
      },
      "execution_count": null,
      "outputs": [
        {
          "output_type": "stream",
          "name": "stdout",
          "text": [
            "20\n"
          ]
        }
      ]
    },
    {
      "cell_type": "markdown",
      "source": [
        "###Note que quando usamos aspas, o Python trata o valor como uma string, um texto literal. Quando não usamos aspas, o Python irá considerar que aquele é o nome de uma variável e irá acessá-la para buscar seu valor.\n",
        "\n",
        "###Podemos exibir múltiplos dados em um print. Para isso, basta separá-los por vírgula e eles irão aparecer na tela na mesma ordem que apareceram no código:\n",
        "\n"
      ],
      "metadata": {
        "id": "RKsgFBplP36g"
      }
    },
    {
      "cell_type": "code",
      "source": [
        "nome = 'Mario'\n",
        "linguagem = 'Python'\n",
        "print('Oi, eu sou o', nome, 'e eu programo em', linguagem)\n",
        "\n"
      ],
      "metadata": {
        "colab": {
          "base_uri": "https://localhost:8080/"
        },
        "id": "SicN6TI2P_Zp",
        "outputId": "b1e73723-e9dd-48eb-a0c2-722a54b0304d"
      },
      "execution_count": null,
      "outputs": [
        {
          "output_type": "stream",
          "name": "stdout",
          "text": [
            "Oi, eu sou o Mario e eu programo em Python\n"
          ]
        }
      ]
    },
    {
      "cell_type": "markdown",
      "source": [
        "```\n",
        "Resultado na tela:\n",
        "Oi, eu sou o Mario e eu programo em Python\n",
        "```\n",
        "###Note que os dados aparecem em tela separados por um espaço automaticamente. Dois prints sucessivos também possuem uma quebra de linha entre eles. Você pode passar as opções sep e end dentro de seu print para especificar diferentes comportamentos. Exemplo:\n",
        "\n"
      ],
      "metadata": {
        "id": "BuZJaWl6QEI6"
      }
    },
    {
      "cell_type": "code",
      "source": [
        "\n",
        "print('Oi, eu sou o', nome, sep='@', end='***')\n",
        "print('Eu programo em', linguagem, sep='@')\n",
        "\n"
      ],
      "metadata": {
        "colab": {
          "base_uri": "https://localhost:8080/"
        },
        "id": "4i9gRoLEQI9r",
        "outputId": "7e72ef0a-7482-4012-b3cf-765f2e8c50e4"
      },
      "execution_count": null,
      "outputs": [
        {
          "output_type": "stream",
          "name": "stdout",
          "text": [
            "Oi, eu sou o@Mario***Eu programo em@Python\n"
          ]
        }
      ]
    },
    {
      "cell_type": "markdown",
      "source": [
        "```\n",
        "Resultado na tela:\n",
        "Oi, eu sou o@Mario***Eu programo em@Python\n",
        "```\n",
        "#####**Dica:** caso você ache confuso separar os dados por vírgulas, você pode alternativamente utilizar uma **f-string**. Não entraremos em detalhes agora, mas o funcionamento básico é simples: coloque um f antes de abrir aspas, e dentro do texto você pode colocar o nome das variáveis entre chaves. o print abaixo terá o mesmo resultado que o exemplo anterior:\n",
        "\n"
      ],
      "metadata": {
        "id": "uGgmP2SrQQew"
      }
    },
    {
      "cell_type": "code",
      "source": [
        "nome = \"Mario\"\n",
        "linguagem = \"Python\"\n",
        "print(f\"Oi, eu sou o {nome} e eu programo em {linguagem}\")"
      ],
      "metadata": {
        "colab": {
          "base_uri": "https://localhost:8080/"
        },
        "id": "HPZOAm4HQcMK",
        "outputId": "b311a23f-7087-4a47-ad3b-0f942ec9ab95"
      },
      "execution_count": null,
      "outputs": [
        {
          "output_type": "stream",
          "name": "stdout",
          "text": [
            "Oi, eu sou o Mario e eu programo em Python\n"
          ]
        }
      ]
    },
    {
      "cell_type": "code",
      "source": [
        "# veja outro exemplo utilizando f-string , lembrando que a escrita se dar por meio da palavra \"print\"- imprimir\n",
        "\n",
        "print(f\"O nome dele é {nome}! \")"
      ],
      "metadata": {
        "colab": {
          "base_uri": "https://localhost:8080/"
        },
        "id": "mMo-Y9bsCVX1",
        "outputId": "5968a878-843f-444d-ef05-9fda30c0371b"
      },
      "execution_count": null,
      "outputs": [
        {
          "output_type": "stream",
          "name": "stdout",
          "text": [
            "O nome dele é Mario! \n"
          ]
        }
      ]
    },
    {
      "cell_type": "markdown",
      "source": [
        "##**Mudanças de Tipos**"
      ],
      "metadata": {
        "id": "hPAsyz79C2vm"
      }
    },
    {
      "cell_type": "code",
      "source": [
        "a = 2\n",
        "\n",
        "a = str(a)\n",
        "type(a)"
      ],
      "metadata": {
        "colab": {
          "base_uri": "https://localhost:8080/"
        },
        "id": "qmHbT3pzC7bn",
        "outputId": "97410d76-9ed8-4008-97e0-68668a0468e4"
      },
      "execution_count": null,
      "outputs": [
        {
          "output_type": "execute_result",
          "data": {
            "text/plain": [
              "str"
            ]
          },
          "metadata": {},
          "execution_count": 12
        }
      ]
    },
    {
      "cell_type": "code",
      "source": [
        "b = '2'\n",
        "\n",
        "b = int(b)\n",
        "type(b)"
      ],
      "metadata": {
        "colab": {
          "base_uri": "https://localhost:8080/"
        },
        "id": "67hmx_PXDLon",
        "outputId": "623bd99a-5e46-4fb8-8ba3-2f1091621513"
      },
      "execution_count": null,
      "outputs": [
        {
          "output_type": "execute_result",
          "data": {
            "text/plain": [
              "int"
            ]
          },
          "metadata": {},
          "execution_count": 13
        }
      ]
    },
    {
      "cell_type": "code",
      "source": [
        "d = 3\n",
        "d = float(d)\n",
        "d"
      ],
      "metadata": {
        "colab": {
          "base_uri": "https://localhost:8080/"
        },
        "id": "83wXiWq4DPi-",
        "outputId": "0668c8cb-11b7-4414-988a-344f0615477e"
      },
      "execution_count": null,
      "outputs": [
        {
          "output_type": "execute_result",
          "data": {
            "text/plain": [
              "3.0"
            ]
          },
          "metadata": {},
          "execution_count": 16
        }
      ]
    },
    {
      "cell_type": "markdown",
      "source": [
        "#**Operações Aritméticas**\n",
        "\n",
        "  ### As funções aritmeticas podem ser adição, multiplicação, subtração, divisão, potencia, resto da divisão e divisão por inteiro.\n",
        "  ### veja os operadores aceitos:\n",
        "\n",
        "- **Soma**: +\n",
        "- **Subtração**: -\n",
        "- **Multiplicação**: *\n",
        "- **Divisão**: /\n",
        "- **Divisão inteira**: //\n",
        "- **Resto da divisão**: %\n",
        "- **Potência**: **\n",
        "\n"
      ],
      "metadata": {
        "id": "f9A1BTXRDjAv"
      }
    },
    {
      "cell_type": "code",
      "source": [
        "# Adição\n",
        "\n",
        "a =20\n",
        "b =6\n",
        "a+b"
      ],
      "metadata": {
        "colab": {
          "base_uri": "https://localhost:8080/"
        },
        "id": "uVEkjxDjEd_0",
        "outputId": "6602baf2-5d96-49d3-bf1d-8e9dcaf2bc77"
      },
      "execution_count": null,
      "outputs": [
        {
          "output_type": "execute_result",
          "data": {
            "text/plain": [
              "26"
            ]
          },
          "metadata": {},
          "execution_count": 22
        }
      ]
    },
    {
      "cell_type": "code",
      "source": [
        "# subtração\n",
        "\n",
        "a-b"
      ],
      "metadata": {
        "colab": {
          "base_uri": "https://localhost:8080/"
        },
        "id": "QJO8ZXOOFIIG",
        "outputId": "f1a6f2cc-cf7e-43eb-d484-db54239554c6"
      },
      "execution_count": null,
      "outputs": [
        {
          "output_type": "execute_result",
          "data": {
            "text/plain": [
              "14"
            ]
          },
          "metadata": {},
          "execution_count": 23
        }
      ]
    },
    {
      "cell_type": "code",
      "source": [
        "# multiplicação\n",
        "\n",
        "a*b"
      ],
      "metadata": {
        "colab": {
          "base_uri": "https://localhost:8080/"
        },
        "id": "9g7CUhJlFOim",
        "outputId": "0a7d40b1-83a2-4067-c503-34ea4f6f6553"
      },
      "execution_count": null,
      "outputs": [
        {
          "output_type": "execute_result",
          "data": {
            "text/plain": [
              "120"
            ]
          },
          "metadata": {},
          "execution_count": 24
        }
      ]
    },
    {
      "cell_type": "code",
      "source": [
        "# divisão\n",
        "\n",
        "a/b"
      ],
      "metadata": {
        "colab": {
          "base_uri": "https://localhost:8080/"
        },
        "id": "kKlB6Ds8FOvd",
        "outputId": "321ec44d-a18b-47bb-d81d-a51893e4f501"
      },
      "execution_count": null,
      "outputs": [
        {
          "output_type": "execute_result",
          "data": {
            "text/plain": [
              "3.3333333333333335"
            ]
          },
          "metadata": {},
          "execution_count": 25
        }
      ]
    },
    {
      "cell_type": "code",
      "source": [
        "# divisão inteira\n",
        "\n",
        "a//b"
      ],
      "metadata": {
        "colab": {
          "base_uri": "https://localhost:8080/"
        },
        "id": "30T6YnLzFO8l",
        "outputId": "42c988e0-1d48-4fc3-d073-c9f5872c1c0f"
      },
      "execution_count": null,
      "outputs": [
        {
          "output_type": "execute_result",
          "data": {
            "text/plain": [
              "3"
            ]
          },
          "metadata": {},
          "execution_count": 26
        }
      ]
    },
    {
      "cell_type": "code",
      "source": [
        "# resto da divisão\n",
        "\n",
        "a%b"
      ],
      "metadata": {
        "colab": {
          "base_uri": "https://localhost:8080/"
        },
        "id": "vblHiNQDFkjQ",
        "outputId": "48391e3c-06df-47c7-a7e1-008ecc3db975"
      },
      "execution_count": null,
      "outputs": [
        {
          "output_type": "execute_result",
          "data": {
            "text/plain": [
              "2"
            ]
          },
          "metadata": {},
          "execution_count": 27
        }
      ]
    },
    {
      "cell_type": "code",
      "source": [
        "# potencia\n",
        "\n",
        "a**b"
      ],
      "metadata": {
        "colab": {
          "base_uri": "https://localhost:8080/"
        },
        "id": "eW6sw2uSFueB",
        "outputId": "0c041487-39c4-45d2-90e3-908e86641412"
      },
      "execution_count": null,
      "outputs": [
        {
          "output_type": "execute_result",
          "data": {
            "text/plain": [
              "64000000"
            ]
          },
          "metadata": {},
          "execution_count": 28
        }
      ]
    },
    {
      "cell_type": "markdown",
      "source": [
        "#**Exercicios**"
      ],
      "metadata": {
        "id": "iF0ZgA3EF7lt"
      }
    },
    {
      "cell_type": "markdown",
      "source": [
        "###**Faça um Programa que peça dois números e imprima a soma**"
      ],
      "metadata": {
        "id": "qIRx2MR3GBbw"
      }
    },
    {
      "cell_type": "code",
      "source": [
        "num1 = int(input(\"Informe o primeiro número: \"))\n",
        "num2 = int(input(\"Informe o segundo número: \"))\n",
        "\n",
        "soma = num1 + num2\n",
        "print(f'\\nA Soma dos números informados é {soma}')"
      ],
      "metadata": {
        "colab": {
          "base_uri": "https://localhost:8080/"
        },
        "id": "eMX-Tmo7GNAB",
        "outputId": "60e953a8-c8bf-4735-f496-b7f05b83114f"
      },
      "execution_count": null,
      "outputs": [
        {
          "output_type": "stream",
          "name": "stdout",
          "text": [
            "Informe o primeiro número: 12\n",
            "Informe o segundo número: 12\n",
            "\n",
            "A Soma dos números informados é 24\n"
          ]
        }
      ]
    },
    {
      "cell_type": "markdown",
      "source": [
        "###**Faça um Programa que calcule a área de um quadrado, em seguida mostre o dobro desta área para o usuário.**"
      ],
      "metadata": {
        "id": "ug5WkP8sH5D5"
      }
    },
    {
      "cell_type": "code",
      "source": [
        "quadrado = int(input(\"Informe o lado do quadrado para calcular sua área total: \"))\n",
        "\n",
        "area = (quadrado**2)*2\n",
        "\n",
        "print(f'O dobro da área total do quadrado é{area: .2f} m2')"
      ],
      "metadata": {
        "colab": {
          "base_uri": "https://localhost:8080/"
        },
        "id": "2iIQXgXFIA43",
        "outputId": "4242abaf-751a-49fa-90de-b224a65fcc03"
      },
      "execution_count": null,
      "outputs": [
        {
          "output_type": "stream",
          "name": "stdout",
          "text": [
            "Informe o lado do quadrado para calcular sua área total: 10\n",
            "O dobro da área total do quadrado é 200.00 m2\n"
          ]
        }
      ]
    },
    {
      "cell_type": "markdown",
      "source": [
        "###**Tendo como dados de entrada a altura de uma pessoa, construa um algoritmo que calcule seu peso ideal, usando a seguinte fórmula: (72.7*altura) - 58**"
      ],
      "metadata": {
        "id": "zUjm5xQfITEe"
      }
    },
    {
      "cell_type": "code",
      "source": [
        "altura = float(input(\"Informe a sua altura: \"))\n",
        "\n",
        "peso_ideal = (72.7*altura) - 58\n",
        "\n",
        "print(f'\\nO peso ideal é:{peso_ideal: .2f}')"
      ],
      "metadata": {
        "colab": {
          "base_uri": "https://localhost:8080/"
        },
        "id": "vmNZdIDEIYrf",
        "outputId": "16ee5ced-2a45-4539-9665-ea7f98a8f962"
      },
      "execution_count": null,
      "outputs": [
        {
          "output_type": "stream",
          "name": "stdout",
          "text": [
            "Informe a sua altura: 1.69\n",
            "\n",
            "O peso ideal é: 64.86\n"
          ]
        }
      ]
    },
    {
      "cell_type": "markdown",
      "source": [
        "###**Faça um Programa que converta metros para centímetros**"
      ],
      "metadata": {
        "id": "Iz9RND8XJRwI"
      }
    },
    {
      "cell_type": "code",
      "source": [
        "altura = float(input(\"Informe a sua altura em metros: \"))\n",
        "\n",
        "altura = altura*100\n",
        "\n",
        "print(f\"A sua altura em centimetros é {altura}\")"
      ],
      "metadata": {
        "colab": {
          "base_uri": "https://localhost:8080/"
        },
        "id": "gcKwCUJdJVyj",
        "outputId": "beb3c1c5-be14-40b3-91fc-413fd003c859"
      },
      "execution_count": null,
      "outputs": [
        {
          "output_type": "stream",
          "name": "stdout",
          "text": [
            "Informe a sua altura em metros: 1.69\n",
            "A sua altura em centimetros é 169.0\n"
          ]
        }
      ]
    },
    {
      "cell_type": "markdown",
      "source": [
        "###**Resolva a seguinte expressão numérica: 1440 : { 30 . [ 20 + ( 49 - 35 ) . 2 ] }**"
      ],
      "metadata": {
        "id": "0knTBd3sJvKP"
      }
    },
    {
      "cell_type": "code",
      "source": [],
      "metadata": {
        "id": "w-PVXtq8JzGi"
      },
      "execution_count": null,
      "outputs": []
    }
  ]
}