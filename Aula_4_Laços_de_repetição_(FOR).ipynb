{
  "nbformat": 4,
  "nbformat_minor": 0,
  "metadata": {
    "colab": {
      "provenance": [],
      "collapsed_sections": [],
      "authorship_tag": "ABX9TyP0EaZwjSoR5uBBawxwYAL3",
      "include_colab_link": true
    },
    "kernelspec": {
      "name": "python3",
      "display_name": "Python 3"
    },
    "language_info": {
      "name": "python"
    }
  },
  "cells": [
    {
      "cell_type": "markdown",
      "metadata": {
        "id": "view-in-github",
        "colab_type": "text"
      },
      "source": [
        "<a href=\"https://colab.research.google.com/github/ElizangelaStudent/L-GICA-DE-PROGRAMA-O-I-PY-/blob/main/Aula_4_La%C3%A7os_de_repeti%C3%A7%C3%A3o_(FOR).ipynb\" target=\"_parent\"><img src=\"https://colab.research.google.com/assets/colab-badge.svg\" alt=\"Open In Colab\"/></a>"
      ]
    },
    {
      "cell_type": "markdown",
      "source": [
        "##**Laços de repetição (FOR)**\n",
        "\n",
        "![info](https://drive.google.com/uc?export=view&id=1LzoVL5aaY8vRdltguyO49fWG-jg_IoEy)\n",
        "\n",
        "###O for é utilizado para percorrer ou iterar sobre uma sequência de dados (seja esse uma lista, uma tupla, uma string), executando um conjunto de instruções em cada item.\n",
        "\n",
        ">Como você já sabe, o Python utiliza identação para separar blocos de código: nos loops utilizando for não é diferente.\n",
        "\n",
        ">Sua sintaxe básica é: for <nome variável> in <iterável>. Vamos entender:\n",
        "\n",
        "><nome variável> é o nome da variável que vai receber os elemento de <iterável>.\n",
        "<iterável> é o container de dados sobre o qual vamos iterar, podendo ser: uma lista, uma tupla, uma string, um dicionário, entre outros.\n",
        "\n",
        "\n",
        "For <variável> in <coleção iterável>:\n",
        "    #  Bloco de código que deve se repetir\n",
        "\n",
        "###Para entender melhor como esse laço funciona, veja alguns exemplos abaixo.\n",
        "\n",
        "###**Exemplo 1**\n",
        "for letra in ['a', 'b', 'c', 'd']:  #  Iterando sobre uma lista\n",
        "    print(letra)\n",
        "\n",
        "###**Exemplo 2**\n",
        "for letra in 'texto':  #  Iterando sobre uma string\n",
        "    print(letra)\n",
        "\n",
        "###**Exemplo 3 – Cálculo de Fatorial**\n",
        "\n",
        "###**Multiplicar um número n por todos os números de 1 a (n-1)**\n",
        "n = int(input('Digite um número:'))\n",
        "fatorial = 1\n",
        "\n",
        "for x in range(n):  #  range() produz n números, de 0 a n-1\n",
        "    fatorial *= x + 1\n",
        "\n",
        "print(fatorial)\n",
        "C\n",
        "\n"
      ],
      "metadata": {
        "id": "qZvoECSYNJ1T"
      }
    },
    {
      "cell_type": "markdown",
      "source": [
        "###Antes de explicar essa sintaxe em detalhes, é importante falar sobre a maneira como esse tipo de laço funciona em Python, que é diferente de como ele funciona em outras linguagens.\n",
        "\n",
        "###Na maioria das linguagens de programação baseadas em C, o laço for é executado sobre uma sequência de números inteiros.\n",
        "\n",
        "###A variável declarada no laço funciona como um contador que indica o número da iteração que está sendo executada.\n",
        "\n",
        "###Além disso, o for também inclui a condição lógica para que o laço termine e o incremento da variável."
      ],
      "metadata": {
        "id": "xHr2U6Q8OZ-k"
      }
    },
    {
      "cell_type": "markdown",
      "source": [
        "###A forma de controlar o laço for é diferente em Python.Em Python, o laço for é executado sobre uma coleção de objetos.\n",
        "\n",
        "###Isso significa que é possível iterar sobre diversos tipos de objetos e não apenas sobre números inteiros, como você viu nos exemplos no início dessa seção.\n",
        "\n",
        "###A única restrição é que essa coleção de objetos precisa ser iterável.\n",
        "\n",
        "###**E o que isso significa?**\n",
        "\n",
        "###Um iterável (iterable) é um tipo de objeto que, quando passado para a função embutida iter(), retorna um iterator.Parece complicado, ainda mais com todos esses nomes tão parecidos, mas é bem simples.\n",
        "\n",
        "###Um iterator é objeto que representa um fluxo de dados. Ele é o responsável por dividir o iterável e retornar cada um dos seus elementos.\n",
        "\n",
        "###Tem três tipos de objetos são iteráveis, assim como tuplas, dicionários e conjuntos: a lista, um string e o range.Na prática, quase todos os tipos de objetos em Python são iteráveis.Isso quer dizer que você pode passar qualquer objeto desses tipos para um laço for e iterar sobre os seus elementos.Agora que você já entendeu como funcionam os objetos iteráveis, fica mais fácil entender a sintaxe do laço for.\n",
        "\n"
      ],
      "metadata": {
        "id": "GzHfqqbGOgkM"
      }
    },
    {
      "cell_type": "markdown",
      "source": [
        "###**RANGE**\n",
        "\n",
        "####Range(start, stop, step): O range é uma classe iterável. É um tanto semelhante a uma lista, mas com a diferença de que diferentemente de uma lista propriamente dita, os valores intermediários não são armazenados na memória, sendo então calculados a medida que ela for iterada com base no valor do step (que por padrão é 1)\n",
        "\n",
        "\n",
        "- **start**: Opcional. Número inteiro que indica início da sequência. Padrão é 0\n",
        "- **stop**: Obrigatório. Número inteiro que indica fim da sequência. (não incluso).\n",
        "- **step**: Opcional. Número inteiro que indica incremento da sequência. Padrão é 1"
      ],
      "metadata": {
        "id": "EaYIKjMIP-o3"
      }
    },
    {
      "cell_type": "markdown",
      "source": [
        "###**Sintaxe do FOR**\n",
        "\n",
        "for variavel in sequencia:\n",
        "    # bloco de código\n",
        "\n",
        "    "
      ],
      "metadata": {
        "id": "h02AQzroQWDa"
      }
    },
    {
      "cell_type": "code",
      "source": [
        "for i in range(11): # range(11)\n",
        "    print(i)"
      ],
      "metadata": {
        "colab": {
          "base_uri": "https://localhost:8080/"
        },
        "id": "ISmNZTFhQgQf",
        "outputId": "eacde780-1d48-4514-db1a-828124d43036"
      },
      "execution_count": null,
      "outputs": [
        {
          "output_type": "stream",
          "name": "stdout",
          "text": [
            "0\n",
            "1\n",
            "2\n",
            "3\n",
            "4\n",
            "5\n",
            "6\n",
            "7\n",
            "8\n",
            "9\n",
            "10\n"
          ]
        }
      ]
    },
    {
      "cell_type": "code",
      "source": [
        "cont = 0\n",
        "while cont<=10:\n",
        "    print(cont)\n",
        "    cont += 1"
      ],
      "metadata": {
        "colab": {
          "base_uri": "https://localhost:8080/"
        },
        "id": "uuIwpKreQnQz",
        "outputId": "1047acd9-9cf8-443e-97f9-113c5d2d9dff"
      },
      "execution_count": null,
      "outputs": [
        {
          "output_type": "stream",
          "name": "stdout",
          "text": [
            "0\n",
            "1\n",
            "2\n",
            "3\n",
            "4\n",
            "5\n",
            "6\n",
            "7\n",
            "8\n",
            "9\n",
            "10\n"
          ]
        }
      ]
    },
    {
      "cell_type": "markdown",
      "source": [
        "###**Faça uma tabuada de multiplicação de um número inteiro, conforme o exemplo abaixo, utilizando o FOR:**\n",
        "\n",
        "5 X 1 = 5\n",
        "\n",
        "5 X 2 = 10\n",
        "\n",
        "5 X 3 = 15\n",
        "\n",
        "5 X 4 = 20\n",
        "\n",
        "5 X 5 = 25\n",
        "\n",
        "5 X 6 = 30\n",
        "\n",
        "5 X 7 = 35\n",
        "\n",
        "5 X 8 = 40\n",
        "\n",
        "5 X 9 = 45\n",
        "\n",
        "5 X 10 = 50"
      ],
      "metadata": {
        "id": "IaZ-Y0mTRgOz"
      }
    },
    {
      "cell_type": "code",
      "source": [
        "#Exemplo 1\n",
        "\n",
        "print(f\"Tabuada de mutiplicação\\n\")\n",
        "\n",
        "numero = int(input('Informe o numero que você deseja realizar a tabuada:'))\n",
        "\n",
        "for i in range(1,11):\n",
        "  print(f\"{numero}x{i} = {numero*i}\")"
      ],
      "metadata": {
        "colab": {
          "base_uri": "https://localhost:8080/"
        },
        "id": "i0nBltzTRxmS",
        "outputId": "635c2ced-b450-49c8-cc48-77c83ee55b1a"
      },
      "execution_count": null,
      "outputs": [
        {
          "output_type": "stream",
          "name": "stdout",
          "text": [
            "Tabuada de mutiplicação\n",
            "\n",
            "Informe o numero que você deseja realizar a tabuada:2\n",
            "2x1 = 2\n",
            "2x2 = 4\n",
            "2x3 = 6\n",
            "2x4 = 8\n",
            "2x5 = 10\n",
            "2x6 = 12\n",
            "2x7 = 14\n",
            "2x8 = 16\n",
            "2x9 = 18\n",
            "2x10 = 20\n"
          ]
        }
      ]
    },
    {
      "cell_type": "code",
      "source": [
        "#Exemplo 2\n",
        "\n",
        "n = int(input(\"Digite um número:\"))\n",
        "\n",
        "for i in range(11):\n",
        "  tab = n*i\n",
        "  print(f\"{n} x {i} = {tab}\")"
      ],
      "metadata": {
        "colab": {
          "base_uri": "https://localhost:8080/"
        },
        "id": "DE1SMXHCR5xD",
        "outputId": "cf760c2b-03bb-48b4-fc59-bda97475dff2"
      },
      "execution_count": null,
      "outputs": [
        {
          "output_type": "stream",
          "name": "stdout",
          "text": [
            "Digite um número:2\n",
            "2 x 0 = 0\n",
            "2 x 1 = 2\n",
            "2 x 2 = 4\n",
            "2 x 3 = 6\n",
            "2 x 4 = 8\n",
            "2 x 5 = 10\n",
            "2 x 6 = 12\n",
            "2 x 7 = 14\n",
            "2 x 8 = 16\n",
            "2 x 9 = 18\n",
            "2 x 10 = 20\n"
          ]
        }
      ]
    },
    {
      "cell_type": "markdown",
      "source": [
        "###**Programa que receba uma palavra e imprima a quantidade de vogais e consoantes, utilizando o FOR.**"
      ],
      "metadata": {
        "id": "KwUE34czSKdr"
      }
    },
    {
      "cell_type": "code",
      "source": [
        "#Exemplo 1\n",
        "\n",
        "palavra = input('Digite uma palavra: ')\n",
        "\n",
        "vogais = 0\n",
        "consoantes = 0\n",
        "\n",
        "for i in palavra:\n",
        "    if i in 'aeiouAEIOU':\n",
        "        vogais += 1\n",
        "    else:\n",
        "        consoantes +=1\n",
        "        \n",
        "print(f'A palavra {palavra} tem {vogais} vogais e {consoantes} consoantes')"
      ],
      "metadata": {
        "colab": {
          "base_uri": "https://localhost:8080/"
        },
        "id": "GJLdQ8HzSTHe",
        "outputId": "e1a977c7-5889-4395-f4d5-a030fbb2d35e"
      },
      "execution_count": null,
      "outputs": [
        {
          "output_type": "stream",
          "name": "stdout",
          "text": [
            "Digite uma palavra: Ana\n",
            "A palavra Ana tem 2 vogais e 1 consoantes\n"
          ]
        }
      ]
    },
    {
      "cell_type": "code",
      "source": [
        "#Exemplo 2\n",
        "\n",
        "palavra = input(\"Digite uma palavra:\")\n",
        "\n",
        "vogal = 0\n",
        "consoante = 0\n",
        "\n",
        "for i in palavra:\n",
        "    # i = 'oueia'\n",
        "  if i == 'a' or i == 'e' or i == 'i' or i == 'o' or i =='u':\n",
        "    vogal += 1\n",
        "  else:\n",
        "    consoante += 1\n",
        "\n",
        "print(f\"A quantidade de vogais é {vogal}\")\n",
        "print(f\"A quantidade de consoantes é {consoante}\")"
      ],
      "metadata": {
        "colab": {
          "base_uri": "https://localhost:8080/"
        },
        "id": "Yl8BBhF5SoYf",
        "outputId": "bea1b821-c16d-42c8-8495-8bbd804daa7f"
      },
      "execution_count": null,
      "outputs": [
        {
          "output_type": "stream",
          "name": "stdout",
          "text": [
            "Digite uma palavra:Ana\n",
            "A quantidade de vogais é 1\n",
            "A quantidade de consoantes é 2\n"
          ]
        }
      ]
    },
    {
      "cell_type": "markdown",
      "source": [
        "##**Exercícios**"
      ],
      "metadata": {
        "id": "YCj5a1y5UikP"
      }
    },
    {
      "cell_type": "markdown",
      "source": [
        "##**Desenvolva um programa, utilizando um loop, a seguinte sequência numérica:**\n",
        "\n"
      ],
      "metadata": {
        "id": "AMCM9HBsUquY"
      }
    },
    {
      "cell_type": "code",
      "source": [
        "30\n",
        "37\n",
        "44\n",
        "51\n",
        "58\n",
        "65\n",
        "72\n",
        "79\n",
        "86"
      ],
      "metadata": {
        "id": "pmM75tDHUyyY"
      },
      "execution_count": null,
      "outputs": []
    },
    {
      "cell_type": "code",
      "source": [
        "#Exemplo 1\n",
        "\n",
        "numero=30\n",
        "\n",
        "while numero >=30 and numero<90:\n",
        "      print(numero)\n",
        "      numero += 7 \n"
      ],
      "metadata": {
        "colab": {
          "base_uri": "https://localhost:8080/"
        },
        "id": "wSx-t5aodFFO",
        "outputId": "fe037b5d-40b1-4c72-ed17-d314948f0dc9"
      },
      "execution_count": null,
      "outputs": [
        {
          "output_type": "stream",
          "name": "stdout",
          "text": [
            "30\n",
            "37\n",
            "44\n",
            "51\n",
            "58\n",
            "65\n",
            "72\n",
            "79\n",
            "86\n"
          ]
        }
      ]
    },
    {
      "cell_type": "code",
      "source": [
        "#Exemplo 2\n",
        "\n",
        "for i in range (30,87,7):\n",
        "  print (i)\n",
        "   \n"
      ],
      "metadata": {
        "id": "xl7HDbr_eK2O",
        "colab": {
          "base_uri": "https://localhost:8080/"
        },
        "outputId": "89a421d8-289c-4a2a-9bdd-69cffc62d445"
      },
      "execution_count": null,
      "outputs": [
        {
          "output_type": "stream",
          "name": "stdout",
          "text": [
            "30\n",
            "37\n",
            "44\n",
            "51\n",
            "58\n",
            "65\n",
            "72\n",
            "79\n",
            "86\n"
          ]
        }
      ]
    },
    {
      "cell_type": "code",
      "source": [
        "#Exemplo 3\n",
        "num = 30\n",
        "soma = 0\n",
        "for i in range(9):\n",
        "  print(num + soma)\n",
        "  soma += 7"
      ],
      "metadata": {
        "colab": {
          "base_uri": "https://localhost:8080/"
        },
        "id": "Og69X0-wLKdt",
        "outputId": "d7577157-29ed-4540-bc32-c4c2f625da74"
      },
      "execution_count": null,
      "outputs": [
        {
          "output_type": "stream",
          "name": "stdout",
          "text": [
            "30\n",
            "37\n",
            "44\n",
            "51\n",
            "58\n",
            "65\n",
            "72\n",
            "79\n",
            "86\n"
          ]
        }
      ]
    },
    {
      "cell_type": "markdown",
      "source": [
        "###**Desenvolva um programa que receba um número de linhas e em seguida imprima a sequência de caracteres da seguinte forma:**\n",
        "* \n",
        "* * \n",
        "* * * \n",
        "* * * * \n",
        "* * * * *\n",
        "DICA: pesquise sobre impressão de valores em horizontal."
      ],
      "metadata": {
        "id": "qzFTl1EKVeVQ"
      }
    },
    {
      "cell_type": "code",
      "source": [
        "#Exemplo 1\n",
        "\n",
        "num = int(input('Digite a quantidade de linhas: '))\n",
        "\n",
        "for i in range(num+1):\n",
        "    print(i*' *')"
      ],
      "metadata": {
        "colab": {
          "base_uri": "https://localhost:8080/"
        },
        "id": "x3Iz-QagMQbe",
        "outputId": "8a3cfd02-17ee-473d-a098-775c4d1905a9"
      },
      "execution_count": null,
      "outputs": [
        {
          "output_type": "stream",
          "name": "stdout",
          "text": [
            "Digite a quantidade de linhas: 3\n",
            "\n",
            " *\n",
            " * *\n",
            " * * *\n"
          ]
        }
      ]
    },
    {
      "cell_type": "code",
      "source": [
        "#Exemplo 2\n",
        "\n",
        "linhas = int(input('Digite um número de linhas: '))\n",
        "for i in range(linhas):\n",
        "  print('* '* (i+1))"
      ],
      "metadata": {
        "colab": {
          "base_uri": "https://localhost:8080/"
        },
        "id": "ZeMiOVRSMYLs",
        "outputId": "1f19507d-a06a-47dd-d475-1a7db0f59d82"
      },
      "execution_count": null,
      "outputs": [
        {
          "output_type": "stream",
          "name": "stdout",
          "text": [
            "Digite um número de linhas: 4\n",
            "* \n",
            "* * \n",
            "* * * \n",
            "* * * * \n"
          ]
        }
      ]
    },
    {
      "cell_type": "code",
      "source": [
        "#Exemplo 3\n",
        "\n",
        "linhas = int(input(\"Insira um número: \"))\n",
        "caracter = \"* \"\n",
        "\n",
        "for i in range (1, linhas+1):\n",
        "   print(i* caracter)"
      ],
      "metadata": {
        "colab": {
          "base_uri": "https://localhost:8080/"
        },
        "id": "qi2UUdexNjwr",
        "outputId": "d91e554c-d0d2-4d2d-9135-3f78121f3498"
      },
      "execution_count": null,
      "outputs": [
        {
          "output_type": "stream",
          "name": "stdout",
          "text": [
            "Insira um número: 4\n",
            "* \n",
            "* * \n",
            "* * * \n",
            "* * * * \n"
          ]
        }
      ]
    }
  ]
}