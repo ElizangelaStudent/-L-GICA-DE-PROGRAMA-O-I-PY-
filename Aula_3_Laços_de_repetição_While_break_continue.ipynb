{
  "nbformat": 4,
  "nbformat_minor": 0,
  "metadata": {
    "colab": {
      "provenance": [],
      "collapsed_sections": [],
      "authorship_tag": "ABX9TyM0H6CYMIppKvPk/gQFgQwk",
      "include_colab_link": true
    },
    "kernelspec": {
      "name": "python3",
      "display_name": "Python 3"
    },
    "language_info": {
      "name": "python"
    }
  },
  "cells": [
    {
      "cell_type": "markdown",
      "metadata": {
        "id": "view-in-github",
        "colab_type": "text"
      },
      "source": [
        "<a href=\"https://colab.research.google.com/github/ElizangelaStudent/L-GICA-DE-PROGRAMA-O-I-PY-/blob/main/Aula_3_La%C3%A7os_de_repeti%C3%A7%C3%A3o_While_break_continue.ipynb\" target=\"_parent\"><img src=\"https://colab.research.google.com/assets/colab-badge.svg\" alt=\"Open In Colab\"/></a>"
      ]
    },
    {
      "cell_type": "markdown",
      "source": [
        "\n",
        "#**Laços de repetição- While/break/continue**"
      ],
      "metadata": {
        "id": "J6CbhJneDYIc"
      }
    },
    {
      "cell_type": "markdown",
      "source": [
        "###**Laços de repetição condicionais (WHILE)**\n",
        "\n",
        "\n",
        "###A estrutura de repetição é um recurso das linguagens de programação responsável por executar um bloco de código repetidas vezes enquanto determinada condição é atendida. No Python, possuímos dois tipos de estruturas de repetição: for e while.\n",
        "\n",
        "###Nesta documentação abordaremos o comando while."
      ],
      "metadata": {
        "id": "_HkwJqPlL4JH"
      }
    },
    {
      "cell_type": "markdown",
      "source": [
        "###O comando while faz com que um conjunto de instruções seja executado enquanto uma condição é atendida. Quando o resultado dessa condição passa a ser falso, a execução do loop é interrompida, como mostra o exemplo a seguir:"
      ],
      "metadata": {
        "id": "svH4sGBcFHYf"
      }
    },
    {
      "cell_type": "code",
      "source": [
        "contador = 0\n",
        "while (contador < 5):\n",
        "       print(contador)\n",
        "       contador   = contador + 1"
      ],
      "metadata": {
        "colab": {
          "base_uri": "https://localhost:8080/"
        },
        "id": "G2ISZgCVFWY1",
        "outputId": "35fedc29-53eb-452a-cf46-f9c547bea3dc"
      },
      "execution_count": null,
      "outputs": [
        {
          "output_type": "stream",
          "name": "stdout",
          "text": [
            "0\n",
            "1\n",
            "2\n",
            "3\n",
            "4\n"
          ]
        }
      ]
    },
    {
      "cell_type": "markdown",
      "source": [
        "###Neste código, enquanto a variável contador, inicializada com 0, for menor do que 5, as instruções das linhas 3 e 4 serão executadas.\n",
        "\n",
        "###Observe que na linha 4 incrementamos o valor da variável contador, de forma que em algum momento seu valor igualará o número 5. Quando isso for verificado na linha 2, o laço será interrompido. Sem esse código, a condição de parada não será atingida, gerando o que é chamado de loop infinito. Evite que isso aconteça, pois leva ao congelamento e finalização da aplicação."
      ],
      "metadata": {
        "id": "dPVj-kpDFmoI"
      }
    },
    {
      "cell_type": "markdown",
      "source": [
        "![image info](https://cdn.programiz.com/sites/tutorial2program/files/whileLoopFlowchart.jpg)"
      ],
      "metadata": {
        "id": "014ZRwOPDXFr"
      }
    },
    {
      "cell_type": "code",
      "source": [
        "cont = 0\n",
        "\n",
        "while cont<=15:\n",
        "    print(cont)\n",
        "    cont = cont + 1"
      ],
      "metadata": {
        "colab": {
          "base_uri": "https://localhost:8080/"
        },
        "id": "PsR6l7oNGEmn",
        "outputId": "62f45998-9ff1-4efe-a3f4-31a25c73acd1"
      },
      "execution_count": null,
      "outputs": [
        {
          "output_type": "stream",
          "name": "stdout",
          "text": [
            "0\n",
            "1\n",
            "2\n",
            "3\n",
            "4\n",
            "5\n",
            "6\n",
            "7\n",
            "8\n",
            "9\n",
            "10\n",
            "11\n",
            "12\n",
            "13\n",
            "14\n",
            "15\n"
          ]
        }
      ]
    },
    {
      "cell_type": "markdown",
      "source": [
        "###**Faça um programa que imprima na tela apenas os números ímpares entre 1 e 50.**"
      ],
      "metadata": {
        "id": "PuBoWB6bGRn5"
      }
    },
    {
      "cell_type": "code",
      "source": [
        "cont = 1\n",
        "while cont <= 50:\n",
        "  print(cont)\n",
        "  cont += 2"
      ],
      "metadata": {
        "colab": {
          "base_uri": "https://localhost:8080/"
        },
        "id": "bRo2-CNGGQkQ",
        "outputId": "33761c2d-a88e-48eb-d199-07c1844b7690"
      },
      "execution_count": null,
      "outputs": [
        {
          "output_type": "stream",
          "name": "stdout",
          "text": [
            "1\n",
            "3\n",
            "5\n",
            "7\n",
            "9\n",
            "11\n",
            "13\n",
            "15\n",
            "17\n",
            "19\n",
            "21\n",
            "23\n",
            "25\n",
            "27\n",
            "29\n",
            "31\n",
            "33\n",
            "35\n",
            "37\n",
            "39\n",
            "41\n",
            "43\n",
            "45\n",
            "47\n",
            "49\n"
          ]
        }
      ]
    },
    {
      "cell_type": "markdown",
      "source": [
        "###**Faça um programa que imprima na tela apenas os números ímpares entre 1 e 50.**"
      ],
      "metadata": {
        "id": "hTZ9pu2JG3Un"
      }
    },
    {
      "cell_type": "code",
      "source": [
        "numero=0\n",
        "\n",
        "while numero<=50:\n",
        "  if numero%2 == 1:\n",
        "      print(numero)\n",
        "  numero += 1 # numero = numero + 1\n"
      ],
      "metadata": {
        "colab": {
          "base_uri": "https://localhost:8080/"
        },
        "id": "cjNxJI2WGv3K",
        "outputId": "f7aadb12-8a97-4be5-bc4a-41b4f83e81c9"
      },
      "execution_count": null,
      "outputs": [
        {
          "output_type": "stream",
          "name": "stdout",
          "text": [
            "1\n",
            "3\n",
            "5\n",
            "7\n",
            "9\n",
            "11\n",
            "13\n",
            "15\n",
            "17\n",
            "19\n",
            "21\n",
            "23\n",
            "25\n",
            "27\n",
            "29\n",
            "31\n",
            "33\n",
            "35\n",
            "37\n",
            "39\n",
            "41\n",
            "43\n",
            "45\n",
            "47\n",
            "49\n"
          ]
        }
      ]
    },
    {
      "cell_type": "markdown",
      "source": [
        "###**Faça um programa que calcule o fatorial de um número inteiro fornecido pelo usuário**\n",
        "\n",
        "Ex.: 5!=5.4.3.2.1 = 120."
      ],
      "metadata": {
        "id": "gn9ccav2HBQJ"
      }
    },
    {
      "cell_type": "code",
      "source": [
        "#Exemplo 1\n",
        "\n",
        "entrada= (int(input('Digite um número: ')))\n",
        "\n",
        "contador = 1\n",
        "fatorial = entrada\n",
        "\n",
        "while (contador < entrada):\n",
        "   fatorial = (fatorial * contador) # fatorial *= contador\n",
        "   contador = (contador + 1) # contador += 1\n",
        "\n",
        "print(fatorial)"
      ],
      "metadata": {
        "colab": {
          "base_uri": "https://localhost:8080/"
        },
        "id": "x9yT9Pl8HFGf",
        "outputId": "7ac4d989-87f5-478b-f155-3c9f28550644"
      },
      "execution_count": null,
      "outputs": [
        {
          "output_type": "stream",
          "name": "stdout",
          "text": [
            "Digite um número: 5\n",
            "120\n"
          ]
        }
      ]
    },
    {
      "cell_type": "code",
      "source": [
        "#Exemplo 2\n",
        "\n",
        "numero = int(input(\"Fatorial de: \") )\n",
        "\n",
        "resultado=1\n",
        "cont=1\n",
        "\n",
        "while cont <= numero:\n",
        "    resultado *= cont\n",
        "    cont += 1\n",
        "\n",
        "print(resultado)"
      ],
      "metadata": {
        "colab": {
          "base_uri": "https://localhost:8080/"
        },
        "id": "EO_9s0DBoa5G",
        "outputId": "f8ba837e-d706-4203-b746-43d863ca2ed7"
      },
      "execution_count": null,
      "outputs": [
        {
          "output_type": "stream",
          "name": "stdout",
          "text": [
            "Fatorial de: 5\n",
            "120\n"
          ]
        }
      ]
    },
    {
      "cell_type": "code",
      "source": [],
      "metadata": {
        "id": "75ueea3hv-4q"
      },
      "execution_count": null,
      "outputs": []
    },
    {
      "cell_type": "markdown",
      "source": [
        "###**Comandos de manipulação de fluxo(BREAK/CONTINUE)**\n",
        "\n",
        "- BREAK-condição de parada, quando estamos em uma malha de repetição e encontramos o comando break, a malha é interrompida imediatamente"
      ],
      "metadata": {
        "id": "snXwFWwawr3E"
      }
    },
    {
      "cell_type": "code",
      "source": [
        "\n",
        "#Exemplo 1- break\n",
        "cont = 1\n",
        "\n",
        "while True:\n",
        "    print(cont) \n",
        "    cont += 1\n",
        "\n",
        "    if cont == 11:\n",
        "        print('acabou!!!')\n",
        "        print('acabou amesmo!!!')\n",
        "        break\n"
      ],
      "metadata": {
        "colab": {
          "base_uri": "https://localhost:8080/"
        },
        "id": "pvzcTSivxEka",
        "outputId": "6493985e-68f7-440d-86cf-9aa5e3c74fab"
      },
      "execution_count": null,
      "outputs": [
        {
          "output_type": "stream",
          "name": "stdout",
          "text": [
            "1\n",
            "2\n",
            "3\n",
            "4\n",
            "5\n",
            "6\n",
            "7\n",
            "8\n",
            "9\n",
            "10\n",
            "acabou!!!\n",
            "acabou amesmo!!!\n"
          ]
        }
      ]
    },
    {
      "cell_type": "code",
      "source": [
        "#Exemplo 2- break(Advinhe o numero secreto)\n",
        "\n",
        "numero_secreto = 42\n",
        "\n",
        "contador = 0\n",
        "\n",
        "while contador < 10:\n",
        "  tentativa = int(input('Adivinhe o número secreto: '))\n",
        "  contador += 1\n",
        "  if tentativa != numero_secreto:\n",
        "    print('Errou!')\n",
        "    continue\n",
        "  print('Acertou!')\n",
        "  break\n",
        "else:\n",
        "  print('Acabaram as tentativas. Você perdeu.')"
      ],
      "metadata": {
        "colab": {
          "base_uri": "https://localhost:8080/"
        },
        "id": "ZM5VNphXIL65",
        "outputId": "88383bcc-b705-43f8-c4f3-7230a1c1f707"
      },
      "execution_count": null,
      "outputs": [
        {
          "output_type": "stream",
          "name": "stdout",
          "text": [
            "Adivinhe o número secreto: 4\n",
            "Errou!\n",
            "Adivinhe o número secreto: 6\n",
            "Errou!\n",
            "Adivinhe o número secreto: 9\n",
            "Errou!\n",
            "Adivinhe o número secreto: 3\n",
            "Errou!\n",
            "Adivinhe o número secreto: 1\n",
            "Errou!\n",
            "Adivinhe o número secreto: 2\n",
            "Errou!\n",
            "Adivinhe o número secreto: 8\n",
            "Errou!\n",
            "Adivinhe o número secreto: 10\n",
            "Errou!\n",
            "Adivinhe o número secreto: 7\n",
            "Errou!\n",
            "Adivinhe o número secreto: 5\n",
            "Errou!\n",
            "Acabaram as tentativas. Você perdeu.\n"
          ]
        }
      ]
    },
    {
      "cell_type": "markdown",
      "source": [
        "###**Faça um programa que peça uma nota, entre zero e nove Mostre uma mensagem caso o valor seja inválido e continue pedindo até que o usuário informe um valor válido.**"
      ],
      "metadata": {
        "id": "bjvpYG8E1YHy"
      }
    },
    {
      "cell_type": "code",
      "source": [
        "#Exemplo 1\n",
        "nota = int(input('Digite uma nota entre zero e nove:  '))\n",
        "\n",
        "while 0 >= nota <= 9:\n",
        "  print('Nota válida!')\n",
        "  break\n",
        "else:\n",
        "  print('Número errado, tente novamente')\n",
        "  nota = int(input('Digite uma nota entre zero e nove:  '))"
      ],
      "metadata": {
        "id": "oSL5G5Bj1Y0z",
        "colab": {
          "base_uri": "https://localhost:8080/"
        },
        "outputId": "fce916c2-1a19-4f2c-8515-94b0e32a614b"
      },
      "execution_count": null,
      "outputs": [
        {
          "name": "stdout",
          "output_type": "stream",
          "text": [
            "Digite uma nota entre zero e nove:  8\n",
            "Número errado, tente novamente\n",
            "Digite uma nota entre zero e nove:  2\n"
          ]
        }
      ]
    },
    {
      "cell_type": "code",
      "source": [
        "#Exemplo 2- break e continue\n",
        "\n",
        "while True:\n",
        "  nota = float(input(\"Informe a nota: \"))\n",
        "  if 1 <= nota <= 9:\n",
        "    print (\"Nota válida.\")\n",
        "    break\n",
        "  else:\n",
        "    print (\"Nota inválida.\")\n",
        "    continue"
      ],
      "metadata": {
        "colab": {
          "base_uri": "https://localhost:8080/"
        },
        "id": "76CIgZPMJQPw",
        "outputId": "40d7d4db-b8e4-4aea-84dd-61a27ee64d57"
      },
      "execution_count": null,
      "outputs": [
        {
          "output_type": "stream",
          "name": "stdout",
          "text": [
            "Informe a nota: 10\n",
            "Nota inválida.\n",
            "Informe a nota: 8\n",
            "Nota válida.\n"
          ]
        }
      ]
    },
    {
      "cell_type": "markdown",
      "source": [
        "###**Continue:** encerra o passo atual e passa para o próximo avançando na sequência automaticamente."
      ],
      "metadata": {
        "id": "mSuWUI5mJZCH"
      }
    },
    {
      "cell_type": "code",
      "source": [
        "#Exemplo- Continue\n",
        "\n",
        "num = int(input('digite uma nota: '))\n",
        "\n",
        "while num >  9:\n",
        "  num = int(input('digite uma nota: '))\n",
        "  continue\n",
        "if num <= 9:\n",
        "  print('válido')"
      ],
      "metadata": {
        "id": "_vgy0F_ZKGBe"
      },
      "execution_count": null,
      "outputs": []
    },
    {
      "cell_type": "markdown",
      "source": [
        "###**Escreva um programa que solicita 5 números inteiros ao usuário, através de um laço while, e ao final mostre o maior número digitado pelo usuário.**"
      ],
      "metadata": {
        "id": "9G6a9qmg1-mB"
      }
    },
    {
      "cell_type": "code",
      "source": [
        "cont = 0\n",
        "maior = -100000000000000000000000000000000000000000000000000000000000000000000000000000000000000000000000000000000000000000000000000\n",
        "\n",
        "while cont < 5:\n",
        "  cont = cont +1\n",
        "  num1 = int(input(\"Digite um número: \"))\n",
        "  if num1 > maior:\n",
        "    maior = num1\n",
        "\n",
        "print(maior)"
      ],
      "metadata": {
        "colab": {
          "base_uri": "https://localhost:8080/"
        },
        "id": "eW9Nw5oi1yPw",
        "outputId": "d1af5d5a-1c7e-49d4-df2c-d98098aecdc1"
      },
      "execution_count": null,
      "outputs": [
        {
          "output_type": "stream",
          "name": "stdout",
          "text": [
            "Digite um número: 10\n",
            "Digite um número: 12\n",
            "Digite um número: 12\n",
            "Digite um número: -10\n",
            "Digite um número: -13\n",
            "12\n"
          ]
        }
      ]
    },
    {
      "cell_type": "markdown",
      "source": [
        "###**Faça uma tabuada de multiplicação de um número inteirode forma, conforme o exemplo abaixo, utilizando o laço while**\n",
        "\n",
        "- 5 x 1 = 5\n",
        "\n",
        "- 5 x 2 = 10\n",
        "\n",
        "- 5 x 3 = 15\n",
        "\n",
        "- 5 x 4 = 20\n",
        "\n",
        "- 5 x 5 = 25\n",
        "\n",
        "- 5 x 6 = 30\n",
        "\n",
        "- 5 x 7 = 35\n",
        "\n",
        "- 5 x 8 = 40\n",
        "\n",
        "- 5 x 9 = 45\n",
        "\n",
        "- 5 x 10 = 50"
      ],
      "metadata": {
        "id": "d3DwQZc4K5D-"
      }
    },
    {
      "cell_type": "code",
      "source": [
        "#Exemplo 1\n",
        "\n",
        "num = int(input(\"Informe um número: \"))\n",
        "cont = 0\n",
        "\n",
        "while cont < 10:\n",
        "  cont+=1\n",
        "  print(f\"{num} x {cont} = {num*cont}\")"
      ],
      "metadata": {
        "id": "H_0GJ7iU7kr2",
        "outputId": "a66a19c1-e41d-4bc0-fd5f-e0e3a4a30460",
        "colab": {
          "base_uri": "https://localhost:8080/"
        }
      },
      "execution_count": null,
      "outputs": [
        {
          "output_type": "stream",
          "name": "stdout",
          "text": [
            "Informe um número: 2\n",
            "2 x 1 = 2\n",
            "2 x 2 = 4\n",
            "2 x 3 = 6\n",
            "2 x 4 = 8\n",
            "2 x 5 = 10\n",
            "2 x 6 = 12\n",
            "2 x 7 = 14\n",
            "2 x 8 = 16\n",
            "2 x 9 = 18\n",
            "2 x 10 = 20\n"
          ]
        }
      ]
    },
    {
      "cell_type": "code",
      "source": [
        "#Exemplo 2\n",
        "\n",
        "numero = int(input('Digite um número para a taboada: '))\n",
        "cont = 0\n",
        "\n",
        "while cont < 10:\n",
        "  cont += 1\n",
        "  taboada = numero*cont\n",
        " \n",
        "  print(f'{numero}x{cont} = {taboada}')"
      ],
      "metadata": {
        "colab": {
          "base_uri": "https://localhost:8080/"
        },
        "id": "ZhIQclPKLm62",
        "outputId": "1d171c60-39a9-4ba4-ad38-e4665cddb3c2"
      },
      "execution_count": null,
      "outputs": [
        {
          "output_type": "stream",
          "name": "stdout",
          "text": [
            "Digite um número para a taboada: 2\n",
            "2x1 = 2\n",
            "2x2 = 4\n",
            "2x3 = 6\n",
            "2x4 = 8\n",
            "2x5 = 10\n",
            "2x6 = 12\n",
            "2x7 = 14\n",
            "2x8 = 16\n",
            "2x9 = 18\n",
            "2x10 = 20\n"
          ]
        }
      ]
    }
  ]
}