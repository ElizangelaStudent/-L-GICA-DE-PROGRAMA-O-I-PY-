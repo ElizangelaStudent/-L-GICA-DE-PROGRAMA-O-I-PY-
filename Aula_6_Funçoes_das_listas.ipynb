{
  "nbformat": 4,
  "nbformat_minor": 0,
  "metadata": {
    "colab": {
      "provenance": [],
      "collapsed_sections": [],
      "authorship_tag": "ABX9TyNJg48tVDH4+ie1ltFlc3db",
      "include_colab_link": true
    },
    "kernelspec": {
      "name": "python3",
      "display_name": "Python 3"
    },
    "language_info": {
      "name": "python"
    }
  },
  "cells": [
    {
      "cell_type": "markdown",
      "metadata": {
        "id": "view-in-github",
        "colab_type": "text"
      },
      "source": [
        "<a href=\"https://colab.research.google.com/github/ElizangelaStudent/L-GICA-DE-PROGRAMA-O-I-PY-/blob/main/Aula_6_Fun%C3%A7oes_das_listas.ipynb\" target=\"_parent\"><img src=\"https://colab.research.google.com/assets/colab-badge.svg\" alt=\"Open In Colab\"/></a>"
      ]
    },
    {
      "cell_type": "markdown",
      "source": [
        "#**Listas**\n",
        "\n",
        "###No Python, uma lista é uma sequência de elementos(Variaveis), que podem ou não ser do mesmo tipo, são separados por vírgula e  ficam dentro de colchetes [ ]. Além disso, são representadas pelo tipo **list**."
      ],
      "metadata": {
        "id": "i9PLhp1SByaS"
      }
    },
    {
      "cell_type": "code",
      "source": [
        "l=[1,2,3,4] \n",
        "l \n",
        "   "
      ],
      "metadata": {
        "colab": {
          "base_uri": "https://localhost:8080/"
        },
        "id": "ilnfRlmsBzlt",
        "outputId": "f543f46e-ef80-4f0b-c6af-f0a2e2dffe7f"
      },
      "execution_count": null,
      "outputs": [
        {
          "output_type": "execute_result",
          "data": {
            "text/plain": [
              "[1, 2, 3, 4]"
            ]
          },
          "metadata": {},
          "execution_count": 1
        }
      ]
    },
    {
      "cell_type": "code",
      "source": [
        "list=[1,2,3,4]\n",
        "list"
      ],
      "metadata": {
        "colab": {
          "base_uri": "https://localhost:8080/"
        },
        "id": "94Uc_H6aB4yX",
        "outputId": "607d4180-13e7-4d82-d89e-81bb6d8932e3"
      },
      "execution_count": null,
      "outputs": [
        {
          "output_type": "execute_result",
          "data": {
            "text/plain": [
              "[1, 2, 3, 4]"
            ]
          },
          "metadata": {},
          "execution_count": 2
        }
      ]
    },
    {
      "cell_type": "code",
      "source": [
        "#acessando lista para dentro da lista,coloca a lista(que se encontra dentro da outra lista, que será representado pelo [-1] e a posição do numero, exemplo se for o  4, sera[0].\n",
        "#Lembrando que a posição começa do 0. \n",
        "\n",
        "l=[1,2,3,[4,5,7]]\n",
        "l[-1][2]"
      ],
      "metadata": {
        "colab": {
          "base_uri": "https://localhost:8080/"
        },
        "id": "QW-rLQMbB77v",
        "outputId": "01ed0298-ea81-4bb9-a23a-2a2848e1303d"
      },
      "execution_count": null,
      "outputs": [
        {
          "output_type": "execute_result",
          "data": {
            "text/plain": [
              "7"
            ]
          },
          "metadata": {},
          "execution_count": 3
        }
      ]
    },
    {
      "cell_type": "markdown",
      "source": [
        "##**Adicionando elementos**\n",
        "\n",
        "###Podemos adicionar novos elementos na lista de duas maneiras. A primeira delas, mais simples, é o append. Ele adiciona um elemento ao final da lista. Veja o exemplo abaixo:\n",
        "\n"
      ],
      "metadata": {
        "id": "FVM0iZpCCNxu"
      }
    },
    {
      "cell_type": "code",
      "source": [
        "pares = [0, 2, 4, 6, 8]\n",
        "pares.append(10)\n",
        "print(pares) # resultado: [0, 2, 4, 6, 8, 10]\n",
        "\n",
        "\n",
        "\n"
      ],
      "metadata": {
        "colab": {
          "base_uri": "https://localhost:8080/"
        },
        "id": "OBh2XqQpCk8-",
        "outputId": "14ccdade-e5cc-49d6-a98f-5efbc9d4a80f"
      },
      "execution_count": null,
      "outputs": [
        {
          "output_type": "stream",
          "name": "stdout",
          "text": [
            "[0, 2, 4, 6, 8, 10]\n"
          ]
        }
      ]
    },
    {
      "cell_type": "markdown",
      "source": [
        "###Outra maneira é com o insert: além do elemento, ele recebe a posição do novo elemento. O primeiro parâmetro é a posição, e a segunda é o valor.\n",
        "\n"
      ],
      "metadata": {
        "id": "Gs3bTV2PCqrs"
      }
    },
    {
      "cell_type": "code",
      "source": [
        "pares = [0, 2, 4, 8, 10]\n",
        "pares.insert(3, 6)\n",
        "print(pares) #resultado: [0, 2, 4, 6, 8, 10]\n",
        "\n",
        "\n",
        "#Note que o valor que ocupava a posição anteriormente não é substituído, mas \"empurrado\" para a próxima posição.\n",
        "\n"
      ],
      "metadata": {
        "colab": {
          "base_uri": "https://localhost:8080/"
        },
        "id": "YqzgQMmlCyAM",
        "outputId": "7d2db38c-b8aa-4405-8ddd-75d9b981f01e"
      },
      "execution_count": null,
      "outputs": [
        {
          "output_type": "stream",
          "name": "stdout",
          "text": [
            "[0, 2, 4, 6, 8, 10]\n"
          ]
        }
      ]
    },
    {
      "cell_type": "markdown",
      "source": [
        "#####**Para adicionar um item a lista:**\n",
        "\n",
        "- **append()**: adiciona o item ao final da lista;\n",
        "- **insert():** insere um item na lista na posição indicada."
      ],
      "metadata": {
        "id": "hN0LjVF-D3mq"
      }
    },
    {
      "cell_type": "markdown",
      "source": [
        "##**Removendo elementos**\n",
        "\n",
        "###Podemos remover o elemento de 2 jeitos: por valor e por posição. O remove irá remover o primeiro elemento encontrado na lista com um dado valor. Ex:\n",
        "\n"
      ],
      "metadata": {
        "id": "L_GN6FPnC7YP"
      }
    },
    {
      "cell_type": "code",
      "source": [
        "impares = [1, 3, 3, 5, 7, 9]\n",
        "impares.remove(3)\n",
        "print(impares) # resultado: [1, 3, 5, 7, 9]\n",
        "\n",
        "#O pop remove o elemento que estiver em uma dada posição, independentemente de seu valor:\n",
        "\n"
      ],
      "metadata": {
        "colab": {
          "base_uri": "https://localhost:8080/"
        },
        "id": "EAFapK1EDDoU",
        "outputId": "71d157ab-efce-4659-d280-f1618b17dca2"
      },
      "execution_count": null,
      "outputs": [
        {
          "output_type": "stream",
          "name": "stdout",
          "text": [
            "[1, 3, 5, 7, 9]\n"
          ]
        }
      ]
    },
    {
      "cell_type": "code",
      "source": [
        "impares = [1, 3, 5, 7, 8, 9]\n",
        "impares.pop(4)\n",
        "print(impares) # resultado: [1, 3, 5, 7, 9]\n",
        "\n",
        "#Se nenhum valor for passado no pop, ele irá remover necessariamente o último elemento da lista."
      ],
      "metadata": {
        "colab": {
          "base_uri": "https://localhost:8080/"
        },
        "id": "ohxwtJ8vDG6O",
        "outputId": "aab092da-36fe-4c42-8e05-a054bf392f8b"
      },
      "execution_count": null,
      "outputs": [
        {
          "output_type": "stream",
          "name": "stdout",
          "text": [
            "[1, 3, 5, 7, 9]\n"
          ]
        }
      ]
    },
    {
      "cell_type": "markdown",
      "source": [
        "######**Para deletar um item da lista:**\n",
        "\n",
        "- **del:** remove um item da lista baseado na posição indicada;\n",
        "-**remove():** remove um item baseado no seu valor e não na sua posição;\n",
        "-**pop():** remove da lista_compras o último item, mas não o exclui."
      ],
      "metadata": {
        "id": "C0BoYWYkEYK-"
      }
    },
    {
      "cell_type": "markdown",
      "source": [
        "##**Ordenando a lista**\n",
        "\n",
        "###Podemos ordenar a lista usando o **sort**.\n",
        "\n"
      ],
      "metadata": {
        "id": "uKtPgttVE0dP"
      }
    },
    {
      "cell_type": "code",
      "source": [
        "fibonacci = [8, 1, 0, 5, 13, 1, 3, 2]\n",
        "fibonacci.sort()\n",
        "print(fibonacci) # resultado: [0, 1, 1, 2, 3, 5, 8, 13]\n",
        "\n"
      ],
      "metadata": {
        "colab": {
          "base_uri": "https://localhost:8080/"
        },
        "id": "qj-N0xlpFOYD",
        "outputId": "68b62602-20fc-49c3-d04f-090879a69c3d"
      },
      "execution_count": null,
      "outputs": [
        {
          "output_type": "stream",
          "name": "stdout",
          "text": [
            "[0, 1, 1, 2, 3, 5, 8, 13]\n"
          ]
        }
      ]
    },
    {
      "cell_type": "markdown",
      "source": [
        "###Caso desejássemos ordenar em ordem decrescente, podemos passar a opção reverse = True para o sort:\n",
        "\n"
      ],
      "metadata": {
        "id": "pfZkapANFS7N"
      }
    },
    {
      "cell_type": "code",
      "source": [
        "fibonacci = [8, 1, 0, 5, 13, 1, 3, 2]\n",
        "fibonacci.sort(reverse = True)\n",
        "print(fibonacci) # resultado: [13, 8, 5, 3, 2, 1, 1, 0]\n"
      ],
      "metadata": {
        "colab": {
          "base_uri": "https://localhost:8080/"
        },
        "id": "m4DANrIdFcYP",
        "outputId": "bf246f28-894b-4221-8ff3-5dae799b4140"
      },
      "execution_count": null,
      "outputs": [
        {
          "output_type": "stream",
          "name": "stdout",
          "text": [
            "[13, 8, 5, 3, 2, 1, 1, 0]\n"
          ]
        }
      ]
    },
    {
      "cell_type": "markdown",
      "source": [
        "#####**Importante**: o sort só irá funcionar caso sua lista possua apenas elementos que podem ser comparados entre si (apenas strings ou apenas números, por exemplo). Se uma lista contém tanto strings quanto números, o sort não saberá o que vem primeiro.\n",
        "\n",
        "#####Um problema do sort é que ele irá reordenar a própria lista. Muitas vezes precisamos preservar a lista original, e obter uma nova com a ordenação desejada. Neste caso, podemos utilizar o sorted:\n",
        "\n"
      ],
      "metadata": {
        "id": "-peTMQx9FfWn"
      }
    },
    {
      "cell_type": "code",
      "source": [
        "fibonacci = [8, 1, 0, 5, 13, 1, 3, 2]\n",
        "fibonacci_ordenada = sorted(fibonacci)\n",
        "print(fibonacci_ordenada, fibonacci) # resultado: [0, 1, 1, 2, 3, 5, 8, 13] [8, 1, 0, 5, 13, 1, 3, 2]\n",
        "\n"
      ],
      "metadata": {
        "colab": {
          "base_uri": "https://localhost:8080/"
        },
        "id": "fmSPVmMOFoMQ",
        "outputId": "f843c359-a8aa-4954-9f92-476f967cad1c"
      },
      "execution_count": null,
      "outputs": [
        {
          "output_type": "stream",
          "name": "stdout",
          "text": [
            "[0, 1, 1, 2, 3, 5, 8, 13] [8, 1, 0, 5, 13, 1, 3, 2]\n"
          ]
        }
      ]
    },
    {
      "cell_type": "markdown",
      "source": [
        "###O **sorted** também aceita o parâmetro reverse para aplicar ordem decrescente.\n",
        "\n",
        "###Falando em ordem decrescente, é possível simplesmente inverter a ordem dos elementos de uma lista utilizando o **reverse**:\n",
        "\n"
      ],
      "metadata": {
        "id": "SVu-bqa6Fra8"
      }
    },
    {
      "cell_type": "code",
      "source": [
        "lista = [1, 5, 'dois', 4, 3.14]\n",
        "lista.reverse()\n",
        "print(lista) # resultado: [3.14, 4, 'dois', 5, 1]"
      ],
      "metadata": {
        "colab": {
          "base_uri": "https://localhost:8080/"
        },
        "id": "Q1lfNs-nFwS8",
        "outputId": "cfb4646c-e84e-4813-a085-cc3ea4316b7e"
      },
      "execution_count": null,
      "outputs": [
        {
          "output_type": "stream",
          "name": "stdout",
          "text": [
            "[3.14, 4, 'dois', 5, 1]\n"
          ]
        }
      ]
    },
    {
      "cell_type": "markdown",
      "source": [
        "##**Buscando um elemento da lista**\n",
        "\n",
        "###Podemos buscar um elemento (descobrir sua posição) utilizando a função **index**. Ela irá informar a primeira posição onde um elemento for encontrado:\n",
        "\n"
      ],
      "metadata": {
        "id": "cWh8iVRVGXge"
      }
    },
    {
      "cell_type": "code",
      "source": [
        "pi = [3, 1, 4, 1, 5, 9, 2, 6, 5]\n",
        "posicao = pi.index(5)\n",
        "print(posicao) # resultado: 4\n",
        "\n",
        "#Atenção: caso o elemento buscado não exista, a função index dará erro. Considere utilizar o in para verificar se o elemento existe na lista antes de usar o index."
      ],
      "metadata": {
        "colab": {
          "base_uri": "https://localhost:8080/"
        },
        "id": "B7k8yeXLGfQr",
        "outputId": "8d98d72a-81fb-42c9-eea6-f1678d3e64ae"
      },
      "execution_count": null,
      "outputs": [
        {
          "output_type": "stream",
          "name": "stdout",
          "text": [
            "4\n"
          ]
        }
      ]
    },
    {
      "cell_type": "markdown",
      "source": [
        "###**Indexação Negativa**\n",
        "\n",
        "###Indexação negativa significa começar do fim, -1 refere-se ao último item, -2 refere-se ao segundo último item, etc.\n",
        "\n"
      ],
      "metadata": {
        "id": "p_Qe-OR7J60K"
      }
    },
    {
      "cell_type": "markdown",
      "source": [
        "###Exemplo: Imprima o último item da lista:\n",
        "\n"
      ],
      "metadata": {
        "id": "xt4OkvXyKHXt"
      }
    },
    {
      "cell_type": "code",
      "source": [
        "lista= [\"banana\", \"maça\", \"morango\", \"coco\", \"pêra\"]\n",
        "\n",
        "print(lista[-1])"
      ],
      "metadata": {
        "colab": {
          "base_uri": "https://localhost:8080/"
        },
        "id": "hPbxs3E3KOVt",
        "outputId": "75b67dba-0ab4-4395-ae6e-ac42e4ff82ae"
      },
      "execution_count": null,
      "outputs": [
        {
          "output_type": "stream",
          "name": "stdout",
          "text": [
            "pêra\n"
          ]
        }
      ]
    },
    {
      "cell_type": "markdown",
      "source": [
        "##**Informações sobre a lista**\n",
        "\n",
        "###Podemos obter alguns dados sobre a nossa lista: seu tamanho atual (len), seu maior valor (max) e seu menor valor (min).\n",
        "\n"
      ],
      "metadata": {
        "id": "npBnDrStHBRG"
      }
    },
    {
      "cell_type": "code",
      "source": [
        "pi = [3, 1, 4, 1, 5, 9, 2, 6]\n",
        "tamanho = len(pi)   # len retorna o tamanho da lista\n",
        "maior = max(pi)     # max retorna maior valor da lista\n",
        "menor = min(pi)     # min retorna o menor valor da lista\n",
        "soma= sum(pi)       # sum  retorna a soma da lista\n",
        "print(tamanho, maior, menor,soma) # resultado: 8 9 1 31"
      ],
      "metadata": {
        "colab": {
          "base_uri": "https://localhost:8080/"
        },
        "id": "xtSWzmowHHb8",
        "outputId": "d217e9a3-a23b-4777-d464-80797b0fb4a8"
      },
      "execution_count": null,
      "outputs": [
        {
          "output_type": "stream",
          "name": "stdout",
          "text": [
            "8 9 1 31\n"
          ]
        }
      ]
    },
    {
      "cell_type": "code",
      "source": [
        "l=[1,2,3,4,5,6,7,8,9,1]\n",
        "l.count(2) # retorna contagem de um valor dentro da lista, ou seja, ele conta quantos numeros 2 tem na lista, no nosso exemplo temos somente 1."
      ],
      "metadata": {
        "colab": {
          "base_uri": "https://localhost:8080/"
        },
        "id": "XAqdzaeUH4t9",
        "outputId": "19f94d49-b7b6-4b04-f1ec-fc92477a829d"
      },
      "execution_count": null,
      "outputs": [
        {
          "output_type": "execute_result",
          "data": {
            "text/plain": [
              "1"
            ]
          },
          "metadata": {},
          "execution_count": 28
        }
      ]
    },
    {
      "cell_type": "markdown",
      "source": [
        "#####**l.clear()**:  remove todos elementos da lista."
      ],
      "metadata": {
        "id": "5LkX4t9JJRSn"
      }
    },
    {
      "cell_type": "markdown",
      "source": [
        "##**Praticando**"
      ],
      "metadata": {
        "id": "Omhga2AoJFSs"
      }
    },
    {
      "cell_type": "markdown",
      "source": [
        "###**Faça um programa que leia um número indeterminado de notas. Após esta entrada de dados, faça o seguinte:**\n",
        "- Mostre a quantidade de notas que foram lidas.\n",
        "- Exiba todas as notas na ordem em que foram\n",
        "informadas.\n",
        "- Exiba todas as notas na ordem inversa à que\n",
        "foram informadas, uma abaixo do outra.\n",
        "- Calcule e mostre a soma das notas.\n",
        "- Calcule e mostre a média das notas.\n",
        "- Calcule e mostre a quantidade de notas acima da média calculada."
      ],
      "metadata": {
        "id": "-tsN_sxxJCR2"
      }
    },
    {
      "cell_type": "code",
      "source": [
        "n = [7,8,3,5,9,9,5,1,2,2,5,6,7,8]\n",
        "\n",
        "print(f\"Quantidade de notas lidas: {len(n)}\")\n",
        "\n",
        "print(f\"Todas as notas na ordem em que foram informadas\")\n",
        "for i in n:\n",
        "    print(i)\n",
        "\n",
        "print(\"Todas as notas na ordem inversa à que foram informadas, uma abaixo do outra\")\n",
        "\n",
        "n.reverse()\n",
        "\n",
        "for i in n:\n",
        "    print(i)\n",
        "\n",
        "\n",
        "print(f\"Soma das notas: {sum(n)}\")\n",
        "\n",
        "media = sum(n)/len(n)\n",
        "print(f\"Média das notas: {media}\")\n",
        "\n",
        "print(\"Calcule e mostre a quantidade de notas acima da média calculada\")\n",
        "\n",
        "cont = 0\n",
        "for i in n:\n",
        "    if i>media:\n",
        "        cont += 1\n",
        "print(cont)"
      ],
      "metadata": {
        "colab": {
          "base_uri": "https://localhost:8080/"
        },
        "id": "avgqcQQuJdqD",
        "outputId": "eda29a9d-6557-44a8-97d3-7d113d85d20d"
      },
      "execution_count": null,
      "outputs": [
        {
          "output_type": "stream",
          "name": "stdout",
          "text": [
            "Quantidade de notas lidas: 14\n",
            "Todas as notas na ordem em que foram informadas\n",
            "7\n",
            "8\n",
            "3\n",
            "5\n",
            "9\n",
            "9\n",
            "5\n",
            "1\n",
            "2\n",
            "2\n",
            "5\n",
            "6\n",
            "7\n",
            "8\n",
            "Todas as notas na ordem inversa à que foram informadas, uma abaixo do outra\n",
            "8\n",
            "7\n",
            "6\n",
            "5\n",
            "2\n",
            "2\n",
            "1\n",
            "5\n",
            "9\n",
            "9\n",
            "5\n",
            "3\n",
            "8\n",
            "7\n",
            "Soma das notas: 77\n",
            "Média das notas: 5.5\n",
            "Calcule e mostre a quantidade de notas acima da média calculada\n",
            "7\n"
          ]
        }
      ]
    }
  ]
}